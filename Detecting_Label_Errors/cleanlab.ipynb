{
 "cells": [
  {
   "cell_type": "code",
   "execution_count": 1,
   "metadata": {},
   "outputs": [],
   "source": [
    "import os\n",
    "import json\n",
    "import numpy as np\n",
    "import pandas as pd\n"
   ]
  },
  {
   "cell_type": "code",
   "execution_count": 2,
   "metadata": {},
   "outputs": [],
   "source": [
    "from cleanlab.classification import CleanLearning\n",
    "from cleanlab.filter import find_label_issues"
   ]
  },
  {
   "cell_type": "code",
   "execution_count": 3,
   "metadata": {},
   "outputs": [],
   "source": [
    "# defining relative paths\n",
    "parent_dir = os.path.dirname(os.path.abspath(os.getcwd()))\n",
    "data_dir = os.path.join(parent_dir, \"Data\")"
   ]
  },
  {
   "cell_type": "markdown",
   "metadata": {},
   "source": [
    "### Feeding Cleanlab with previously predicted test data"
   ]
  },
  {
   "cell_type": "code",
   "execution_count": 4,
   "metadata": {},
   "outputs": [],
   "source": [
    "eval_df = pd.read_csv(os.path.join(data_dir,\"eval_df.csv\"))"
   ]
  },
  {
   "cell_type": "code",
   "execution_count": 5,
   "metadata": {},
   "outputs": [],
   "source": [
    "def prob2probArray(binary_label, label_prob):\n",
    "    other_prob = 1 - label_prob\n",
    "    prob_list = [other_prob, label_prob] if binary_label else [label_prob, other_prob]\n",
    "    return prob_list # np.asanyarray(prob_list)"
   ]
  },
  {
   "cell_type": "code",
   "execution_count": 6,
   "metadata": {},
   "outputs": [],
   "source": [
    "pred_probs = eval_df.apply(lambda x: prob2probArray(x.gpt3_predictions, x.gpt3_probability), axis=1)"
   ]
  },
  {
   "cell_type": "code",
   "execution_count": 7,
   "metadata": {},
   "outputs": [
    {
     "data": {
      "text/plain": [
       "(140, 2)"
      ]
     },
     "execution_count": 7,
     "metadata": {},
     "output_type": "execute_result"
    }
   ],
   "source": [
    "gpt3_prediction_prob = pred_probs.values.tolist()\n",
    "gpt3_prediction_prob = np.array(gpt3_prediction_prob)\n",
    "gpt3_prediction_prob.shape"
   ]
  },
  {
   "cell_type": "code",
   "execution_count": 8,
   "metadata": {},
   "outputs": [],
   "source": [
    "ordered_label_issues = find_label_issues(\n",
    "    labels = eval_df.check_worthiness,\n",
    "    pred_probs = gpt3_prediction_prob, \n",
    "    return_indices_ranked_by = 'self_confidence',\n",
    ")"
   ]
  },
  {
   "cell_type": "code",
   "execution_count": 9,
   "metadata": {},
   "outputs": [
    {
     "data": {
      "text/plain": [
       "array([120,  38,  59,  76,  51,  63,  42,  15,  23,  36,  55, 121, 119,\n",
       "       104,  88,  91,  54,  14, 101,  29,  56, 110,  22,  72, 134, 107,\n",
       "       137,  82,  90])"
      ]
     },
     "execution_count": 9,
     "metadata": {},
     "output_type": "execute_result"
    }
   ],
   "source": [
    "ordered_label_issues "
   ]
  },
  {
   "cell_type": "code",
   "execution_count": 10,
   "metadata": {},
   "outputs": [
    {
     "data": {
      "text/plain": [
       "(29,)"
      ]
     },
     "execution_count": 10,
     "metadata": {},
     "output_type": "execute_result"
    }
   ],
   "source": [
    "ordered_label_issues.shape"
   ]
  },
  {
   "cell_type": "code",
   "execution_count": null,
   "metadata": {},
   "outputs": [
    {
     "data": {
      "text/plain": [
       "array([120,  38,  59,  76,  51,  63,  42,  15,  23,  36,  55, 121, 119,\n",
       "       104,  88,  91,  54,  14, 101,  29,  56, 110,  22,  72, 134, 107,\n",
       "       137,  82,  90])"
      ]
     },
     "metadata": {},
     "output_type": "display_data"
    }
   ],
   "source": [
    "ordered_label_issues"
   ]
  },
  {
   "cell_type": "code",
   "execution_count": 34,
   "metadata": {},
   "outputs": [],
   "source": [
    "def print_row_details(_index):\n",
    "    print(eval_df.iloc[_index].tweet_text)\n",
    "    print(f\"Dataset label: {eval_df.iloc[_index].check_worthiness}\")\n",
    "    print(f\"GPT3 Predictions: {eval_df.iloc[_index].gpt3_predictions}\")\n",
    "    print(f\"GPT3 probability: {eval_df.iloc[_index].gpt3_probability}\")\n",
    "    print(\"***\")"
   ]
  },
  {
   "cell_type": "code",
   "execution_count": null,
   "metadata": {},
   "outputs": [],
   "source": [
    "for _index in ordered_label_issues:\n",
    "    print_row_details(_index)"
   ]
  },
  {
   "cell_type": "code",
   "execution_count": null,
   "metadata": {},
   "outputs": [],
   "source": []
  },
  {
   "cell_type": "code",
   "execution_count": null,
   "metadata": {},
   "outputs": [],
   "source": [
    "false_predictions = eval_df[eval_df.check_worthiness != eval_df.gpt3_predictions]"
   ]
  },
  {
   "cell_type": "code",
   "execution_count": null,
   "metadata": {},
   "outputs": [],
   "source": [
    "false_predictions = false_predictions.sort_values('gpt3_probability',ascending=False)"
   ]
  },
  {
   "cell_type": "code",
   "execution_count": null,
   "metadata": {},
   "outputs": [],
   "source": [
    "false_predictions.index"
   ]
  },
  {
   "cell_type": "code",
   "execution_count": null,
   "metadata": {},
   "outputs": [],
   "source": [
    "ordered_label_issues"
   ]
  },
  {
   "cell_type": "code",
   "execution_count": null,
   "metadata": {},
   "outputs": [],
   "source": [
    "pd.set_option(\"display.max_colwidth\", 300)\n",
    "false_predictions[[\"tweet_text\", \"check_worthiness\", \"gpt3_predictions\", \"gpt3_probability\"]].head(3)"
   ]
  },
  {
   "cell_type": "markdown",
   "metadata": {},
   "source": [
    "### Feeding Cleanlab with  that previously predicted by cross validation"
   ]
  },
  {
   "cell_type": "code",
   "execution_count": 18,
   "metadata": {},
   "outputs": [],
   "source": [
    "train_df = pd.read_csv(os.path.join(data_dir,\"train_predictions_df.csv\"))"
   ]
  },
  {
   "cell_type": "code",
   "execution_count": 39,
   "metadata": {},
   "outputs": [],
   "source": [
    "train_pred_probs = train_df.apply(lambda x: [1-x.bertweet_probability, x.bertweet_probability], axis=1)"
   ]
  },
  {
   "cell_type": "code",
   "execution_count": 41,
   "metadata": {},
   "outputs": [],
   "source": [
    "train_pred_probs = train_pred_probs.values.tolist()\n",
    "train_pred_probs = np.array(train_pred_probs)"
   ]
  },
  {
   "cell_type": "code",
   "execution_count": 42,
   "metadata": {},
   "outputs": [],
   "source": [
    "ordered_train_label_issues = find_label_issues(\n",
    "    labels=train_df.check_worthiness,\n",
    "    pred_probs=train_pred_probs,  # out-of-sample predicted probabilities from any model\n",
    "    return_indices_ranked_by='self_confidence',\n",
    ")"
   ]
  },
  {
   "cell_type": "code",
   "execution_count": 52,
   "metadata": {},
   "outputs": [],
   "source": [
    "def print_row_details(_index):\n",
    "    print(train_df.iloc[_index].tweet_text)\n",
    "    print(f\"Dataset label: {train_df.iloc[_index].check_worthiness}\")\n",
    "    print(f\"Bertweet Predictions: {train_df.iloc[_index].bertweet_predictions}\")\n",
    "    print(f\"Bertweet probability: {train_df.iloc[_index].bertweet_probability}\")\n",
    "    print(\"\\n***\\n\")"
   ]
  },
  {
   "cell_type": "code",
   "execution_count": null,
   "metadata": {},
   "outputs": [],
   "source": [
    "for _index in ordered_train_label_issues:\n",
    "    print_row_details(_index)"
   ]
  },
  {
   "cell_type": "code",
   "execution_count": 56,
   "metadata": {},
   "outputs": [],
   "source": [
    "label_issues_list = find_label_issues(\n",
    "    labels=train_df.check_worthiness,\n",
    "    pred_probs=train_pred_probs,  # out-of-sample predicted probabilities from any model\n",
    ")"
   ]
  },
  {
   "cell_type": "code",
   "execution_count": 59,
   "metadata": {},
   "outputs": [],
   "source": [
    "train_df[\"label_issue\"] = label_issues_list"
   ]
  },
  {
   "cell_type": "code",
   "execution_count": 77,
   "metadata": {},
   "outputs": [],
   "source": [
    "filtered_train_df = train_df[(train_df[\"label_issue\"]==False)]"
   ]
  },
  {
   "cell_type": "code",
   "execution_count": 80,
   "metadata": {},
   "outputs": [],
   "source": [
    "filtered_train_df.to_csv(\"train_english_filtered.tsv\", encoding='utf-8', index=False, sep='\\t')"
   ]
  },
  {
   "cell_type": "code",
   "execution_count": null,
   "metadata": {},
   "outputs": [],
   "source": []
  },
  {
   "cell_type": "code",
   "execution_count": 72,
   "metadata": {},
   "outputs": [
    {
     "data": {
      "text/html": [
       "<div>\n",
       "<style scoped>\n",
       "    .dataframe tbody tr th:only-of-type {\n",
       "        vertical-align: middle;\n",
       "    }\n",
       "\n",
       "    .dataframe tbody tr th {\n",
       "        vertical-align: top;\n",
       "    }\n",
       "\n",
       "    .dataframe thead th {\n",
       "        text-align: right;\n",
       "    }\n",
       "</style>\n",
       "<table border=\"1\" class=\"dataframe\">\n",
       "  <thead>\n",
       "    <tr style=\"text-align: right;\">\n",
       "      <th></th>\n",
       "      <th>tweet_text</th>\n",
       "      <th>check_worthiness</th>\n",
       "      <th>bertweet_predictions</th>\n",
       "      <th>bertweet_probability</th>\n",
       "      <th>label_issue</th>\n",
       "    </tr>\n",
       "  </thead>\n",
       "  <tbody>\n",
       "    <tr>\n",
       "      <th>0</th>\n",
       "      <td>Since this will never get reported by the medi...</td>\n",
       "      <td>1</td>\n",
       "      <td>1</td>\n",
       "      <td>0.635311</td>\n",
       "      <td>False</td>\n",
       "    </tr>\n",
       "    <tr>\n",
       "      <th>1</th>\n",
       "      <td>Thanks, MichaelBloomberg. Here’s a handy littl...</td>\n",
       "      <td>0</td>\n",
       "      <td>0</td>\n",
       "      <td>0.010500</td>\n",
       "      <td>False</td>\n",
       "    </tr>\n",
       "    <tr>\n",
       "      <th>2</th>\n",
       "      <td>Folks, when you say \"The COVID-19 isn't a big ...</td>\n",
       "      <td>0</td>\n",
       "      <td>0</td>\n",
       "      <td>0.024375</td>\n",
       "      <td>False</td>\n",
       "    </tr>\n",
       "    <tr>\n",
       "      <th>5</th>\n",
       "      <td>I live in Seattle, I have all symptoms of COVI...</td>\n",
       "      <td>0</td>\n",
       "      <td>0</td>\n",
       "      <td>0.039284</td>\n",
       "      <td>False</td>\n",
       "    </tr>\n",
       "    <tr>\n",
       "      <th>6</th>\n",
       "      <td>my dad said \"why don't they just cure COVID-19...</td>\n",
       "      <td>0</td>\n",
       "      <td>0</td>\n",
       "      <td>0.032007</td>\n",
       "      <td>False</td>\n",
       "    </tr>\n",
       "    <tr>\n",
       "      <th>...</th>\n",
       "      <td>...</td>\n",
       "      <td>...</td>\n",
       "      <td>...</td>\n",
       "      <td>...</td>\n",
       "      <td>...</td>\n",
       "    </tr>\n",
       "    <tr>\n",
       "      <th>817</th>\n",
       "      <td>Stop spreading fake news COVID-19</td>\n",
       "      <td>0</td>\n",
       "      <td>0</td>\n",
       "      <td>0.102101</td>\n",
       "      <td>False</td>\n",
       "    </tr>\n",
       "    <tr>\n",
       "      <th>818</th>\n",
       "      <td>It's fake! It's fake!' shout residents of a co...</td>\n",
       "      <td>1</td>\n",
       "      <td>1</td>\n",
       "      <td>0.983913</td>\n",
       "      <td>False</td>\n",
       "    </tr>\n",
       "    <tr>\n",
       "      <th>819</th>\n",
       "      <td>Be Smart about COVID-19: 1⃣ follow accurate pu...</td>\n",
       "      <td>0</td>\n",
       "      <td>0</td>\n",
       "      <td>0.006635</td>\n",
       "      <td>False</td>\n",
       "    </tr>\n",
       "    <tr>\n",
       "      <th>820</th>\n",
       "      <td>On the left: , a Qatari puppet, attacks Saudi ...</td>\n",
       "      <td>1</td>\n",
       "      <td>1</td>\n",
       "      <td>0.988063</td>\n",
       "      <td>False</td>\n",
       "    </tr>\n",
       "    <tr>\n",
       "      <th>821</th>\n",
       "      <td>Could this be reason why COVID-19 has spread i...</td>\n",
       "      <td>1</td>\n",
       "      <td>1</td>\n",
       "      <td>0.937985</td>\n",
       "      <td>False</td>\n",
       "    </tr>\n",
       "  </tbody>\n",
       "</table>\n",
       "<p>660 rows × 5 columns</p>\n",
       "</div>"
      ],
      "text/plain": [
       "                                            tweet_text  check_worthiness  \\\n",
       "0    Since this will never get reported by the medi...                 1   \n",
       "1    Thanks, MichaelBloomberg. Here’s a handy littl...                 0   \n",
       "2    Folks, when you say \"The COVID-19 isn't a big ...                 0   \n",
       "5    I live in Seattle, I have all symptoms of COVI...                 0   \n",
       "6    my dad said \"why don't they just cure COVID-19...                 0   \n",
       "..                                                 ...               ...   \n",
       "817                  Stop spreading fake news COVID-19                 0   \n",
       "818  It's fake! It's fake!' shout residents of a co...                 1   \n",
       "819  Be Smart about COVID-19: 1⃣ follow accurate pu...                 0   \n",
       "820  On the left: , a Qatari puppet, attacks Saudi ...                 1   \n",
       "821  Could this be reason why COVID-19 has spread i...                 1   \n",
       "\n",
       "     bertweet_predictions  bertweet_probability  label_issue  \n",
       "0                       1              0.635311        False  \n",
       "1                       0              0.010500        False  \n",
       "2                       0              0.024375        False  \n",
       "5                       0              0.039284        False  \n",
       "6                       0              0.032007        False  \n",
       "..                    ...                   ...          ...  \n",
       "817                     0              0.102101        False  \n",
       "818                     1              0.983913        False  \n",
       "819                     0              0.006635        False  \n",
       "820                     1              0.988063        False  \n",
       "821                     1              0.937985        False  \n",
       "\n",
       "[660 rows x 5 columns]"
      ]
     },
     "execution_count": 72,
     "metadata": {},
     "output_type": "execute_result"
    }
   ],
   "source": [
    "train_df[train_df[\"check_worthiness\"]==train_df[\"bertweet_predictions\"] ]"
   ]
  },
  {
   "cell_type": "code",
   "execution_count": 75,
   "metadata": {},
   "outputs": [
    {
     "data": {
      "text/html": [
       "<div>\n",
       "<style scoped>\n",
       "    .dataframe tbody tr th:only-of-type {\n",
       "        vertical-align: middle;\n",
       "    }\n",
       "\n",
       "    .dataframe tbody tr th {\n",
       "        vertical-align: top;\n",
       "    }\n",
       "\n",
       "    .dataframe thead th {\n",
       "        text-align: right;\n",
       "    }\n",
       "</style>\n",
       "<table border=\"1\" class=\"dataframe\">\n",
       "  <thead>\n",
       "    <tr style=\"text-align: right;\">\n",
       "      <th></th>\n",
       "      <th>tweet_text</th>\n",
       "      <th>check_worthiness</th>\n",
       "      <th>bertweet_predictions</th>\n",
       "      <th>bertweet_probability</th>\n",
       "      <th>label_issue</th>\n",
       "    </tr>\n",
       "  </thead>\n",
       "  <tbody>\n",
       "    <tr>\n",
       "      <th>291</th>\n",
       "      <td>I tweeted a link to an COVID-19 tracker and so...</td>\n",
       "      <td>0</td>\n",
       "      <td>1</td>\n",
       "      <td>0.571549</td>\n",
       "      <td>False</td>\n",
       "    </tr>\n",
       "    <tr>\n",
       "      <th>398</th>\n",
       "      <td>COVID-19 cases increase exponentially. China 1...</td>\n",
       "      <td>1</td>\n",
       "      <td>0</td>\n",
       "      <td>0.294081</td>\n",
       "      <td>False</td>\n",
       "    </tr>\n",
       "    <tr>\n",
       "      <th>401</th>\n",
       "      <td>Reaction from various teams after hearing IPL ...</td>\n",
       "      <td>0</td>\n",
       "      <td>1</td>\n",
       "      <td>0.567785</td>\n",
       "      <td>False</td>\n",
       "    </tr>\n",
       "    <tr>\n",
       "      <th>420</th>\n",
       "      <td>With recorded COVID-19 cases (outside china) s...</td>\n",
       "      <td>0</td>\n",
       "      <td>1</td>\n",
       "      <td>0.527964</td>\n",
       "      <td>False</td>\n",
       "    </tr>\n",
       "    <tr>\n",
       "      <th>435</th>\n",
       "      <td>Soap kills COVID-19 - the molecular chemistry ...</td>\n",
       "      <td>1</td>\n",
       "      <td>0</td>\n",
       "      <td>0.490705</td>\n",
       "      <td>False</td>\n",
       "    </tr>\n",
       "    <tr>\n",
       "      <th>454</th>\n",
       "      <td>When the Seattle researchers found COVID-19 in...</td>\n",
       "      <td>1</td>\n",
       "      <td>0</td>\n",
       "      <td>0.332599</td>\n",
       "      <td>False</td>\n",
       "    </tr>\n",
       "    <tr>\n",
       "      <th>628</th>\n",
       "      <td>Hungarian Justice Min. sends bill to Parliamen...</td>\n",
       "      <td>1</td>\n",
       "      <td>0</td>\n",
       "      <td>0.425440</td>\n",
       "      <td>False</td>\n",
       "    </tr>\n",
       "    <tr>\n",
       "      <th>690</th>\n",
       "      <td>There's not a single confirmed case of an Asia...</td>\n",
       "      <td>0</td>\n",
       "      <td>1</td>\n",
       "      <td>0.549060</td>\n",
       "      <td>False</td>\n",
       "    </tr>\n",
       "    <tr>\n",
       "      <th>772</th>\n",
       "      <td>Just like all the other fake stuff they do, th...</td>\n",
       "      <td>1</td>\n",
       "      <td>0</td>\n",
       "      <td>0.445672</td>\n",
       "      <td>False</td>\n",
       "    </tr>\n",
       "    <tr>\n",
       "      <th>774</th>\n",
       "      <td>hakyeon: ive donated money toward overcoming t...</td>\n",
       "      <td>1</td>\n",
       "      <td>0</td>\n",
       "      <td>0.396126</td>\n",
       "      <td>False</td>\n",
       "    </tr>\n",
       "  </tbody>\n",
       "</table>\n",
       "</div>"
      ],
      "text/plain": [
       "                                            tweet_text  check_worthiness  \\\n",
       "291  I tweeted a link to an COVID-19 tracker and so...                 0   \n",
       "398  COVID-19 cases increase exponentially. China 1...                 1   \n",
       "401  Reaction from various teams after hearing IPL ...                 0   \n",
       "420  With recorded COVID-19 cases (outside china) s...                 0   \n",
       "435  Soap kills COVID-19 - the molecular chemistry ...                 1   \n",
       "454  When the Seattle researchers found COVID-19 in...                 1   \n",
       "628  Hungarian Justice Min. sends bill to Parliamen...                 1   \n",
       "690  There's not a single confirmed case of an Asia...                 0   \n",
       "772  Just like all the other fake stuff they do, th...                 1   \n",
       "774  hakyeon: ive donated money toward overcoming t...                 1   \n",
       "\n",
       "     bertweet_predictions  bertweet_probability  label_issue  \n",
       "291                     1              0.571549        False  \n",
       "398                     0              0.294081        False  \n",
       "401                     1              0.567785        False  \n",
       "420                     1              0.527964        False  \n",
       "435                     0              0.490705        False  \n",
       "454                     0              0.332599        False  \n",
       "628                     0              0.425440        False  \n",
       "690                     1              0.549060        False  \n",
       "772                     0              0.445672        False  \n",
       "774                     0              0.396126        False  "
      ]
     },
     "execution_count": 75,
     "metadata": {},
     "output_type": "execute_result"
    }
   ],
   "source": [
    "train_df[(train_df[\"label_issue\"]==False) & (train_df[\"check_worthiness\"]!=train_df[\"bertweet_predictions\"]) ]"
   ]
  },
  {
   "cell_type": "code",
   "execution_count": 45,
   "metadata": {},
   "outputs": [
    {
     "data": {
      "text/plain": [
       "tweet_text              Garlic may be tasty, but it WON'T protect you ...\n",
       "check_worthiness                                                        1\n",
       "bertweet_predictions                                                    0\n",
       "bertweet_probability                                             0.006102\n",
       "Name: 654, dtype: object"
      ]
     },
     "execution_count": 45,
     "metadata": {},
     "output_type": "execute_result"
    }
   ],
   "source": [
    "train_df.iloc[654]"
   ]
  },
  {
   "cell_type": "code",
   "execution_count": 44,
   "metadata": {},
   "outputs": [
    {
     "data": {
      "text/plain": [
       "array([654,  98, 170, 258, 378, 217, 356, 471, 719, 283, 226, 586, 102,\n",
       "       123, 555,  65, 514, 190, 494, 457, 737,  83, 455,  86, 446, 186,\n",
       "       445, 377, 643, 254, 627, 776, 757, 787, 599, 205, 251, 600, 475,\n",
       "       796, 162, 572, 206, 280, 327, 428, 333, 790, 248,  16, 209, 461,\n",
       "       559, 759, 681, 328, 672, 487, 365, 314, 185, 353, 611, 175, 118,\n",
       "        14, 663, 478, 212,  96, 517, 811, 706, 335, 622, 336, 752,  39,\n",
       "       281, 659,  31, 624, 126, 239, 608,  18, 367, 739, 709, 641, 786,\n",
       "       781,  77, 585, 490, 325, 778,  29, 379, 779, 173, 749, 506, 789,\n",
       "       149,  28, 637, 290,  55, 357, 651, 322, 619, 697, 730, 688, 234,\n",
       "       682, 271,   3, 355, 125, 617, 203, 145, 178, 660, 812, 284, 237,\n",
       "       289, 397,  22, 626,  82, 689, 636, 166, 771, 158, 802, 341,   4,\n",
       "       207, 272, 364, 633, 459, 297,  93,  80, 529])"
      ]
     },
     "execution_count": 44,
     "metadata": {},
     "output_type": "execute_result"
    }
   ],
   "source": [
    "ordered_train_label_issues"
   ]
  },
  {
   "cell_type": "code",
   "execution_count": 24,
   "metadata": {},
   "outputs": [
    {
     "data": {
      "text/plain": [
       "0               [0.36468893, 0.63531107]\n",
       "1             [0.010499758, 0.989500242]\n",
       "2             [0.024375355, 0.975624645]\n",
       "3      [0.15086275000000005, 0.84913725]\n",
       "4               [0.25631145, 0.74368855]\n",
       "                     ...                \n",
       "817           [0.102100775, 0.897899225]\n",
       "818     [0.016086999999999962, 0.983913]\n",
       "819           [0.006634871, 0.993365129]\n",
       "820    [0.011936700000000022, 0.9880633]\n",
       "821     [0.06201509999999999, 0.9379849]\n",
       "Length: 822, dtype: object"
      ]
     },
     "execution_count": 24,
     "metadata": {},
     "output_type": "execute_result"
    }
   ],
   "source": [
    "train_pred_probs"
   ]
  },
  {
   "cell_type": "code",
   "execution_count": 19,
   "metadata": {},
   "outputs": [
    {
     "data": {
      "text/html": [
       "<div>\n",
       "<style scoped>\n",
       "    .dataframe tbody tr th:only-of-type {\n",
       "        vertical-align: middle;\n",
       "    }\n",
       "\n",
       "    .dataframe tbody tr th {\n",
       "        vertical-align: top;\n",
       "    }\n",
       "\n",
       "    .dataframe thead th {\n",
       "        text-align: right;\n",
       "    }\n",
       "</style>\n",
       "<table border=\"1\" class=\"dataframe\">\n",
       "  <thead>\n",
       "    <tr style=\"text-align: right;\">\n",
       "      <th></th>\n",
       "      <th>tweet_text</th>\n",
       "      <th>check_worthiness</th>\n",
       "      <th>bertweet_predictions</th>\n",
       "      <th>bertweet_probability</th>\n",
       "    </tr>\n",
       "  </thead>\n",
       "  <tbody>\n",
       "    <tr>\n",
       "      <th>0</th>\n",
       "      <td>Since this will never get reported by the medi...</td>\n",
       "      <td>1</td>\n",
       "      <td>1</td>\n",
       "      <td>0.635311</td>\n",
       "    </tr>\n",
       "    <tr>\n",
       "      <th>1</th>\n",
       "      <td>Thanks, MichaelBloomberg. Here’s a handy littl...</td>\n",
       "      <td>0</td>\n",
       "      <td>0</td>\n",
       "      <td>0.010500</td>\n",
       "    </tr>\n",
       "    <tr>\n",
       "      <th>2</th>\n",
       "      <td>Folks, when you say \"The COVID-19 isn't a big ...</td>\n",
       "      <td>0</td>\n",
       "      <td>0</td>\n",
       "      <td>0.024375</td>\n",
       "    </tr>\n",
       "    <tr>\n",
       "      <th>3</th>\n",
       "      <td>Just 1 case of COVID-19 in India and people ar...</td>\n",
       "      <td>0</td>\n",
       "      <td>1</td>\n",
       "      <td>0.849137</td>\n",
       "    </tr>\n",
       "    <tr>\n",
       "      <th>4</th>\n",
       "      <td>President made a commitment to donate his sala...</td>\n",
       "      <td>1</td>\n",
       "      <td>0</td>\n",
       "      <td>0.256311</td>\n",
       "    </tr>\n",
       "    <tr>\n",
       "      <th>...</th>\n",
       "      <td>...</td>\n",
       "      <td>...</td>\n",
       "      <td>...</td>\n",
       "      <td>...</td>\n",
       "    </tr>\n",
       "    <tr>\n",
       "      <th>817</th>\n",
       "      <td>Stop spreading fake news COVID-19</td>\n",
       "      <td>0</td>\n",
       "      <td>0</td>\n",
       "      <td>0.102101</td>\n",
       "    </tr>\n",
       "    <tr>\n",
       "      <th>818</th>\n",
       "      <td>It's fake! It's fake!' shout residents of a co...</td>\n",
       "      <td>1</td>\n",
       "      <td>1</td>\n",
       "      <td>0.983913</td>\n",
       "    </tr>\n",
       "    <tr>\n",
       "      <th>819</th>\n",
       "      <td>Be Smart about COVID-19: 1⃣ follow accurate pu...</td>\n",
       "      <td>0</td>\n",
       "      <td>0</td>\n",
       "      <td>0.006635</td>\n",
       "    </tr>\n",
       "    <tr>\n",
       "      <th>820</th>\n",
       "      <td>On the left: , a Qatari puppet, attacks Saudi ...</td>\n",
       "      <td>1</td>\n",
       "      <td>1</td>\n",
       "      <td>0.988063</td>\n",
       "    </tr>\n",
       "    <tr>\n",
       "      <th>821</th>\n",
       "      <td>Could this be reason why COVID-19 has spread i...</td>\n",
       "      <td>1</td>\n",
       "      <td>1</td>\n",
       "      <td>0.937985</td>\n",
       "    </tr>\n",
       "  </tbody>\n",
       "</table>\n",
       "<p>822 rows × 4 columns</p>\n",
       "</div>"
      ],
      "text/plain": [
       "                                            tweet_text  check_worthiness  \\\n",
       "0    Since this will never get reported by the medi...                 1   \n",
       "1    Thanks, MichaelBloomberg. Here’s a handy littl...                 0   \n",
       "2    Folks, when you say \"The COVID-19 isn't a big ...                 0   \n",
       "3    Just 1 case of COVID-19 in India and people ar...                 0   \n",
       "4    President made a commitment to donate his sala...                 1   \n",
       "..                                                 ...               ...   \n",
       "817                  Stop spreading fake news COVID-19                 0   \n",
       "818  It's fake! It's fake!' shout residents of a co...                 1   \n",
       "819  Be Smart about COVID-19: 1⃣ follow accurate pu...                 0   \n",
       "820  On the left: , a Qatari puppet, attacks Saudi ...                 1   \n",
       "821  Could this be reason why COVID-19 has spread i...                 1   \n",
       "\n",
       "     bertweet_predictions  bertweet_probability  \n",
       "0                       1              0.635311  \n",
       "1                       0              0.010500  \n",
       "2                       0              0.024375  \n",
       "3                       1              0.849137  \n",
       "4                       0              0.256311  \n",
       "..                    ...                   ...  \n",
       "817                     0              0.102101  \n",
       "818                     1              0.983913  \n",
       "819                     0              0.006635  \n",
       "820                     1              0.988063  \n",
       "821                     1              0.937985  \n",
       "\n",
       "[822 rows x 4 columns]"
      ]
     },
     "execution_count": 19,
     "metadata": {},
     "output_type": "execute_result"
    }
   ],
   "source": [
    "train_df"
   ]
  },
  {
   "cell_type": "code",
   "execution_count": null,
   "metadata": {},
   "outputs": [],
   "source": []
  },
  {
   "cell_type": "markdown",
   "metadata": {},
   "source": [
    "### Feeding Cleanlab with raw classifier and training data"
   ]
  },
  {
   "cell_type": "code",
   "execution_count": 4,
   "metadata": {},
   "outputs": [],
   "source": [
    "from skorch import NeuralNetClassifier\n",
    "from sklearn.model_selection import cross_val_predict\n",
    "import torch\n",
    "from torch import nn\n",
    "import wandb\n",
    "\n",
    "#Custom modules\n",
    "import sys\n",
    "if \"..\" not in sys.path:\n",
    "    sys.path.append('../')\n",
    "import utils\n",
    "from utils import custom_models, early_stopping, worthiness_checker, constants"
   ]
  },
  {
   "cell_type": "code",
   "execution_count": 5,
   "metadata": {},
   "outputs": [],
   "source": [
    "os.environ[\"WANDB_SILENT\"] = \"true\"\n",
    "os.environ[\"WANDB_NOTEBOOK_NAME\"] = 'TransformersForClaimWorthiness.ipynb'\n",
    "\n",
    "# Constants\n",
    "device = torch.device('cuda' if torch.cuda.is_available() else 'cpu')\n",
    "parent_dir = os.path.dirname(os.path.abspath(os.getcwd()))\n",
    "seed_list = [7, 42] # seed_list = [7, 42, 127]\n",
    "fold_count = 3 #5\n",
    "patience=5\n",
    "loss_function = nn.BCELoss()\n",
    "\n",
    "metric_types = np.dtype(\n",
    "    [\n",
    "        (\"mAP\", float),\n",
    "        (\"auc\", float),\n",
    "        (\"accuracy\", float),\n",
    "        (\"precision\", float),\n",
    "        (\"recall\", float),\n",
    "        (\"f1\", float),\n",
    "        (\"mcc\", float),\n",
    "        (\"log_loss\", float),\n",
    "        (\"loss\", float)\n",
    "    ])"
   ]
  },
  {
   "cell_type": "code",
   "execution_count": 6,
   "metadata": {},
   "outputs": [],
   "source": [
    "constants = constants.Constants()\n",
    "constants.device = device\n",
    "constants.parent_dir = parent_dir\n",
    "constants.seed_list = seed_list\n",
    "constants.fold_count = fold_count\n",
    "constants.patience = patience\n",
    "constants.loss_function = loss_function\n",
    "constants.metric_types = metric_types"
   ]
  },
  {
   "cell_type": "code",
   "execution_count": 7,
   "metadata": {},
   "outputs": [
    {
     "name": "stderr",
     "output_type": "stream",
     "text": [
      "\u001b[34m\u001b[1mwandb\u001b[0m: Sorting runs by -summary_metrics.avg_val_mAP\n"
     ]
    },
    {
     "data": {
      "text/plain": [
       "0.7651173954688729"
      ]
     },
     "execution_count": 7,
     "metadata": {},
     "output_type": "execute_result"
    }
   ],
   "source": [
    "api = wandb.Api()\n",
    "best_sweep = '2afv0m0i' #bertweet\n",
    "sweep = api.sweep(\"cemulu/Transformers_For_ClaimWorthiness/\" + best_sweep)\n",
    "best_run = sweep.best_run()\n",
    "best_run.summary.get(\"avg_val_mAP\")"
   ]
  },
  {
   "cell_type": "code",
   "execution_count": 8,
   "metadata": {},
   "outputs": [
    {
     "name": "stdout",
     "output_type": "stream",
     "text": [
      "Epoch configuration of the best run:\n",
      "36\n",
      "Early stopped at:\n",
      "                   36    66    123    156    192    240\n",
      "fold_index         1.0   2.0   3.0    4.0    5.0    6.0\n",
      "cumulative_epoch  12.0  45.0  90.0  118.0  155.0  195.0\n",
      "epoch_of_fold     12.0   9.0  18.0   10.0   11.0   15.0\n",
      "\n",
      "Average epoch used as a reference for early stopping:  8\n"
     ]
    },
    {
     "name": "stderr",
     "output_type": "stream",
     "text": [
      "Special tokens have been added in the vocabulary, make sure the associated word embeddings are fine-tuned or trained.\n"
     ]
    }
   ],
   "source": [
    "worthiness_checker = utils.worthiness_checker.WorthinessChecker(best_run, constants)"
   ]
  },
  {
   "cell_type": "code",
   "execution_count": 9,
   "metadata": {},
   "outputs": [
    {
     "name": "stderr",
     "output_type": "stream",
     "text": [
      "Some weights of the model checkpoint at vinai/bertweet-covid19-base-uncased were not used when initializing RobertaModel: ['lm_head.decoder.bias', 'lm_head.decoder.weight', 'lm_head.layer_norm.bias', 'lm_head.dense.weight', 'lm_head.layer_norm.weight', 'lm_head.dense.bias', 'lm_head.bias']\n",
      "- This IS expected if you are initializing RobertaModel from the checkpoint of a model trained on another task or with another architecture (e.g. initializing a BertForSequenceClassification model from a BertForPreTraining model).\n",
      "- This IS NOT expected if you are initializing RobertaModel from the checkpoint of a model that you expect to be exactly identical (initializing a BertForSequenceClassification model from a BertForSequenceClassification model).\n"
     ]
    }
   ],
   "source": [
    "worthiness_checker.load_raw_model()"
   ]
  },
  {
   "cell_type": "code",
   "execution_count": 10,
   "metadata": {},
   "outputs": [],
   "source": [
    "model_skorch = NeuralNetClassifier(worthiness_checker.model)"
   ]
  },
  {
   "cell_type": "code",
   "execution_count": 11,
   "metadata": {},
   "outputs": [],
   "source": [
    "train_df = pd.read_csv(os.path.join(parent_dir, 'Data','train_english_cleaned_without_mentions.tsv'), delimiter='\\t')"
   ]
  },
  {
   "cell_type": "code",
   "execution_count": null,
   "metadata": {},
   "outputs": [],
   "source": [
    "train_df.index.values.tolist()"
   ]
  },
  {
   "cell_type": "code",
   "execution_count": null,
   "metadata": {},
   "outputs": [],
   "source": [
    "train_df.iloc[252].tweet_text          "
   ]
  },
  {
   "cell_type": "code",
   "execution_count": null,
   "metadata": {},
   "outputs": [],
   "source": []
  },
  {
   "cell_type": "code",
   "execution_count": null,
   "metadata": {},
   "outputs": [],
   "source": []
  },
  {
   "cell_type": "code",
   "execution_count": null,
   "metadata": {},
   "outputs": [],
   "source": []
  },
  {
   "cell_type": "code",
   "execution_count": null,
   "metadata": {},
   "outputs": [],
   "source": []
  }
 ],
 "metadata": {
  "kernelspec": {
   "display_name": "Python 3.10.5 64-bit",
   "language": "python",
   "name": "python3"
  },
  "language_info": {
   "codemirror_mode": {
    "name": "ipython",
    "version": 3
   },
   "file_extension": ".py",
   "mimetype": "text/x-python",
   "name": "python",
   "nbconvert_exporter": "python",
   "pygments_lexer": "ipython3",
   "version": "3.10.5"
  },
  "orig_nbformat": 4,
  "vscode": {
   "interpreter": {
    "hash": "a6fd66f23f291c7a70d0834aa3c84fb3d8a0e23845cff3812a1a92aee36ee1d6"
   }
  }
 },
 "nbformat": 4,
 "nbformat_minor": 2
}
