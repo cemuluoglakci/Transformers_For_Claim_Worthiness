{
 "cells": [
  {
   "cell_type": "markdown",
   "metadata": {},
   "source": [
    "* Fiftyone python library\n",
    "* Fiftyone app: desktop / web ()\n",
    "* Fiftyone Brain"
   ]
  },
  {
   "cell_type": "code",
   "execution_count": 1,
   "metadata": {},
   "outputs": [],
   "source": [
    "import fiftyone as fo\n",
    "from fiftyone import ViewField as F\n",
    "import pandas as pd\n",
    "import numpy as np\n",
    "import os\n",
    "import json\n",
    "from ast import literal_eval\n",
    "from sklearn.decomposition import PCA\n",
    "from sklearn.manifold import TSNE\n",
    "import matplotlib.pyplot as plt"
   ]
  },
  {
   "cell_type": "code",
   "execution_count": 2,
   "metadata": {},
   "outputs": [],
   "source": [
    "# defining relative paths\n",
    "parent_dir = os.path.dirname(os.path.abspath(os.getcwd()))\n",
    "dataset_dir = os.path.join(parent_dir, \"data\")\n",
    "imgdata_dir = os.path.join(dataset_dir,\"img\")"
   ]
  },
  {
   "cell_type": "code",
   "execution_count": 3,
   "metadata": {},
   "outputs": [],
   "source": [
    "classes = [\"Not_Checkworthy\", \"Checkworthy\"]"
   ]
  },
  {
   "cell_type": "markdown",
   "metadata": {},
   "source": [
    "### Functions to Load Data"
   ]
  },
  {
   "cell_type": "code",
   "execution_count": 4,
   "metadata": {},
   "outputs": [],
   "source": [
    "def create_classification_label(binary_label, confidence=None):\n",
    "    verbose_label = \"Checkworthy\" if binary_label else \"Not_Checkworthy\"\n",
    "    label = fo.Classification(label=verbose_label, binary_label=binary_label)\n",
    "    if confidence!= None:\n",
    "        label.confidence = confidence\n",
    "        label_prob = confidence\n",
    "        other_prob = 1-confidence\n",
    "        label.logits = [other_prob, label_prob] if binary_label else [label_prob, other_prob]\n",
    "    return label\n",
    "    "
   ]
  },
  {
   "cell_type": "code",
   "execution_count": 5,
   "metadata": {},
   "outputs": [],
   "source": [
    "def load_from_df(df, dataset):\n",
    "    for index, row in df.iterrows():\n",
    "\n",
    "        file_name = str(row.tweet_id) + \".png\"\n",
    "        file_path = os.path.join(imgdata_dir,file_name)\n",
    "\n",
    "        metadata = fo.ImageMetadata.build_for(file_path)\n",
    "\n",
    "        ground_truth = create_classification_label(row.check_worthiness)\n",
    "        bert_prediction = create_classification_label(row.bert_predictions, row.bert_probability)\n",
    "        roberta_prediction = create_classification_label(row.roberta_predictions, row.roberta_probability)\n",
    "        bertweet_prediction = create_classification_label(row.bertweet_predictions, row.bertweet_probability)\n",
    "        bertweet_filtered_prediction = create_classification_label(row.bertweet_filtered_predictions, row.bertweet_filtered_probability)\n",
    "        gpt3_prediction = create_classification_label(row.gpt3_predictions, row.gpt3_probability)\n",
    "\n",
    "        sample = fo.Sample(\n",
    "            filepath=file_path, \n",
    "            metadata=metadata, \n",
    "            ground_truth = ground_truth, \n",
    "            bert_prediction = bert_prediction,\n",
    "            roberta_prediction = roberta_prediction,\n",
    "            bertweet_prediction = bertweet_prediction,\n",
    "            bertweet_filtered_prediction = bertweet_filtered_prediction,\n",
    "            gpt3_prediction = gpt3_prediction\n",
    "            )\n",
    "\n",
    "        sample.tags.append(\"Validation\")\n",
    "        dataset.add_sample(sample)"
   ]
  },
  {
   "cell_type": "markdown",
   "metadata": {},
   "source": [
    "### Creating Dataset and Loading Data"
   ]
  },
  {
   "cell_type": "code",
   "execution_count": 32,
   "metadata": {},
   "outputs": [],
   "source": [
    "dataset_name = \"tweet_dataset\""
   ]
  },
  {
   "cell_type": "code",
   "execution_count": 41,
   "metadata": {},
   "outputs": [],
   "source": [
    "# If you created a dataset with the same name before and create the dataset from scratch, just delete the previous dataset\n",
    "fo.delete_dataset(dataset_name)"
   ]
  },
  {
   "cell_type": "code",
   "execution_count": 42,
   "metadata": {},
   "outputs": [],
   "source": [
    "try:\n",
    "    dataset = fo.Dataset(dataset_name)\n",
    "except:\n",
    "    dataset = fo.load_dataset(dataset_name)"
   ]
  },
  {
   "cell_type": "code",
   "execution_count": 9,
   "metadata": {},
   "outputs": [],
   "source": [
    "eval_df = pd.read_csv(os.path.join(dataset_dir,\"eval_df.csv\"))\n",
    "eval_df[\"embeddings\"] = eval_df.embeddings.apply(json.loads)\n",
    "eval_df[\"embeddings\"] = eval_df[\"embeddings\"].apply(lambda x: np.asanyarray(x))\n"
   ]
  },
  {
   "cell_type": "code",
   "execution_count": 10,
   "metadata": {},
   "outputs": [
    {
     "data": {
      "text/html": [
       "<div>\n",
       "<style scoped>\n",
       "    .dataframe tbody tr th:only-of-type {\n",
       "        vertical-align: middle;\n",
       "    }\n",
       "\n",
       "    .dataframe tbody tr th {\n",
       "        vertical-align: top;\n",
       "    }\n",
       "\n",
       "    .dataframe thead th {\n",
       "        text-align: right;\n",
       "    }\n",
       "</style>\n",
       "<table border=\"1\" class=\"dataframe\">\n",
       "  <thead>\n",
       "    <tr style=\"text-align: right;\">\n",
       "      <th></th>\n",
       "      <th>tweet_id</th>\n",
       "      <th>tweet_url</th>\n",
       "      <th>tweet_text</th>\n",
       "      <th>check_worthiness</th>\n",
       "      <th>bert_predictions</th>\n",
       "      <th>bert_probability</th>\n",
       "      <th>roberta_predictions</th>\n",
       "      <th>roberta_probability</th>\n",
       "      <th>bertweet_predictions</th>\n",
       "      <th>bertweet_probability</th>\n",
       "      <th>gpt3_predictions</th>\n",
       "      <th>gpt3_probability</th>\n",
       "      <th>embeddings</th>\n",
       "      <th>bertweet_filtered_predictions</th>\n",
       "      <th>bertweet_filtered_probability</th>\n",
       "    </tr>\n",
       "  </thead>\n",
       "  <tbody>\n",
       "    <tr>\n",
       "      <th>0</th>\n",
       "      <td>1237160250513522688</td>\n",
       "      <td>https://twitter.com/user/status/12371602505135...</td>\n",
       "      <td>POTUS wanted everyone to know he was in close ...</td>\n",
       "      <td>1</td>\n",
       "      <td>1</td>\n",
       "      <td>0.993853</td>\n",
       "      <td>1</td>\n",
       "      <td>0.983054</td>\n",
       "      <td>1</td>\n",
       "      <td>0.988866</td>\n",
       "      <td>1</td>\n",
       "      <td>0.890893</td>\n",
       "      <td>[-0.0495423786342144, -0.2645258903503418, -0....</td>\n",
       "      <td>1</td>\n",
       "      <td>0.987442</td>\n",
       "    </tr>\n",
       "    <tr>\n",
       "      <th>1</th>\n",
       "      <td>1237125962871037953</td>\n",
       "      <td>https://twitter.com/user/status/12371259628710...</td>\n",
       "      <td>Who would you prefer to lead our nation’s resp...</td>\n",
       "      <td>0</td>\n",
       "      <td>0</td>\n",
       "      <td>0.000108</td>\n",
       "      <td>0</td>\n",
       "      <td>0.006362</td>\n",
       "      <td>0</td>\n",
       "      <td>0.006661</td>\n",
       "      <td>0</td>\n",
       "      <td>0.999922</td>\n",
       "      <td>[-0.0495423786342144, -0.2645258903503418, -0....</td>\n",
       "      <td>0</td>\n",
       "      <td>0.007730</td>\n",
       "    </tr>\n",
       "    <tr>\n",
       "      <th>2</th>\n",
       "      <td>1237207721604235264</td>\n",
       "      <td>https://twitter.com/user/status/12372077216042...</td>\n",
       "      <td>It was a really really really really really re...</td>\n",
       "      <td>0</td>\n",
       "      <td>0</td>\n",
       "      <td>0.000569</td>\n",
       "      <td>0</td>\n",
       "      <td>0.004905</td>\n",
       "      <td>0</td>\n",
       "      <td>0.007607</td>\n",
       "      <td>0</td>\n",
       "      <td>0.959031</td>\n",
       "      <td>[-0.0495423786342144, -0.2645258903503418, -0....</td>\n",
       "      <td>0</td>\n",
       "      <td>0.008914</td>\n",
       "    </tr>\n",
       "  </tbody>\n",
       "</table>\n",
       "</div>"
      ],
      "text/plain": [
       "              tweet_id                                          tweet_url  \\\n",
       "0  1237160250513522688  https://twitter.com/user/status/12371602505135...   \n",
       "1  1237125962871037953  https://twitter.com/user/status/12371259628710...   \n",
       "2  1237207721604235264  https://twitter.com/user/status/12372077216042...   \n",
       "\n",
       "                                          tweet_text  check_worthiness  \\\n",
       "0  POTUS wanted everyone to know he was in close ...                 1   \n",
       "1  Who would you prefer to lead our nation’s resp...                 0   \n",
       "2  It was a really really really really really re...                 0   \n",
       "\n",
       "   bert_predictions  bert_probability  roberta_predictions  \\\n",
       "0                 1          0.993853                    1   \n",
       "1                 0          0.000108                    0   \n",
       "2                 0          0.000569                    0   \n",
       "\n",
       "   roberta_probability  bertweet_predictions  bertweet_probability  \\\n",
       "0             0.983054                     1              0.988866   \n",
       "1             0.006362                     0              0.006661   \n",
       "2             0.004905                     0              0.007607   \n",
       "\n",
       "   gpt3_predictions  gpt3_probability  \\\n",
       "0                 1          0.890893   \n",
       "1                 0          0.999922   \n",
       "2                 0          0.959031   \n",
       "\n",
       "                                          embeddings  \\\n",
       "0  [-0.0495423786342144, -0.2645258903503418, -0....   \n",
       "1  [-0.0495423786342144, -0.2645258903503418, -0....   \n",
       "2  [-0.0495423786342144, -0.2645258903503418, -0....   \n",
       "\n",
       "   bertweet_filtered_predictions  bertweet_filtered_probability  \n",
       "0                              1                       0.987442  \n",
       "1                              0                       0.007730  \n",
       "2                              0                       0.008914  "
      ]
     },
     "execution_count": 10,
     "metadata": {},
     "output_type": "execute_result"
    }
   ],
   "source": [
    "eval_df.head(3)"
   ]
  },
  {
   "cell_type": "code",
   "execution_count": 21,
   "metadata": {},
   "outputs": [],
   "source": [
    "ordered_label_issues = [ 63,  56,  95, 120,  38,  22, 104, 107,  88, 134,  32,  44, 139,\n",
    "        55,  15,  23,  51, 119, 100, 121,  42,  59,  20,  47,  76,  29,\n",
    "        19, 101,  78,  75,  31,  26] # predicted by cleanlab"
   ]
  },
  {
   "cell_type": "code",
   "execution_count": 25,
   "metadata": {},
   "outputs": [
    {
     "data": {
      "text/plain": [
       "32"
      ]
     },
     "execution_count": 25,
     "metadata": {},
     "output_type": "execute_result"
    }
   ],
   "source": [
    "len(ordered_label_issues)"
   ]
  },
  {
   "cell_type": "code",
   "execution_count": 28,
   "metadata": {},
   "outputs": [],
   "source": [
    "filtered_eval_df = eval_df[eval_df.index.isin(ordered_label_issues)==False]"
   ]
  },
  {
   "cell_type": "code",
   "execution_count": 43,
   "metadata": {},
   "outputs": [],
   "source": [
    "load_from_df(eval_df, dataset)"
   ]
  },
  {
   "cell_type": "code",
   "execution_count": 61,
   "metadata": {},
   "outputs": [
    {
     "name": "stdout",
     "output_type": "stream",
     "text": [
      "Name:        tweet_dataset\n",
      "Media type:  image\n",
      "Num samples: 140\n",
      "Persistent:  False\n",
      "Tags:        []\n",
      "Sample fields:\n",
      "    id:                           fiftyone.core.fields.ObjectIdField\n",
      "    filepath:                     fiftyone.core.fields.StringField\n",
      "    tags:                         fiftyone.core.fields.ListField(fiftyone.core.fields.StringField)\n",
      "    metadata:                     fiftyone.core.fields.EmbeddedDocumentField(fiftyone.core.metadata.ImageMetadata)\n",
      "    ground_truth:                 fiftyone.core.fields.EmbeddedDocumentField(fiftyone.core.labels.Classification)\n",
      "    bert_prediction:              fiftyone.core.fields.EmbeddedDocumentField(fiftyone.core.labels.Classification)\n",
      "    roberta_prediction:           fiftyone.core.fields.EmbeddedDocumentField(fiftyone.core.labels.Classification)\n",
      "    bertweet_prediction:          fiftyone.core.fields.EmbeddedDocumentField(fiftyone.core.labels.Classification)\n",
      "    bertweet_filtered_prediction: fiftyone.core.fields.EmbeddedDocumentField(fiftyone.core.labels.Classification)\n",
      "    gpt3_prediction:              fiftyone.core.fields.EmbeddedDocumentField(fiftyone.core.labels.Classification)\n",
      "    eval_bertweet_binary:         fiftyone.core.fields.StringField\n",
      "    bert_mistakeness:             fiftyone.core.fields.FloatField\n",
      "    roberta_mistakeness:          fiftyone.core.fields.FloatField\n",
      "    bertweet_mistakeness:         fiftyone.core.fields.FloatField\n",
      "    gpt3_mistakeness:             fiftyone.core.fields.FloatField\n",
      "    eval_gpt3_binary:             fiftyone.core.fields.StringField\n",
      "    hardness:                     fiftyone.core.fields.FloatField\n"
     ]
    }
   ],
   "source": [
    "print(dataset)"
   ]
  },
  {
   "cell_type": "markdown",
   "metadata": {},
   "source": [
    "### GUI of FiftyOne"
   ]
  },
  {
   "cell_type": "code",
   "execution_count": 70,
   "metadata": {},
   "outputs": [
    {
     "data": {
      "text/html": [
       "\n",
       "        <iframe\n",
       "            width=\"100%\"\n",
       "            height=\"800\"\n",
       "            src=\"http://localhost:5151/?context=ipython&subscription=ad38e7fa-a8bb-452c-b17a-5fe63ce97d3e\"\n",
       "            frameborder=\"0\"\n",
       "            allowfullscreen\n",
       "            \n",
       "        ></iframe>\n",
       "        "
      ],
      "text/plain": [
       "<IPython.lib.display.IFrame at 0x276124178b0>"
      ]
     },
     "metadata": {},
     "output_type": "display_data"
    }
   ],
   "source": [
    "session = fo.launch_app(dataset.sort_by(\"gpt3_mistakeness\"), desktop=False)"
   ]
  },
  {
   "cell_type": "code",
   "execution_count": 68,
   "metadata": {},
   "outputs": [
    {
     "data": {
      "text/html": [
       "\n",
       "<style>\n",
       "@import url(\"https://fonts.googleapis.com/css2?family=Palanquin&display=swap\");\n",
       "\n",
       "#focontainer-b9bc87b9-de99-44ee-92bb-d9fcd74bac1e {\n",
       "  position: relative;\n",
       "  height: 800px;\n",
       "  display: block !important;\n",
       "}\n",
       "#foactivate-b9bc87b9-de99-44ee-92bb-d9fcd74bac1e {\n",
       "  font-weight: bold;\n",
       "  cursor: pointer;\n",
       "  font-size: 24px;\n",
       "  border-radius: 3px;\n",
       "  text-align: center;\n",
       "  padding: 0.5em;\n",
       "  color: rgb(255, 255, 255);\n",
       "  font-family: \"Palanquin\", sans-serif;\n",
       "  position: absolute;\n",
       "  left: 50%;\n",
       "  top: 50%;\n",
       "  width: 160px;\n",
       "  margin-left: -80px;\n",
       "  margin-top: -23px;\n",
       "  background: hsla(210,11%,15%, 0.8);\n",
       "  border: none;\n",
       "}\n",
       "#foactivate-b9bc87b9-de99-44ee-92bb-d9fcd74bac1e:focus {\n",
       "  outline: none;\n",
       "}\n",
       "#fooverlay-b9bc87b9-de99-44ee-92bb-d9fcd74bac1e {\n",
       "  width: 100%;\n",
       "  height: 100%;\n",
       "  background: hsla(208, 7%, 46%, 0.7);\n",
       "  position: absolute;\n",
       "  top: 0;\n",
       "  left: 0;\n",
       "  display: none;\n",
       "  cursor: pointer;\n",
       "}\n",
       "</style>\n",
       "\n",
       "<div id=\"focontainer-b9bc87b9-de99-44ee-92bb-d9fcd74bac1e\">\n",
       "   <div id=\"fooverlay-b9bc87b9-de99-44ee-92bb-d9fcd74bac1e\" style=\"display: none;\">\n",
       "      <button id=\"foactivate-b9bc87b9-de99-44ee-92bb-d9fcd74bac1e\" >Activate</button>\n",
       "   </div>\n",
       "   <img src='data:image/png;base64,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' style=\"width: 100%; max-width: 1765px;\"/>\n",
       "</div>\n",
       "\n",
       "<script type=\"text/javascript\">\n",
       "   (function() {\n",
       "     var container = document.getElementById(\"focontainer-b9bc87b9-de99-44ee-92bb-d9fcd74bac1e\");\n",
       "     var overlay = document.getElementById(\"fooverlay-b9bc87b9-de99-44ee-92bb-d9fcd74bac1e\");\n",
       "     fetch(`http://localhost:5151/fiftyone`)\n",
       "     .then(() => {\n",
       "        overlay.addEventListener(\"click\", () => {\n",
       "          fetch(`http://localhost:5151/event`, {\n",
       "            method: \"POST\",\n",
       "            body: JSON.stringify({\n",
       "              event: \"reactivate_notebook_cell\",\n",
       "              data: { subscription: \"b9bc87b9-de99-44ee-92bb-d9fcd74bac1e\" },\n",
       "              subscription: \"b9bc87b9-de99-44ee-92bb-d9fcd74bac1e\"\n",
       "            })\n",
       "          })\n",
       "        });\n",
       "        container.addEventListener(\"mouseenter\", () => overlay.style.display = \"block\");\n",
       "        container.addEventListener(\"mouseleave\", () => overlay.style.display = \"none\");\n",
       "     });\n",
       "   })();\n",
       "</script>"
      ],
      "text/plain": [
       "<IPython.core.display.HTML object>"
      ]
     },
     "metadata": {},
     "output_type": "display_data"
    }
   ],
   "source": [
    "session = fo.launch_app(dataset.match(F(\"gpt3_mistakeness\") > 0.757))"
   ]
  },
  {
   "cell_type": "markdown",
   "metadata": {},
   "source": [
    "### Evaluating Predictions of Models"
   ]
  },
  {
   "cell_type": "code",
   "execution_count": 54,
   "metadata": {},
   "outputs": [],
   "source": [
    "def evaluate_model(model_prefix: str):\n",
    "    print(f\"***\\nEvaluation Results For {model_prefix.upper()} model:\\n***\")\n",
    "    prediction_label = model_prefix + \"_prediction\"\n",
    "    eval_key=f\"eval_{model_prefix}_binary\"\n",
    "\n",
    "    results = dataset.evaluate_classifications(\n",
    "        prediction_label,\n",
    "        gt_field=\"ground_truth\",\n",
    "        eval_key=eval_key,\n",
    "        method=\"binary\",\n",
    "        classes=classes,\n",
    "    )\n",
    "\n",
    "    results.print_report()\n",
    "\n",
    "    plot = results.plot_pr_curve()\n",
    "    plot.show()\n",
    "    \n",
    "    conf_plot = results.plot_confusion_matrix()\n",
    "    conf_plot.show()"
   ]
  },
  {
   "cell_type": "code",
   "execution_count": 15,
   "metadata": {},
   "outputs": [
    {
     "name": "stdout",
     "output_type": "stream",
     "text": [
      "***\n",
      "Evaluation Results For BERT model:\n",
      "***\n",
      "                 precision    recall  f1-score   support\n",
      "\n",
      "Not_Checkworthy       0.75      0.70      0.72        80\n",
      "    Checkworthy       0.63      0.68      0.66        60\n",
      "\n",
      "       accuracy                           0.69       140\n",
      "      macro avg       0.69      0.69      0.69       140\n",
      "   weighted avg       0.70      0.69      0.69       140\n",
      "\n"
     ]
    },
    {
     "data": {},
     "metadata": {},
     "output_type": "display_data"
    },
    {
     "data": {
      "text/plain": []
     },
     "metadata": {},
     "output_type": "display_data"
    },
    {
     "data": {
      "application/vnd.jupyter.widget-view+json": {
       "model_id": "3afdab63d1fd453f8495ec21a35b2aa4",
       "version_major": 2,
       "version_minor": 0
      },
      "text/plain": [
       "FigureWidget({\n",
       "    'data': [{'customdata': array([0.572932  , 0.6093414 , 0.6666847 , 0.69903913, 0.7764561 , …"
      ]
     },
     "metadata": {},
     "output_type": "display_data"
    },
    {
     "data": {},
     "metadata": {},
     "output_type": "display_data"
    },
    {
     "data": {
      "text/plain": []
     },
     "metadata": {},
     "output_type": "display_data"
    },
    {
     "data": {
      "application/vnd.jupyter.widget-view+json": {
       "model_id": "10dfe19cbf1f42f692d9e50d69b0cb4e",
       "version_major": 2,
       "version_minor": 0
      },
      "text/plain": [
       "FigureWidget({\n",
       "    'data': [{'mode': 'markers',\n",
       "              'opacity': 0.1,\n",
       "              'type': 'scatter',…"
      ]
     },
     "metadata": {},
     "output_type": "display_data"
    },
    {
     "name": "stdout",
     "output_type": "stream",
     "text": [
      "\n",
      "\n",
      "Could not connect session, trying again in 10 seconds\n",
      "\n"
     ]
    }
   ],
   "source": [
    "evaluate_model(\"bert\")"
   ]
  },
  {
   "cell_type": "code",
   "execution_count": 16,
   "metadata": {},
   "outputs": [
    {
     "name": "stdout",
     "output_type": "stream",
     "text": [
      "***\n",
      "Evaluation Results For ROBERTA model:\n",
      "***\n",
      "                 precision    recall  f1-score   support\n",
      "\n",
      "Not_Checkworthy       0.84      0.78      0.81        80\n",
      "    Checkworthy       0.73      0.80      0.76        60\n",
      "\n",
      "       accuracy                           0.79       140\n",
      "      macro avg       0.78      0.79      0.78       140\n",
      "   weighted avg       0.79      0.79      0.79       140\n",
      "\n"
     ]
    },
    {
     "data": {},
     "metadata": {},
     "output_type": "display_data"
    },
    {
     "data": {
      "text/plain": []
     },
     "metadata": {},
     "output_type": "display_data"
    },
    {
     "data": {
      "application/vnd.jupyter.widget-view+json": {
       "model_id": "83e1639b64ae413184bdf048595816e9",
       "version_major": 2,
       "version_minor": 0
      },
      "text/plain": [
       "FigureWidget({\n",
       "    'data': [{'customdata': array([0.56247944, 0.5634323 , 0.58569556, 0.59688774, 0.62889504, …"
      ]
     },
     "metadata": {},
     "output_type": "display_data"
    },
    {
     "data": {},
     "metadata": {},
     "output_type": "display_data"
    },
    {
     "data": {
      "text/plain": []
     },
     "metadata": {},
     "output_type": "display_data"
    },
    {
     "data": {
      "application/vnd.jupyter.widget-view+json": {
       "model_id": "387f2f74f74b450ab5438abad4d3cd03",
       "version_major": 2,
       "version_minor": 0
      },
      "text/plain": [
       "FigureWidget({\n",
       "    'data': [{'mode': 'markers',\n",
       "              'opacity': 0.1,\n",
       "              'type': 'scatter',…"
      ]
     },
     "metadata": {},
     "output_type": "display_data"
    }
   ],
   "source": [
    "evaluate_model(\"roberta\")"
   ]
  },
  {
   "cell_type": "code",
   "execution_count": 44,
   "metadata": {},
   "outputs": [
    {
     "name": "stdout",
     "output_type": "stream",
     "text": [
      "***\n",
      "Evaluation Results For BERTWEET model:\n",
      "***\n",
      "                 precision    recall  f1-score   support\n",
      "\n",
      "Not_Checkworthy       0.78      0.80      0.79        80\n",
      "    Checkworthy       0.72      0.70      0.71        60\n",
      "\n",
      "       accuracy                           0.76       140\n",
      "      macro avg       0.75      0.75      0.75       140\n",
      "   weighted avg       0.76      0.76      0.76       140\n",
      "\n"
     ]
    },
    {
     "data": {},
     "metadata": {},
     "output_type": "display_data"
    },
    {
     "data": {
      "text/plain": []
     },
     "metadata": {},
     "output_type": "display_data"
    },
    {
     "data": {
      "application/vnd.jupyter.widget-view+json": {
       "model_id": "07b6ac62eb4447c6bb57b7ca8c3aafb1",
       "version_major": 2,
       "version_minor": 0
      },
      "text/plain": [
       "FigureWidget({\n",
       "    'data': [{'customdata': array([0.55340412, 0.60111934, 0.60657996, 0.63541842, 0.6430512 , …"
      ]
     },
     "metadata": {},
     "output_type": "display_data"
    },
    {
     "data": {},
     "metadata": {},
     "output_type": "display_data"
    },
    {
     "data": {
      "text/plain": []
     },
     "metadata": {},
     "output_type": "display_data"
    },
    {
     "data": {
      "application/vnd.jupyter.widget-view+json": {
       "model_id": "0e9b2997762c490ab0ad752911c0c750",
       "version_major": 2,
       "version_minor": 0
      },
      "text/plain": [
       "FigureWidget({\n",
       "    'data': [{'mode': 'markers',\n",
       "              'opacity': 0.1,\n",
       "              'type': 'scatter',…"
      ]
     },
     "metadata": {},
     "output_type": "display_data"
    }
   ],
   "source": [
    "evaluate_model(\"bertweet\")"
   ]
  },
  {
   "cell_type": "code",
   "execution_count": 40,
   "metadata": {},
   "outputs": [
    {
     "name": "stdout",
     "output_type": "stream",
     "text": [
      "***\n",
      "Evaluation Results For BERTWEET_FILTERED model:\n",
      "***\n",
      "                 precision    recall  f1-score   support\n",
      "\n",
      "Not_Checkworthy       0.90      0.88      0.89        64\n",
      "    Checkworthy       0.83      0.86      0.84        44\n",
      "\n",
      "       accuracy                           0.87       108\n",
      "      macro avg       0.86      0.87      0.87       108\n",
      "   weighted avg       0.87      0.87      0.87       108\n",
      "\n"
     ]
    },
    {
     "data": {},
     "metadata": {},
     "output_type": "display_data"
    },
    {
     "data": {
      "text/plain": []
     },
     "metadata": {},
     "output_type": "display_data"
    },
    {
     "data": {
      "application/vnd.jupyter.widget-view+json": {
       "model_id": "67bf2f2ff11b4049866a4e57b41a7beb",
       "version_major": 2,
       "version_minor": 0
      },
      "text/plain": [
       "FigureWidget({\n",
       "    'data': [{'customdata': array([0.54115033, 0.6466267 , 0.67006543, 0.73167884, 0.73577774, …"
      ]
     },
     "metadata": {},
     "output_type": "display_data"
    },
    {
     "data": {},
     "metadata": {},
     "output_type": "display_data"
    },
    {
     "data": {
      "text/plain": []
     },
     "metadata": {},
     "output_type": "display_data"
    },
    {
     "data": {
      "application/vnd.jupyter.widget-view+json": {
       "model_id": "3db38f4a10b743179ae7d0901478a594",
       "version_major": 2,
       "version_minor": 0
      },
      "text/plain": [
       "FigureWidget({\n",
       "    'data': [{'mode': 'markers',\n",
       "              'opacity': 0.1,\n",
       "              'type': 'scatter',…"
      ]
     },
     "metadata": {},
     "output_type": "display_data"
    }
   ],
   "source": [
    "evaluate_model(\"bertweet_filtered\")"
   ]
  },
  {
   "cell_type": "code",
   "execution_count": 62,
   "metadata": {},
   "outputs": [
    {
     "name": "stdout",
     "output_type": "stream",
     "text": [
      "***\n",
      "Evaluation Results For GPT3 model:\n",
      "***\n",
      "                 precision    recall  f1-score   support\n",
      "\n",
      "Not_Checkworthy       0.78      0.81      0.80        80\n",
      "    Checkworthy       0.74      0.70      0.72        60\n",
      "\n",
      "       accuracy                           0.76       140\n",
      "      macro avg       0.76      0.76      0.76       140\n",
      "   weighted avg       0.76      0.76      0.76       140\n",
      "\n"
     ]
    },
    {
     "data": {},
     "metadata": {},
     "output_type": "display_data"
    },
    {
     "data": {
      "text/plain": []
     },
     "metadata": {},
     "output_type": "display_data"
    },
    {
     "data": {
      "application/vnd.jupyter.widget-view+json": {
       "model_id": "d1273b99cf474e30953ad7607413c5df",
       "version_major": 2,
       "version_minor": 0
      },
      "text/plain": [
       "FigureWidget({\n",
       "    'data': [{'customdata': array([2.79674129e-05, 4.54932582e-05, 5.88439366e-05, 7.76776229e-…"
      ]
     },
     "metadata": {},
     "output_type": "display_data"
    },
    {
     "data": {},
     "metadata": {},
     "output_type": "display_data"
    },
    {
     "data": {
      "text/plain": []
     },
     "metadata": {},
     "output_type": "display_data"
    },
    {
     "data": {
      "application/vnd.jupyter.widget-view+json": {
       "model_id": "59998adb9ed54d5fb3e200db34afdee6",
       "version_major": 2,
       "version_minor": 0
      },
      "text/plain": [
       "FigureWidget({\n",
       "    'data': [{'mode': 'markers',\n",
       "              'opacity': 0.1,\n",
       "              'type': 'scatter',…"
      ]
     },
     "metadata": {},
     "output_type": "display_data"
    }
   ],
   "source": [
    "evaluate_model(\"gpt3\")"
   ]
  },
  {
   "cell_type": "markdown",
   "metadata": {},
   "source": [
    "## FIFTYONE BRAIN"
   ]
  },
  {
   "cell_type": "code",
   "execution_count": 47,
   "metadata": {},
   "outputs": [],
   "source": [
    "import fiftyone.brain as fob"
   ]
  },
  {
   "cell_type": "markdown",
   "metadata": {},
   "source": [
    "### Computing Sample hardness"
   ]
  },
  {
   "cell_type": "code",
   "execution_count": 60,
   "metadata": {},
   "outputs": [
    {
     "name": "stdout",
     "output_type": "stream",
     "text": [
      "Computing hardness...\n",
      " 100% |█████████████████| 140/140 [218.9ms elapsed, 0s remaining, 639.7 samples/s]      \n",
      "Hardness computation complete\n"
     ]
    }
   ],
   "source": [
    "fob.compute_hardness(dataset, \"gpt3_prediction\")"
   ]
  },
  {
   "cell_type": "code",
   "execution_count": 49,
   "metadata": {},
   "outputs": [
    {
     "name": "stdout",
     "output_type": "stream",
     "text": [
      "Computing mistakenness...\n",
      " 100% |█████████████████| 140/140 [250.2ms elapsed, 0s remaining, 559.5 samples/s]      \n",
      "Mistakenness computation complete\n",
      "Computing mistakenness...\n",
      " 100% |█████████████████| 140/140 [273.8ms elapsed, 0s remaining, 511.3 samples/s]      \n",
      "Mistakenness computation complete\n",
      "Computing mistakenness...\n",
      " 100% |█████████████████| 140/140 [270.2ms elapsed, 0s remaining, 518.2 samples/s]      \n",
      "Mistakenness computation complete\n",
      "Computing mistakenness...\n",
      " 100% |█████████████████| 140/140 [239.3ms elapsed, 0s remaining, 585.1 samples/s]      \n",
      "Mistakenness computation complete\n"
     ]
    }
   ],
   "source": [
    "model_prefix_list = [\"bert\", \"roberta\", \"bertweet\", \"gpt3\"]\n",
    "\n",
    "for prefix in model_prefix_list:\n",
    "    fob.compute_mistakenness(dataset, prefix+\"_prediction\", label_field=\"ground_truth\", mistakenness_field=prefix+\"_mistakeness\", use_logits=True)"
   ]
  },
  {
   "cell_type": "code",
   "execution_count": 13,
   "metadata": {},
   "outputs": [
    {
     "name": "stderr",
     "output_type": "stream",
     "text": [
      "c:\\Users\\cemul\\AppData\\Local\\Programs\\Python\\Python310\\lib\\site-packages\\sklearn\\decomposition\\_pca.py:630: RuntimeWarning: invalid value encountered in divide\n",
      "  self.explained_variance_ratio_ = self.explained_variance_ / total_var\n",
      "c:\\Users\\cemul\\AppData\\Local\\Programs\\Python\\Python310\\lib\\site-packages\\sklearn\\manifold\\_t_sne.py:795: FutureWarning: The default initialization in TSNE will change from 'random' to 'pca' in 1.2.\n",
      "  warnings.warn(\n",
      "c:\\Users\\cemul\\AppData\\Local\\Programs\\Python\\Python310\\lib\\site-packages\\sklearn\\manifold\\_t_sne.py:805: FutureWarning: The default learning rate in TSNE will change from 200.0 to 'auto' in 1.2.\n",
      "  warnings.warn(\n"
     ]
    }
   ],
   "source": [
    "embeddings_list = eval_df[\"embeddings\"].tolist()\n",
    "pca = PCA(n_components=10)\n",
    "PCA_result = pca.fit_transform(embeddings_list)\n",
    "PCA_df = pd.DataFrame(PCA_result)\n",
    "tsne = TSNE(n_components=2, random_state=42)\n",
    "Y = tsne.fit_transform(PCA_df)\n"
   ]
  },
  {
   "cell_type": "code",
   "execution_count": 14,
   "metadata": {},
   "outputs": [],
   "source": [
    "results_manual = fob.compute_visualization(\n",
    "    dataset,\n",
    "    points=Y ,\n",
    "    num_dims=2,\n",
    "    brain_key=\"embeddings_manual\",\n",
    "    method=\"manual\"\n",
    ")"
   ]
  },
  {
   "cell_type": "code",
   "execution_count": 15,
   "metadata": {},
   "outputs": [
    {
     "name": "stdout",
     "output_type": "stream",
     "text": [
      "Generating visualization...\n",
      "UMAP(random_state=51, verbose=True)\n",
      "Thu Sep 22 09:45:12 2022 Construct fuzzy simplicial set\n",
      "Thu Sep 22 09:45:12 2022 Finding Nearest Neighbors\n",
      "Thu Sep 22 09:45:15 2022 Finished Nearest Neighbor Search\n",
      "Thu Sep 22 09:45:17 2022 Construct embedding\n"
     ]
    },
    {
     "data": {
      "application/vnd.jupyter.widget-view+json": {
       "model_id": "151ca32d59524dddb94bd90171339e18",
       "version_major": 2,
       "version_minor": 0
      },
      "text/plain": [
       "Epochs completed:   0%|            0/500 [00:00]"
      ]
     },
     "metadata": {},
     "output_type": "display_data"
    },
    {
     "name": "stdout",
     "output_type": "stream",
     "text": [
      "Thu Sep 22 09:45:19 2022 Finished embedding\n",
      "Generating visualization...\n",
      "[t-SNE] Computing 91 nearest neighbors...\n",
      "[t-SNE] Indexed 140 samples in 0.000s...\n",
      "[t-SNE] Computed neighbors for 140 samples in 0.001s...\n",
      "[t-SNE] Computed conditional probabilities for sample 140 / 140\n",
      "[t-SNE] Mean sigma: 0.000000\n",
      "[t-SNE] Computed conditional probabilities in 0.007s\n",
      "[t-SNE] Iteration 50: error = -518.9831543, gradient norm = 0.0000000 (50 iterations in 0.012s)\n",
      "[t-SNE] Iteration 50: gradient norm 0.000000. Finished.\n",
      "[t-SNE] KL divergence after 50 iterations with early exaggeration: -518.983154\n",
      "[t-SNE] Iteration 100: error = -45.7335205, gradient norm = 0.0000000 (50 iterations in 0.013s)\n",
      "[t-SNE] Iteration 100: gradient norm 0.000000. Finished.\n",
      "[t-SNE] KL divergence after 100 iterations: -45.733521\n",
      "Ignoring unsupported parameters {'verbose'} for <class 'fiftyone.brain.visualization.PCAVisualizationConfig'>\n",
      "Generating visualization...\n"
     ]
    },
    {
     "name": "stderr",
     "output_type": "stream",
     "text": [
      "c:\\Users\\cemul\\AppData\\Local\\Programs\\Python\\Python310\\lib\\site-packages\\sklearn\\decomposition\\_pca.py:630: RuntimeWarning: invalid value encountered in divide\n",
      "  self.explained_variance_ratio_ = self.explained_variance_ / total_var\n",
      "c:\\Users\\cemul\\AppData\\Local\\Programs\\Python\\Python310\\lib\\site-packages\\sklearn\\decomposition\\_pca.py:630: RuntimeWarning: invalid value encountered in divide\n",
      "  self.explained_variance_ratio_ = self.explained_variance_ / total_var\n",
      "c:\\Users\\cemul\\AppData\\Local\\Programs\\Python\\Python310\\lib\\site-packages\\sklearn\\manifold\\_t_sne.py:991: FutureWarning: The PCA initialization in TSNE will change to have the standard deviation of PC1 equal to 1e-4 in 1.2. This will ensure better convergence.\n",
      "  warnings.warn(\n",
      "c:\\Users\\cemul\\AppData\\Local\\Programs\\Python\\Python310\\lib\\site-packages\\sklearn\\decomposition\\_pca.py:630: RuntimeWarning: invalid value encountered in divide\n",
      "  self.explained_variance_ratio_ = self.explained_variance_ / total_var\n"
     ]
    }
   ],
   "source": [
    "results_umap = fob.compute_visualization(\n",
    "    dataset,\n",
    "    embeddings=eval_df.embeddings,\n",
    "    num_dims=2,\n",
    "    brain_key=\"embeddings_umap\",\n",
    "    verbose=True,\n",
    "    seed=51,\n",
    "    method=\"umap\"\n",
    ")\n",
    "results_tsne = fob.compute_visualization(\n",
    "    dataset,\n",
    "    embeddings=eval_df.embeddings,\n",
    "    num_dims=2,\n",
    "    brain_key=\"embeddings_tsne\",\n",
    "    verbose=True,\n",
    "    seed=51,\n",
    "    method=\"tsne\"\n",
    ")\n",
    "results_pca = fob.compute_visualization(\n",
    "    dataset,\n",
    "    embeddings=eval_df.embeddings,\n",
    "    num_dims=2,\n",
    "    brain_key=\"embeddings_pca\",\n",
    "    verbose=True,\n",
    "    seed=51,\n",
    "    method=\"pca\"\n",
    ")\n",
    "#results_manual = fob.compute_visualization(\n",
    "#    dataset,\n",
    "#    embeddings=eval_df.embeddings,\n",
    "#    num_dims=2,\n",
    "#    brain_key=\"embeddings_manual\",\n",
    "#    verbose=True,\n",
    "#    seed=51,\n",
    "#    method=\"manual\"\n",
    "#)"
   ]
  },
  {
   "cell_type": "code",
   "execution_count": 33,
   "metadata": {},
   "outputs": [
    {
     "name": "stdout",
     "output_type": "stream",
     "text": [
      "<class 'fiftyone.brain.visualization.VisualizationResults'>\n",
      "(140, 2)\n"
     ]
    }
   ],
   "source": [
    "print(type(results))\n",
    "print(results.points.shape)"
   ]
  },
  {
   "cell_type": "code",
   "execution_count": 34,
   "metadata": {},
   "outputs": [
    {
     "data": {
      "text/html": [
       "\n",
       "        <iframe\n",
       "            width=\"100%\"\n",
       "            height=\"800\"\n",
       "            src=\"http://localhost:5151/?context=ipython&subscription=6b4e3cd8-1707-4ad3-b89e-363ef5cb7eea\"\n",
       "            frameborder=\"0\"\n",
       "            allowfullscreen\n",
       "            \n",
       "        ></iframe>\n",
       "        "
      ],
      "text/plain": [
       "<IPython.lib.display.IFrame at 0x1a12d8b7f40>"
      ]
     },
     "metadata": {},
     "output_type": "display_data"
    }
   ],
   "source": [
    "session = fo.launch_app(dataset)"
   ]
  },
  {
   "cell_type": "code",
   "execution_count": 16,
   "metadata": {},
   "outputs": [
    {
     "data": {},
     "metadata": {},
     "output_type": "display_data"
    },
    {
     "data": {
      "text/plain": []
     },
     "metadata": {},
     "output_type": "display_data"
    },
    {
     "data": {
      "application/vnd.jupyter.widget-view+json": {
       "model_id": "f57918bef91143459e2b0f20d3577505",
       "version_major": 2,
       "version_minor": 0
      },
      "text/plain": [
       "FigureWidget({\n",
       "    'data': [{'customdata': array(['632c04494996ed952b922346', '632c04494996ed952b922367',\n",
       "    …"
      ]
     },
     "metadata": {},
     "output_type": "display_data"
    },
    {
     "data": {},
     "metadata": {},
     "output_type": "display_data"
    },
    {
     "data": {
      "text/plain": []
     },
     "metadata": {},
     "output_type": "display_data"
    },
    {
     "data": {
      "application/vnd.jupyter.widget-view+json": {
       "model_id": "558fe40248da426785ea48578bc11fb6",
       "version_major": 2,
       "version_minor": 0
      },
      "text/plain": [
       "FigureWidget({\n",
       "    'data': [{'customdata': array(['632c04494996ed952b922346', '632c04494996ed952b922367',\n",
       "    …"
      ]
     },
     "metadata": {},
     "output_type": "display_data"
    },
    {
     "data": {},
     "metadata": {},
     "output_type": "display_data"
    },
    {
     "data": {
      "text/plain": []
     },
     "metadata": {},
     "output_type": "display_data"
    },
    {
     "data": {
      "application/vnd.jupyter.widget-view+json": {
       "model_id": "87dfdd9c3e63406faeb2ffcf1aa41199",
       "version_major": 2,
       "version_minor": 0
      },
      "text/plain": [
       "FigureWidget({\n",
       "    'data': [{'customdata': array(['632c04494996ed952b922346', '632c04494996ed952b922367',\n",
       "    …"
      ]
     },
     "metadata": {},
     "output_type": "display_data"
    },
    {
     "ename": "NameError",
     "evalue": "name 'session' is not defined",
     "output_type": "error",
     "traceback": [
      "\u001b[1;31m---------------------------------------------------------------------------\u001b[0m",
      "\u001b[1;31mNameError\u001b[0m                                 Traceback (most recent call last)",
      "\u001b[1;32mc:\\repos\\Transformers_For_Claim_Worthiness\\Fiftyone_evaluation\\creating_fo_dataset.ipynb Cell 33\u001b[0m in \u001b[0;36m<cell line: 11>\u001b[1;34m()\u001b[0m\n\u001b[0;32m      <a href='vscode-notebook-cell:/c%3A/repos/Transformers_For_Claim_Worthiness/Fiftyone_evaluation/creating_fo_dataset.ipynb#X46sZmlsZQ%3D%3D?line=7'>8</a>\u001b[0m plot_manual\u001b[39m.\u001b[39mshow(height\u001b[39m=\u001b[39m\u001b[39m720\u001b[39m)\n\u001b[0;32m     <a href='vscode-notebook-cell:/c%3A/repos/Transformers_For_Claim_Worthiness/Fiftyone_evaluation/creating_fo_dataset.ipynb#X46sZmlsZQ%3D%3D?line=9'>10</a>\u001b[0m \u001b[39m# Attach plot to session\u001b[39;00m\n\u001b[1;32m---> <a href='vscode-notebook-cell:/c%3A/repos/Transformers_For_Claim_Worthiness/Fiftyone_evaluation/creating_fo_dataset.ipynb#X46sZmlsZQ%3D%3D?line=10'>11</a>\u001b[0m session\u001b[39m.\u001b[39mplots\u001b[39m.\u001b[39mattach(plot_umap)\n",
      "\u001b[1;31mNameError\u001b[0m: name 'session' is not defined"
     ]
    }
   ],
   "source": [
    "# Plot embeddings colored by ground truth label\n",
    "plot_umap = results_umap.visualize(labels=\"ground_truth.label\")\n",
    "plot_tsne = results_tsne.visualize(labels=\"ground_truth.label\")\n",
    "plot_manual = results_manual.visualize(labels=\"ground_truth.label\")\n",
    "\n",
    "plot_umap.show(height=720)\n",
    "plot_tsne.show(height=720)\n",
    "plot_manual.show(height=720)\n",
    "\n",
    "# Attach plot to session\n",
    "session.plots.attach(plot_umap)"
   ]
  },
  {
   "cell_type": "code",
   "execution_count": 19,
   "metadata": {},
   "outputs": [
    {
     "name": "stdout",
     "output_type": "stream",
     "text": [
      "['image_embeddings']\n"
     ]
    }
   ],
   "source": [
    "print(dataset.list_brain_runs())"
   ]
  },
  {
   "cell_type": "code",
   "execution_count": 45,
   "metadata": {},
   "outputs": [
    {
     "ename": "ValueError",
     "evalue": "Field 'mistakenness' does not exist",
     "output_type": "error",
     "traceback": [
      "\u001b[1;31m---------------------------------------------------------------------------\u001b[0m",
      "\u001b[1;31mValueError\u001b[0m                                Traceback (most recent call last)",
      "\u001b[1;32mc:\\repos\\Transformers_For_Claim_Worthiness\\Detecting_Label_Errors\\creating_fo_dataset.ipynb Cell 39\u001b[0m in \u001b[0;36m<cell line: 2>\u001b[1;34m()\u001b[0m\n\u001b[0;32m      <a href='vscode-notebook-cell:/c%3A/repos/Transformers_For_Claim_Worthiness/Detecting_Label_Errors/creating_fo_dataset.ipynb#X50sZmlsZQ%3D%3D?line=0'>1</a>\u001b[0m \u001b[39m# Sort by likelihood of mistake (most likely first)\u001b[39;00m\n\u001b[1;32m----> <a href='vscode-notebook-cell:/c%3A/repos/Transformers_For_Claim_Worthiness/Detecting_Label_Errors/creating_fo_dataset.ipynb#X50sZmlsZQ%3D%3D?line=1'>2</a>\u001b[0m mistake_view \u001b[39m=\u001b[39m (dataset\n\u001b[0;32m      <a href='vscode-notebook-cell:/c%3A/repos/Transformers_For_Claim_Worthiness/Detecting_Label_Errors/creating_fo_dataset.ipynb#X50sZmlsZQ%3D%3D?line=2'>3</a>\u001b[0m     \u001b[39m.\u001b[39;49msort_by(\u001b[39m\"\u001b[39;49m\u001b[39mmistakenness\u001b[39;49m\u001b[39m\"\u001b[39;49m, reverse\u001b[39m=\u001b[39;49m\u001b[39mTrue\u001b[39;49;00m)\n\u001b[0;32m      <a href='vscode-notebook-cell:/c%3A/repos/Transformers_For_Claim_Worthiness/Detecting_Label_Errors/creating_fo_dataset.ipynb#X50sZmlsZQ%3D%3D?line=3'>4</a>\u001b[0m )\n\u001b[0;32m      <a href='vscode-notebook-cell:/c%3A/repos/Transformers_For_Claim_Worthiness/Detecting_Label_Errors/creating_fo_dataset.ipynb#X50sZmlsZQ%3D%3D?line=5'>6</a>\u001b[0m \u001b[39m# Print some information about the view\u001b[39;00m\n\u001b[0;32m      <a href='vscode-notebook-cell:/c%3A/repos/Transformers_For_Claim_Worthiness/Detecting_Label_Errors/creating_fo_dataset.ipynb#X50sZmlsZQ%3D%3D?line=6'>7</a>\u001b[0m \u001b[39mprint\u001b[39m(mistake_view)\n",
      "File \u001b[1;32m~\\AppData\\Roaming\\Python\\Python310\\site-packages\\fiftyone\\core\\collections.py:5027\u001b[0m, in \u001b[0;36mSampleCollection.sort_by\u001b[1;34m(self, field_or_expr, reverse)\u001b[0m\n\u001b[0;32m   4957\u001b[0m \u001b[39m@view_stage\u001b[39m\n\u001b[0;32m   4958\u001b[0m \u001b[39mdef\u001b[39;00m \u001b[39msort_by\u001b[39m(\u001b[39mself\u001b[39m, field_or_expr, reverse\u001b[39m=\u001b[39m\u001b[39mFalse\u001b[39;00m):\n\u001b[0;32m   4959\u001b[0m     \u001b[39m\"\"\"Sorts the samples in the collection by the given field(s) or\u001b[39;00m\n\u001b[0;32m   4960\u001b[0m \u001b[39m    expression(s).\u001b[39;00m\n\u001b[0;32m   4961\u001b[0m \n\u001b[1;32m   (...)\u001b[0m\n\u001b[0;32m   5025\u001b[0m \u001b[39m        a :class:`fiftyone.core.view.DatasetView`\u001b[39;00m\n\u001b[0;32m   5026\u001b[0m \u001b[39m    \"\"\"\u001b[39;00m\n\u001b[1;32m-> 5027\u001b[0m     \u001b[39mreturn\u001b[39;00m \u001b[39mself\u001b[39;49m\u001b[39m.\u001b[39;49m_add_view_stage(fos\u001b[39m.\u001b[39;49mSortBy(field_or_expr, reverse\u001b[39m=\u001b[39;49mreverse))\n",
      "File \u001b[1;32m~\\AppData\\Roaming\\Python\\Python310\\site-packages\\fiftyone\\core\\dataset.py:4377\u001b[0m, in \u001b[0;36mDataset._add_view_stage\u001b[1;34m(self, stage)\u001b[0m\n\u001b[0;32m   4376\u001b[0m \u001b[39mdef\u001b[39;00m \u001b[39m_add_view_stage\u001b[39m(\u001b[39mself\u001b[39m, stage):\n\u001b[1;32m-> 4377\u001b[0m     \u001b[39mreturn\u001b[39;00m \u001b[39mself\u001b[39;49m\u001b[39m.\u001b[39;49mview()\u001b[39m.\u001b[39;49madd_stage(stage)\n",
      "File \u001b[1;32m~\\AppData\\Roaming\\Python\\Python310\\site-packages\\fiftyone\\core\\collections.py:2735\u001b[0m, in \u001b[0;36mSampleCollection.add_stage\u001b[1;34m(self, stage)\u001b[0m\n\u001b[0;32m   2725\u001b[0m \u001b[39mdef\u001b[39;00m \u001b[39madd_stage\u001b[39m(\u001b[39mself\u001b[39m, stage):\n\u001b[0;32m   2726\u001b[0m     \u001b[39m\"\"\"Applies the given :class:`fiftyone.core.stages.ViewStage` to the\u001b[39;00m\n\u001b[0;32m   2727\u001b[0m \u001b[39m    collection.\u001b[39;00m\n\u001b[0;32m   2728\u001b[0m \n\u001b[1;32m   (...)\u001b[0m\n\u001b[0;32m   2733\u001b[0m \u001b[39m        a :class:`fiftyone.core.view.DatasetView`\u001b[39;00m\n\u001b[0;32m   2734\u001b[0m \u001b[39m    \"\"\"\u001b[39;00m\n\u001b[1;32m-> 2735\u001b[0m     \u001b[39mreturn\u001b[39;00m \u001b[39mself\u001b[39;49m\u001b[39m.\u001b[39;49m_add_view_stage(stage)\n",
      "File \u001b[1;32m~\\AppData\\Roaming\\Python\\Python310\\site-packages\\fiftyone\\core\\view.py:939\u001b[0m, in \u001b[0;36mDatasetView._add_view_stage\u001b[1;34m(self, stage)\u001b[0m\n\u001b[0;32m    938\u001b[0m \u001b[39mdef\u001b[39;00m \u001b[39m_add_view_stage\u001b[39m(\u001b[39mself\u001b[39m, stage):\n\u001b[1;32m--> 939\u001b[0m     stage\u001b[39m.\u001b[39;49mvalidate(\u001b[39mself\u001b[39;49m)\n\u001b[0;32m    941\u001b[0m     \u001b[39mif\u001b[39;00m stage\u001b[39m.\u001b[39mhas_view:\n\u001b[0;32m    942\u001b[0m         view \u001b[39m=\u001b[39m stage\u001b[39m.\u001b[39mload_view(\u001b[39mself\u001b[39m)\n",
      "File \u001b[1;32m~\\AppData\\Roaming\\Python\\Python310\\site-packages\\fiftyone\\core\\stages.py:5407\u001b[0m, in \u001b[0;36mSortBy.validate\u001b[1;34m(self, sample_collection)\u001b[0m\n\u001b[0;32m   5404\u001b[0m field_or_expr \u001b[39m=\u001b[39m \u001b[39mself\u001b[39m\u001b[39m.\u001b[39m_get_mongo_field_or_expr()\n\u001b[0;32m   5406\u001b[0m \u001b[39mif\u001b[39;00m etau\u001b[39m.\u001b[39mis_str(field_or_expr):\n\u001b[1;32m-> 5407\u001b[0m     sample_collection\u001b[39m.\u001b[39;49mvalidate_fields_exist(field_or_expr)\n\u001b[0;32m   5408\u001b[0m     sample_collection\u001b[39m.\u001b[39mcreate_index(field_or_expr)\n",
      "File \u001b[1;32m~\\AppData\\Roaming\\Python\\Python310\\site-packages\\fiftyone\\core\\collections.py:1023\u001b[0m, in \u001b[0;36mSampleCollection.validate_fields_exist\u001b[1;34m(self, fields, include_private)\u001b[0m\n\u001b[0;32m   1021\u001b[0m         field_name \u001b[39m=\u001b[39m field\u001b[39m.\u001b[39msplit(\u001b[39m\"\u001b[39m\u001b[39m.\u001b[39m\u001b[39m\"\u001b[39m, \u001b[39m1\u001b[39m)[\u001b[39m0\u001b[39m]\n\u001b[0;32m   1022\u001b[0m         \u001b[39mif\u001b[39;00m field_name \u001b[39mnot\u001b[39;00m \u001b[39min\u001b[39;00m existing_fields:\n\u001b[1;32m-> 1023\u001b[0m             \u001b[39mraise\u001b[39;00m \u001b[39mValueError\u001b[39;00m(\u001b[39m\"\u001b[39m\u001b[39mField \u001b[39m\u001b[39m'\u001b[39m\u001b[39m%s\u001b[39;00m\u001b[39m'\u001b[39m\u001b[39m does not exist\u001b[39m\u001b[39m\"\u001b[39m \u001b[39m%\u001b[39m field_name)\n\u001b[0;32m   1025\u001b[0m \u001b[39mif\u001b[39;00m frame_fields:\n\u001b[0;32m   1026\u001b[0m     existing_frame_fields \u001b[39m=\u001b[39m \u001b[39mset\u001b[39m(\n\u001b[0;32m   1027\u001b[0m         \u001b[39mself\u001b[39m\u001b[39m.\u001b[39mget_frame_field_schema(\n\u001b[0;32m   1028\u001b[0m             include_private\u001b[39m=\u001b[39minclude_private\n\u001b[0;32m   1029\u001b[0m         )\u001b[39m.\u001b[39mkeys()\n\u001b[0;32m   1030\u001b[0m     )\n",
      "\u001b[1;31mValueError\u001b[0m: Field 'mistakenness' does not exist"
     ]
    }
   ],
   "source": [
    "# Sort by likelihood of mistake (most likely first)\n",
    "mistake_view = (dataset\n",
    "    .sort_by(\"mistakenness\", reverse=True)\n",
    ")\n",
    "\n",
    "# Print some information about the view\n",
    "print(mistake_view)"
   ]
  },
  {
   "cell_type": "code",
   "execution_count": 64,
   "metadata": {},
   "outputs": [
    {
     "name": "stdout",
     "output_type": "stream",
     "text": [
      "[<SampleView: {\n",
      "    'id': '63248dcc0fb9082b16cd666a',\n",
      "    'media_type': 'image',\n",
      "    'filepath': 'c:\\\\repos\\\\Transformers_For_Claim_Worthiness\\\\data\\\\img\\\\1237234567423107077.png',\n",
      "    'tags': BaseList(['Validation']),\n",
      "    'metadata': <ImageMetadata: {\n",
      "        'size_bytes': 11520,\n",
      "        'mime_type': 'image/png',\n",
      "        'width': 256,\n",
      "        'height': 256,\n",
      "        'num_channels': 3,\n",
      "    }>,\n",
      "    'ground_truth': <Classification: {\n",
      "        'id': '63248dcc0fb9082b16cd6666',\n",
      "        'tags': BaseList([]),\n",
      "        'label': 'Checkworthy',\n",
      "        'confidence': None,\n",
      "        'logits': None,\n",
      "        'binary_label': 1,\n",
      "    }>,\n",
      "    'bert_prediction': <Classification: {\n",
      "        'id': '63248dcc0fb9082b16cd6667',\n",
      "        'tags': BaseList([]),\n",
      "        'label': 'Not_Checkworthy',\n",
      "        'confidence': 0.000120559474,\n",
      "        'logits': array([1.20559474e-04, 9.99879441e-01]),\n",
      "        'binary_label': 0,\n",
      "    }>,\n",
      "    'roberta_prediction': <Classification: {\n",
      "        'id': '63248dcc0fb9082b16cd6668',\n",
      "        'tags': BaseList([]),\n",
      "        'label': 'Not_Checkworthy',\n",
      "        'confidence': 0.005761041,\n",
      "        'logits': array([0.00576104, 0.99423896]),\n",
      "        'binary_label': 0,\n",
      "    }>,\n",
      "    'bertweet_prediction': <Classification: {\n",
      "        'id': '63248dcc0fb9082b16cd6669',\n",
      "        'tags': BaseList([]),\n",
      "        'label': 'Not_Checkworthy',\n",
      "        'confidence': 0.006344123,\n",
      "        'logits': array([0.00634412, 0.99365588]),\n",
      "        'binary_label': 0,\n",
      "    }>,\n",
      "    'hardness': 0.5846891827872822,\n",
      "    'mistakenness': 0.7786395234081884,\n",
      "}>, <SampleView: {\n",
      "    'id': '63248dcc0fb9082b16cd662b',\n",
      "    'media_type': 'image',\n",
      "    'filepath': 'c:\\\\repos\\\\Transformers_For_Claim_Worthiness\\\\data\\\\img\\\\1236982705604243457.png',\n",
      "    'tags': BaseList(['Validation']),\n",
      "    'metadata': <ImageMetadata: {\n",
      "        'size_bytes': 13457,\n",
      "        'mime_type': 'image/png',\n",
      "        'width': 256,\n",
      "        'height': 256,\n",
      "        'num_channels': 3,\n",
      "    }>,\n",
      "    'ground_truth': <Classification: {\n",
      "        'id': '63248dcc0fb9082b16cd6627',\n",
      "        'tags': BaseList([]),\n",
      "        'label': 'Checkworthy',\n",
      "        'confidence': None,\n",
      "        'logits': None,\n",
      "        'binary_label': 1,\n",
      "    }>,\n",
      "    'bert_prediction': <Classification: {\n",
      "        'id': '63248dcc0fb9082b16cd6628',\n",
      "        'tags': BaseList([]),\n",
      "        'label': 'Not_Checkworthy',\n",
      "        'confidence': 0.00050608255,\n",
      "        'logits': array([5.06082550e-04, 9.99493917e-01]),\n",
      "        'binary_label': 0,\n",
      "    }>,\n",
      "    'roberta_prediction': <Classification: {\n",
      "        'id': '63248dcc0fb9082b16cd6629',\n",
      "        'tags': BaseList([]),\n",
      "        'label': 'Checkworthy',\n",
      "        'confidence': 0.9159118,\n",
      "        'logits': array([0.0840882, 0.9159118]),\n",
      "        'binary_label': 1,\n",
      "    }>,\n",
      "    'bertweet_prediction': <Classification: {\n",
      "        'id': '63248dcc0fb9082b16cd662a',\n",
      "        'tags': BaseList([]),\n",
      "        'label': 'Not_Checkworthy',\n",
      "        'confidence': 0.0064089354,\n",
      "        'logits': array([0.00640894, 0.99359106]),\n",
      "        'binary_label': 0,\n",
      "    }>,\n",
      "    'hardness': 0.5847144914576269,\n",
      "    'mistakenness': 0.7786324715015831,\n",
      "}>, <SampleView: {\n",
      "    'id': '63248dcc0fb9082b16cd678a',\n",
      "    'media_type': 'image',\n",
      "    'filepath': 'c:\\\\repos\\\\Transformers_For_Claim_Worthiness\\\\data\\\\img\\\\1237039035257769986.png',\n",
      "    'tags': BaseList(['Validation']),\n",
      "    'metadata': <ImageMetadata: {\n",
      "        'size_bytes': 16107,\n",
      "        'mime_type': 'image/png',\n",
      "        'width': 256,\n",
      "        'height': 256,\n",
      "        'num_channels': 3,\n",
      "    }>,\n",
      "    'ground_truth': <Classification: {\n",
      "        'id': '63248dcc0fb9082b16cd6786',\n",
      "        'tags': BaseList([]),\n",
      "        'label': 'Checkworthy',\n",
      "        'confidence': None,\n",
      "        'logits': None,\n",
      "        'binary_label': 1,\n",
      "    }>,\n",
      "    'bert_prediction': <Classification: {\n",
      "        'id': '63248dcc0fb9082b16cd6787',\n",
      "        'tags': BaseList([]),\n",
      "        'label': 'Not_Checkworthy',\n",
      "        'confidence': 0.00012204686,\n",
      "        'logits': array([1.22046860e-04, 9.99877953e-01]),\n",
      "        'binary_label': 0,\n",
      "    }>,\n",
      "    'roberta_prediction': <Classification: {\n",
      "        'id': '63248dcc0fb9082b16cd6788',\n",
      "        'tags': BaseList([]),\n",
      "        'label': 'Not_Checkworthy',\n",
      "        'confidence': 0.0060841828,\n",
      "        'logits': array([0.00608418, 0.99391582]),\n",
      "        'binary_label': 0,\n",
      "    }>,\n",
      "    'bertweet_prediction': <Classification: {\n",
      "        'id': '63248dcc0fb9082b16cd6789',\n",
      "        'tags': BaseList([]),\n",
      "        'label': 'Not_Checkworthy',\n",
      "        'confidence': 0.0064522917,\n",
      "        'logits': array([0.00645229, 0.99354771]),\n",
      "        'binary_label': 0,\n",
      "    }>,\n",
      "    'hardness': 0.5847314206922261,\n",
      "    'mistakenness': 0.7786277545070338,\n",
      "}>]\n"
     ]
    }
   ],
   "source": [
    "print(mistake_view.head())"
   ]
  },
  {
   "cell_type": "code",
   "execution_count": null,
   "metadata": {},
   "outputs": [],
   "source": [
    "session.view = dataset.sort_by(\"mistakenness\")"
   ]
  },
  {
   "cell_type": "code",
   "execution_count": 67,
   "metadata": {},
   "outputs": [
    {
     "ename": "ValueError",
     "evalue": "Cannot open a Desktop App instance from a IPYTHON notebook",
     "output_type": "error",
     "traceback": [
      "\u001b[1;31m---------------------------------------------------------------------------\u001b[0m",
      "\u001b[1;31mValueError\u001b[0m                                Traceback (most recent call last)",
      "\u001b[1;32mc:\\repos\\Transformers_For_Claim_Worthiness\\Fiftyone_evaluation\\creating_fo_dataset.ipynb Cell 33\u001b[0m in \u001b[0;36m<cell line: 1>\u001b[1;34m()\u001b[0m\n\u001b[1;32m----> <a href='vscode-notebook-cell:/c%3A/repos/Transformers_For_Claim_Worthiness/Fiftyone_evaluation/creating_fo_dataset.ipynb#Y100sZmlsZQ%3D%3D?line=0'>1</a>\u001b[0m session \u001b[39m=\u001b[39m fo\u001b[39m.\u001b[39;49mlaunch_app(dataset, desktop\u001b[39m=\u001b[39;49m\u001b[39mTrue\u001b[39;49;00m)\n",
      "File \u001b[1;32m~\\AppData\\Roaming\\Python\\Python310\\site-packages\\fiftyone\\core\\session\\session.py:157\u001b[0m, in \u001b[0;36mlaunch_app\u001b[1;34m(dataset, view, port, address, remote, desktop, height, auto, config)\u001b[0m\n\u001b[0;32m    145\u001b[0m \u001b[39m#\u001b[39;00m\n\u001b[0;32m    146\u001b[0m \u001b[39m# Note, we always `close_app()` here rather than just calling\u001b[39;00m\n\u001b[0;32m    147\u001b[0m \u001b[39m# `session.open()` if a session already exists, because the app may have\u001b[39;00m\n\u001b[1;32m   (...)\u001b[0m\n\u001b[0;32m    153\u001b[0m \u001b[39m# @todo this can probably be improved\u001b[39;00m\n\u001b[0;32m    154\u001b[0m \u001b[39m#\u001b[39;00m\n\u001b[0;32m    155\u001b[0m close_app()\n\u001b[1;32m--> 157\u001b[0m _session \u001b[39m=\u001b[39m Session(\n\u001b[0;32m    158\u001b[0m     dataset\u001b[39m=\u001b[39;49mdataset,\n\u001b[0;32m    159\u001b[0m     view\u001b[39m=\u001b[39;49mview,\n\u001b[0;32m    160\u001b[0m     port\u001b[39m=\u001b[39;49mport,\n\u001b[0;32m    161\u001b[0m     address\u001b[39m=\u001b[39;49maddress,\n\u001b[0;32m    162\u001b[0m     remote\u001b[39m=\u001b[39;49mremote,\n\u001b[0;32m    163\u001b[0m     desktop\u001b[39m=\u001b[39;49mdesktop,\n\u001b[0;32m    164\u001b[0m     height\u001b[39m=\u001b[39;49mheight,\n\u001b[0;32m    165\u001b[0m     auto\u001b[39m=\u001b[39;49mauto,\n\u001b[0;32m    166\u001b[0m     config\u001b[39m=\u001b[39;49mconfig,\n\u001b[0;32m    167\u001b[0m )\n\u001b[0;32m    169\u001b[0m \u001b[39mif\u001b[39;00m _session\u001b[39m.\u001b[39mremote:\n\u001b[0;32m    170\u001b[0m     logger\u001b[39m.\u001b[39minfo(_REMOTE_INSTRUCTIONS\u001b[39m.\u001b[39mstrip()\u001b[39m.\u001b[39mformat(_session\u001b[39m.\u001b[39mserver_port))\n",
      "File \u001b[1;32m~\\AppData\\Roaming\\Python\\Python310\\site-packages\\fiftyone\\core\\session\\session.py:366\u001b[0m, in \u001b[0;36mSession.__init__\u001b[1;34m(self, dataset, view, plots, port, address, remote, desktop, height, auto, config)\u001b[0m\n\u001b[0;32m    364\u001b[0m \u001b[39mif\u001b[39;00m \u001b[39mself\u001b[39m\u001b[39m.\u001b[39mdesktop:\n\u001b[0;32m    365\u001b[0m     \u001b[39mif\u001b[39;00m focx\u001b[39m.\u001b[39mis_notebook_context():\n\u001b[1;32m--> 366\u001b[0m         \u001b[39mraise\u001b[39;00m \u001b[39mValueError\u001b[39;00m(\n\u001b[0;32m    367\u001b[0m             \u001b[39m\"\u001b[39m\u001b[39mCannot open a Desktop App instance from a \u001b[39m\u001b[39m%s\u001b[39;00m\u001b[39m notebook\u001b[39m\u001b[39m\"\u001b[39m\n\u001b[0;32m    368\u001b[0m             \u001b[39m%\u001b[39m focx\u001b[39m.\u001b[39m_get_context()\n\u001b[0;32m    369\u001b[0m         )\n\u001b[0;32m    371\u001b[0m     \u001b[39mif\u001b[39;00m \u001b[39mnot\u001b[39;00m focn\u001b[39m.\u001b[39mDEV_INSTALL:\n\u001b[0;32m    372\u001b[0m         import_desktop()\n",
      "\u001b[1;31mValueError\u001b[0m: Cannot open a Desktop App instance from a IPYTHON notebook"
     ]
    }
   ],
   "source": [
    "session = fo.launch_app(dataset, desktop=True)"
   ]
  },
  {
   "cell_type": "markdown",
   "metadata": {},
   "source": [
    "### FINDING CLASSIFICATION MISTAKES WITH FIFTYONE"
   ]
  },
  {
   "cell_type": "code",
   "execution_count": null,
   "metadata": {},
   "outputs": [],
   "source": []
  },
  {
   "cell_type": "code",
   "execution_count": null,
   "metadata": {},
   "outputs": [],
   "source": []
  },
  {
   "cell_type": "code",
   "execution_count": null,
   "metadata": {},
   "outputs": [],
   "source": []
  },
  {
   "cell_type": "code",
   "execution_count": null,
   "metadata": {},
   "outputs": [],
   "source": []
  },
  {
   "cell_type": "code",
   "execution_count": null,
   "metadata": {},
   "outputs": [],
   "source": []
  },
  {
   "cell_type": "code",
   "execution_count": null,
   "metadata": {},
   "outputs": [],
   "source": []
  },
  {
   "cell_type": "code",
   "execution_count": null,
   "metadata": {},
   "outputs": [],
   "source": []
  }
 ],
 "metadata": {
  "kernelspec": {
   "display_name": "Python 3.10.5 64-bit",
   "language": "python",
   "name": "python3"
  },
  "language_info": {
   "codemirror_mode": {
    "name": "ipython",
    "version": 3
   },
   "file_extension": ".py",
   "mimetype": "text/x-python",
   "name": "python",
   "nbconvert_exporter": "python",
   "pygments_lexer": "ipython3",
   "version": "3.10.5"
  },
  "orig_nbformat": 4,
  "vscode": {
   "interpreter": {
    "hash": "a6fd66f23f291c7a70d0834aa3c84fb3d8a0e23845cff3812a1a92aee36ee1d6"
   }
  }
 },
 "nbformat": 4,
 "nbformat_minor": 2
}
