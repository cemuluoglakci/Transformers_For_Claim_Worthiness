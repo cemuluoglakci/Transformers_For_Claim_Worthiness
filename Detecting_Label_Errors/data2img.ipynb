{
 "cells": [
  {
   "cell_type": "code",
   "execution_count": 49,
   "metadata": {},
   "outputs": [],
   "source": [
    "from PIL import Image, ImageDraw, ImageFont\n",
    "import os\n",
    "import pandas as pd\n"
   ]
  },
  {
   "cell_type": "code",
   "execution_count": 22,
   "metadata": {},
   "outputs": [],
   "source": [
    "img_folder = os.path.join(\"Data\",\"img\")\n",
    "fnt = ImageFont.truetype('/Library/Fonts/arial.ttf', 15)"
   ]
  },
  {
   "cell_type": "code",
   "execution_count": 62,
   "metadata": {},
   "outputs": [],
   "source": [
    "def create_path(id):\n",
    "    return (os.path.join(img_folder, str(id)+\".png\"))"
   ]
  },
  {
   "cell_type": "code",
   "execution_count": 46,
   "metadata": {},
   "outputs": [],
   "source": [
    "def wrap(text):\n",
    "    line_length = 30\n",
    "    #text_list=[]\n",
    "    paragraph = ''\n",
    "    while len(text)>line_length:\n",
    "        line = text[:line_length]\n",
    "        text = text[line_length:]\n",
    "        paragraph = paragraph + line + '\\n'\n",
    "        #text_list.append(line)\n",
    "    paragraph = paragraph + text\n",
    "    return paragraph"
   ]
  },
  {
   "cell_type": "code",
   "execution_count": 59,
   "metadata": {},
   "outputs": [],
   "source": [
    "def text2img(text, file_name):\n",
    "    img = Image.new('RGB', (256, 256), color = (255,255,255))\n",
    " \n",
    "    d = ImageDraw.Draw(img)\n",
    "    d.text((10,10), wrap(text), font=fnt, fill=(0,0,0))\n",
    "    \n",
    "    path = create_path(file_name)\n",
    "    img.save(path) "
   ]
  },
  {
   "cell_type": "code",
   "execution_count": 52,
   "metadata": {},
   "outputs": [],
   "source": [
    "test_data_path = os.path.join(\"Data\",\"test_english_raw.tsv\")\n",
    "test_df = pd.read_csv(test_data_path, delimiter='\\t')"
   ]
  },
  {
   "cell_type": "code",
   "execution_count": 63,
   "metadata": {},
   "outputs": [],
   "source": [
    "for index, tweet_data in test_df.iterrows():\n",
    "    text2img(tweet_data.tweet_text, tweet_data.tweet_id)"
   ]
  }
 ],
 "metadata": {
  "kernelspec": {
   "display_name": "Python 3.10.5 ('env': venv)",
   "language": "python",
   "name": "python3"
  },
  "language_info": {
   "codemirror_mode": {
    "name": "ipython",
    "version": 3
   },
   "file_extension": ".py",
   "mimetype": "text/x-python",
   "name": "python",
   "nbconvert_exporter": "python",
   "pygments_lexer": "ipython3",
   "version": "3.10.5"
  },
  "orig_nbformat": 4,
  "vscode": {
   "interpreter": {
    "hash": "ac5fd93920850ba8516952f9d181e232c5108fd2952d4f8bf368587222a00bb0"
   }
  }
 },
 "nbformat": 4,
 "nbformat_minor": 2
}
