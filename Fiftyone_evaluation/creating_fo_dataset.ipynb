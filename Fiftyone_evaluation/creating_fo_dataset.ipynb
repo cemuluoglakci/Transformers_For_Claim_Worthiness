{
 "cells": [
  {
   "cell_type": "code",
   "execution_count": 1,
   "metadata": {},
   "outputs": [],
   "source": [
    "import fiftyone as fo\n",
    "import pandas as pd\n",
    "import numpy as np\n",
    "import os\n",
    "import json\n",
    "from ast import literal_eval"
   ]
  },
  {
   "cell_type": "code",
   "execution_count": 2,
   "metadata": {},
   "outputs": [],
   "source": [
    "# defining relative paths\n",
    "parent_dir = os.path.dirname(os.path.abspath(os.getcwd()))\n",
    "dataset_dir = os.path.join(parent_dir, \"data\")\n",
    "imgdata_dir = os.path.join(dataset_dir,\"img\")"
   ]
  },
  {
   "cell_type": "code",
   "execution_count": 3,
   "metadata": {},
   "outputs": [],
   "source": [
    "classes = [\"Not_Checkworthy\", \"Checkworthy\"]"
   ]
  },
  {
   "cell_type": "markdown",
   "metadata": {},
   "source": [
    "### Functions to Load Data"
   ]
  },
  {
   "cell_type": "code",
   "execution_count": 20,
   "metadata": {},
   "outputs": [],
   "source": [
    "def create_classification_label(binary_label, confidence=None):\n",
    "    verbose_label = \"Checkworthy\" if binary_label else \"Not_Checkworthy\"\n",
    "    label = fo.Classification(label=verbose_label, binary_label=binary_label)\n",
    "    if confidence!= None:\n",
    "        label.confidence = confidence\n",
    "        label_prob = confidence\n",
    "        other_prob = 1-confidence\n",
    "        label.logits = [other_prob, label_prob] if binary_label else [label_prob, other_prob]\n",
    "    return label\n",
    "    "
   ]
  },
  {
   "cell_type": "code",
   "execution_count": 22,
   "metadata": {},
   "outputs": [],
   "source": [
    "def load_from_df(df, dataset):\n",
    "    for index, row in df.iterrows():\n",
    "\n",
    "        file_name = str(row.tweet_id) + \".png\"\n",
    "        file_path = os.path.join(imgdata_dir,file_name)\n",
    "\n",
    "        metadata = fo.ImageMetadata.build_for(file_path)\n",
    "\n",
    "        ground_truth = create_classification_label(row.check_worthiness)\n",
    "        bert_prediction = create_classification_label(row.bert_predictions, row.bert_probability)\n",
    "        roberta_prediction = create_classification_label(row.roberta_predictions, row.roberta_probability)\n",
    "        bertweet_prediction = create_classification_label(row.bertweet_predictions, row.bertweet_probability)\n",
    "        gpt3_prediction = create_classification_label(row.gpt3_predictions, row.gpt3_probability)\n",
    "\n",
    "        sample = fo.Sample(\n",
    "            filepath=file_path, \n",
    "            metadata=metadata, \n",
    "            ground_truth = ground_truth, \n",
    "            bert_prediction = bert_prediction,\n",
    "            roberta_prediction = roberta_prediction,\n",
    "            bertweet_prediction = bertweet_prediction,\n",
    "            gpt3_prediction = gpt3_prediction\n",
    "            )\n",
    "\n",
    "        sample.tags.append(\"Validation\")\n",
    "        dataset.add_sample(sample)"
   ]
  },
  {
   "cell_type": "markdown",
   "metadata": {},
   "source": [
    "### Creating Dataset and Loading Data"
   ]
  },
  {
   "cell_type": "code",
   "execution_count": 6,
   "metadata": {},
   "outputs": [],
   "source": [
    "dataset_name = \"tweet_dataset\""
   ]
  },
  {
   "cell_type": "code",
   "execution_count": 34,
   "metadata": {},
   "outputs": [],
   "source": [
    "# If you created a dataset with the same name before and create the dataset from scratch, just delete the previous dataset\n",
    "fo.delete_dataset(dataset_name)"
   ]
  },
  {
   "cell_type": "code",
   "execution_count": 35,
   "metadata": {},
   "outputs": [],
   "source": [
    "try:\n",
    "    dataset = fo.Dataset(dataset_name)\n",
    "except:\n",
    "    dataset = fo.load_dataset(dataset_name)"
   ]
  },
  {
   "cell_type": "code",
   "execution_count": 10,
   "metadata": {},
   "outputs": [],
   "source": [
    "eval_df = pd.read_csv(os.path.join(dataset_dir,\"eval_df.csv\"))\n",
    "eval_df[\"embeddings\"] = eval_df.embeddings.apply(json.loads)\n",
    "eval_df[\"embeddings\"] = eval_df[\"embeddings\"].apply(lambda x: np.asanyarray(x))\n"
   ]
  },
  {
   "cell_type": "code",
   "execution_count": 12,
   "metadata": {},
   "outputs": [
    {
     "data": {
      "text/html": [
       "<div>\n",
       "<style scoped>\n",
       "    .dataframe tbody tr th:only-of-type {\n",
       "        vertical-align: middle;\n",
       "    }\n",
       "\n",
       "    .dataframe tbody tr th {\n",
       "        vertical-align: top;\n",
       "    }\n",
       "\n",
       "    .dataframe thead th {\n",
       "        text-align: right;\n",
       "    }\n",
       "</style>\n",
       "<table border=\"1\" class=\"dataframe\">\n",
       "  <thead>\n",
       "    <tr style=\"text-align: right;\">\n",
       "      <th></th>\n",
       "      <th>tweet_id</th>\n",
       "      <th>tweet_url</th>\n",
       "      <th>tweet_text</th>\n",
       "      <th>check_worthiness</th>\n",
       "      <th>bert_predictions</th>\n",
       "      <th>bert_probability</th>\n",
       "      <th>roberta_predictions</th>\n",
       "      <th>roberta_probability</th>\n",
       "      <th>bertweet_predictions</th>\n",
       "      <th>bertweet_probability</th>\n",
       "      <th>gpt3_predictions</th>\n",
       "      <th>gpt3_probability</th>\n",
       "      <th>embeddings</th>\n",
       "    </tr>\n",
       "  </thead>\n",
       "  <tbody>\n",
       "    <tr>\n",
       "      <th>0</th>\n",
       "      <td>1237160250513522688</td>\n",
       "      <td>https://twitter.com/user/status/12371602505135...</td>\n",
       "      <td>POTUS wanted everyone to know he was in close ...</td>\n",
       "      <td>1</td>\n",
       "      <td>1</td>\n",
       "      <td>0.993853</td>\n",
       "      <td>1</td>\n",
       "      <td>0.983054</td>\n",
       "      <td>1</td>\n",
       "      <td>0.988866</td>\n",
       "      <td>1</td>\n",
       "      <td>0.890893</td>\n",
       "      <td>[0.16674243, 0.3065092, -0.112421855, 0.048177...</td>\n",
       "    </tr>\n",
       "    <tr>\n",
       "      <th>1</th>\n",
       "      <td>1237125962871037953</td>\n",
       "      <td>https://twitter.com/user/status/12371259628710...</td>\n",
       "      <td>Who would you prefer to lead our nation’s resp...</td>\n",
       "      <td>0</td>\n",
       "      <td>0</td>\n",
       "      <td>0.000108</td>\n",
       "      <td>0</td>\n",
       "      <td>0.006362</td>\n",
       "      <td>0</td>\n",
       "      <td>0.006661</td>\n",
       "      <td>0</td>\n",
       "      <td>0.999922</td>\n",
       "      <td>[0.22938012, 0.054673575, -0.0858, -0.07526214...</td>\n",
       "    </tr>\n",
       "    <tr>\n",
       "      <th>2</th>\n",
       "      <td>1237207721604235264</td>\n",
       "      <td>https://twitter.com/user/status/12372077216042...</td>\n",
       "      <td>It was a really really really really really re...</td>\n",
       "      <td>0</td>\n",
       "      <td>0</td>\n",
       "      <td>0.000569</td>\n",
       "      <td>0</td>\n",
       "      <td>0.004905</td>\n",
       "      <td>0</td>\n",
       "      <td>0.007607</td>\n",
       "      <td>0</td>\n",
       "      <td>0.959031</td>\n",
       "      <td>[0.03409792, 0.45846257, -0.015111784, 0.25196...</td>\n",
       "    </tr>\n",
       "  </tbody>\n",
       "</table>\n",
       "</div>"
      ],
      "text/plain": [
       "              tweet_id                                          tweet_url  \\\n",
       "0  1237160250513522688  https://twitter.com/user/status/12371602505135...   \n",
       "1  1237125962871037953  https://twitter.com/user/status/12371259628710...   \n",
       "2  1237207721604235264  https://twitter.com/user/status/12372077216042...   \n",
       "\n",
       "                                          tweet_text  check_worthiness  \\\n",
       "0  POTUS wanted everyone to know he was in close ...                 1   \n",
       "1  Who would you prefer to lead our nation’s resp...                 0   \n",
       "2  It was a really really really really really re...                 0   \n",
       "\n",
       "   bert_predictions  bert_probability  roberta_predictions  \\\n",
       "0                 1          0.993853                    1   \n",
       "1                 0          0.000108                    0   \n",
       "2                 0          0.000569                    0   \n",
       "\n",
       "   roberta_probability  bertweet_predictions  bertweet_probability  \\\n",
       "0             0.983054                     1              0.988866   \n",
       "1             0.006362                     0              0.006661   \n",
       "2             0.004905                     0              0.007607   \n",
       "\n",
       "   gpt3_predictions  gpt3_probability  \\\n",
       "0                 1          0.890893   \n",
       "1                 0          0.999922   \n",
       "2                 0          0.959031   \n",
       "\n",
       "                                          embeddings  \n",
       "0  [0.16674243, 0.3065092, -0.112421855, 0.048177...  \n",
       "1  [0.22938012, 0.054673575, -0.0858, -0.07526214...  \n",
       "2  [0.03409792, 0.45846257, -0.015111784, 0.25196...  "
      ]
     },
     "execution_count": 12,
     "metadata": {},
     "output_type": "execute_result"
    }
   ],
   "source": [
    "eval_df.head(3)"
   ]
  },
  {
   "cell_type": "code",
   "execution_count": 37,
   "metadata": {},
   "outputs": [],
   "source": [
    "load_from_df(eval_df, dataset)"
   ]
  },
  {
   "cell_type": "code",
   "execution_count": 38,
   "metadata": {},
   "outputs": [
    {
     "name": "stdout",
     "output_type": "stream",
     "text": [
      "Name:        tweet_dataset\n",
      "Media type:  image\n",
      "Num samples: 140\n",
      "Persistent:  False\n",
      "Tags:        []\n",
      "Sample fields:\n",
      "    id:                  fiftyone.core.fields.ObjectIdField\n",
      "    filepath:            fiftyone.core.fields.StringField\n",
      "    tags:                fiftyone.core.fields.ListField(fiftyone.core.fields.StringField)\n",
      "    metadata:            fiftyone.core.fields.EmbeddedDocumentField(fiftyone.core.metadata.ImageMetadata)\n",
      "    ground_truth:        fiftyone.core.fields.EmbeddedDocumentField(fiftyone.core.labels.Classification)\n",
      "    bert_prediction:     fiftyone.core.fields.EmbeddedDocumentField(fiftyone.core.labels.Classification)\n",
      "    roberta_prediction:  fiftyone.core.fields.EmbeddedDocumentField(fiftyone.core.labels.Classification)\n",
      "    bertweet_prediction: fiftyone.core.fields.EmbeddedDocumentField(fiftyone.core.labels.Classification)\n",
      "    gpt3_prediction:     fiftyone.core.fields.EmbeddedDocumentField(fiftyone.core.labels.Classification)\n"
     ]
    }
   ],
   "source": [
    "print(dataset)"
   ]
  },
  {
   "cell_type": "markdown",
   "metadata": {},
   "source": [
    "### GUI of FiftyOne"
   ]
  },
  {
   "cell_type": "code",
   "execution_count": 41,
   "metadata": {},
   "outputs": [
    {
     "data": {
      "text/html": [
       "\n",
       "        <iframe\n",
       "            width=\"100%\"\n",
       "            height=\"800\"\n",
       "            src=\"http://localhost:5151/?context=ipython&subscription=b9756066-f393-4e22-9a5d-a0b198a8ae1b\"\n",
       "            frameborder=\"0\"\n",
       "            allowfullscreen\n",
       "            \n",
       "        ></iframe>\n",
       "        "
      ],
      "text/plain": [
       "<IPython.lib.display.IFrame at 0x167eda0f1f0>"
      ]
     },
     "metadata": {},
     "output_type": "display_data"
    }
   ],
   "source": [
    "session = fo.launch_app(dataset, desktop=False)"
   ]
  },
  {
   "cell_type": "markdown",
   "metadata": {},
   "source": [
    "### Evaluating Predictions of Models"
   ]
  },
  {
   "cell_type": "code",
   "execution_count": 21,
   "metadata": {},
   "outputs": [],
   "source": [
    "def evaluate_model(model_prefix: str):\n",
    "    print(f\"***\\nEvaluation Results For {model_prefix.upper()} model:\\n***\")\n",
    "    prediction_label = model_prefix + \"_prediction\"\n",
    "    eval_key=f\"eval_{model_prefix}_binary\"\n",
    "\n",
    "    results = dataset.evaluate_classifications(\n",
    "        prediction_label,\n",
    "        gt_field=\"ground_truth\",\n",
    "        eval_key=eval_key,\n",
    "        method=\"binary\",\n",
    "        classes=classes,\n",
    "    )\n",
    "\n",
    "    results.print_report()\n",
    "\n",
    "    plot = results.plot_pr_curve()\n",
    "    plot.show()\n",
    "    \n",
    "    conf_plot = results.plot_confusion_matrix()\n",
    "    conf_plot.show()"
   ]
  },
  {
   "cell_type": "code",
   "execution_count": 22,
   "metadata": {},
   "outputs": [
    {
     "name": "stdout",
     "output_type": "stream",
     "text": [
      "***\n",
      "Evaluation Results For BERT model:\n",
      "***\n",
      "                 precision    recall  f1-score   support\n",
      "\n",
      "Not_Checkworthy       0.75      0.70      0.72        80\n",
      "    Checkworthy       0.63      0.68      0.66        60\n",
      "\n",
      "       accuracy                           0.69       140\n",
      "      macro avg       0.69      0.69      0.69       140\n",
      "   weighted avg       0.70      0.69      0.69       140\n",
      "\n"
     ]
    },
    {
     "data": {},
     "metadata": {},
     "output_type": "display_data"
    },
    {
     "data": {
      "text/plain": []
     },
     "metadata": {},
     "output_type": "display_data"
    },
    {
     "data": {
      "application/vnd.jupyter.widget-view+json": {
       "model_id": "1ae097f19da44a64a6400e424eb5b4c7",
       "version_major": 2,
       "version_minor": 0
      },
      "text/plain": [
       "FigureWidget({\n",
       "    'data': [{'customdata': array([0.572932  , 0.6093414 , 0.6666847 , 0.69903913, 0.7764561 , …"
      ]
     },
     "metadata": {},
     "output_type": "display_data"
    },
    {
     "data": {},
     "metadata": {},
     "output_type": "display_data"
    },
    {
     "data": {
      "text/plain": []
     },
     "metadata": {},
     "output_type": "display_data"
    },
    {
     "data": {
      "application/vnd.jupyter.widget-view+json": {
       "model_id": "1b45664e99c84466a4d33402e4606f12",
       "version_major": 2,
       "version_minor": 0
      },
      "text/plain": [
       "FigureWidget({\n",
       "    'data': [{'mode': 'markers',\n",
       "              'opacity': 0.1,\n",
       "              'type': 'scatter',…"
      ]
     },
     "metadata": {},
     "output_type": "display_data"
    }
   ],
   "source": [
    "evaluate_model(\"bert\")"
   ]
  },
  {
   "cell_type": "code",
   "execution_count": 23,
   "metadata": {},
   "outputs": [
    {
     "name": "stdout",
     "output_type": "stream",
     "text": [
      "***\n",
      "Evaluation Results For ROBERTA model:\n",
      "***\n",
      "                 precision    recall  f1-score   support\n",
      "\n",
      "Not_Checkworthy       0.84      0.78      0.81        80\n",
      "    Checkworthy       0.73      0.80      0.76        60\n",
      "\n",
      "       accuracy                           0.79       140\n",
      "      macro avg       0.78      0.79      0.78       140\n",
      "   weighted avg       0.79      0.79      0.79       140\n",
      "\n"
     ]
    },
    {
     "data": {},
     "metadata": {},
     "output_type": "display_data"
    },
    {
     "data": {
      "text/plain": []
     },
     "metadata": {},
     "output_type": "display_data"
    },
    {
     "data": {
      "application/vnd.jupyter.widget-view+json": {
       "model_id": "6efa6bdfd0e04cf19d184e4abd8c99d2",
       "version_major": 2,
       "version_minor": 0
      },
      "text/plain": [
       "FigureWidget({\n",
       "    'data': [{'customdata': array([0.56247944, 0.5634323 , 0.58569556, 0.59688774, 0.62889504, …"
      ]
     },
     "metadata": {},
     "output_type": "display_data"
    },
    {
     "data": {},
     "metadata": {},
     "output_type": "display_data"
    },
    {
     "data": {
      "text/plain": []
     },
     "metadata": {},
     "output_type": "display_data"
    },
    {
     "data": {
      "application/vnd.jupyter.widget-view+json": {
       "model_id": "608f30521cf9464cb41b9350c6041665",
       "version_major": 2,
       "version_minor": 0
      },
      "text/plain": [
       "FigureWidget({\n",
       "    'data': [{'mode': 'markers',\n",
       "              'opacity': 0.1,\n",
       "              'type': 'scatter',…"
      ]
     },
     "metadata": {},
     "output_type": "display_data"
    }
   ],
   "source": [
    "evaluate_model(\"roberta\")"
   ]
  },
  {
   "cell_type": "code",
   "execution_count": 25,
   "metadata": {},
   "outputs": [
    {
     "name": "stdout",
     "output_type": "stream",
     "text": [
      "***\n",
      "Evaluation Results For BERTWEET model:\n",
      "***\n",
      "                 precision    recall  f1-score   support\n",
      "\n",
      "Not_Checkworthy       0.78      0.80      0.79        80\n",
      "    Checkworthy       0.72      0.70      0.71        60\n",
      "\n",
      "       accuracy                           0.76       140\n",
      "      macro avg       0.75      0.75      0.75       140\n",
      "   weighted avg       0.76      0.76      0.76       140\n",
      "\n"
     ]
    },
    {
     "data": {},
     "metadata": {},
     "output_type": "display_data"
    },
    {
     "data": {
      "text/plain": []
     },
     "metadata": {},
     "output_type": "display_data"
    },
    {
     "data": {
      "application/vnd.jupyter.widget-view+json": {
       "model_id": "85ec8add54994101a700ca55867a7f3a",
       "version_major": 2,
       "version_minor": 0
      },
      "text/plain": [
       "FigureWidget({\n",
       "    'data': [{'customdata': array([0.55340412, 0.60111934, 0.60657996, 0.63541842, 0.6430512 , …"
      ]
     },
     "metadata": {},
     "output_type": "display_data"
    },
    {
     "data": {},
     "metadata": {},
     "output_type": "display_data"
    },
    {
     "data": {
      "text/plain": []
     },
     "metadata": {},
     "output_type": "display_data"
    },
    {
     "data": {
      "application/vnd.jupyter.widget-view+json": {
       "model_id": "267adb46b3c94508b4438b7df02f19cb",
       "version_major": 2,
       "version_minor": 0
      },
      "text/plain": [
       "FigureWidget({\n",
       "    'data': [{'mode': 'markers',\n",
       "              'opacity': 0.1,\n",
       "              'type': 'scatter',…"
      ]
     },
     "metadata": {},
     "output_type": "display_data"
    }
   ],
   "source": [
    "evaluate_model(\"bertweet\")"
   ]
  },
  {
   "cell_type": "markdown",
   "metadata": {},
   "source": [
    "## FIFTYONE BRAIN"
   ]
  },
  {
   "cell_type": "code",
   "execution_count": 16,
   "metadata": {},
   "outputs": [],
   "source": [
    "import fiftyone.brain as fob"
   ]
  },
  {
   "cell_type": "markdown",
   "metadata": {},
   "source": [
    "### Computing Sample hardness"
   ]
  },
  {
   "cell_type": "code",
   "execution_count": 39,
   "metadata": {},
   "outputs": [
    {
     "name": "stdout",
     "output_type": "stream",
     "text": [
      "Computing hardness...\n",
      " 100% |█████████████████| 140/140 [203.3ms elapsed, 0s remaining, 688.7 samples/s]      \n",
      "Hardness computation complete\n"
     ]
    }
   ],
   "source": [
    "fob.compute_hardness(dataset, \"gpt3_prediction\")"
   ]
  },
  {
   "cell_type": "code",
   "execution_count": 40,
   "metadata": {},
   "outputs": [
    {
     "name": "stdout",
     "output_type": "stream",
     "text": [
      "Computing mistakenness...\n",
      " 100% |█████████████████| 140/140 [220.0ms elapsed, 0s remaining, 636.5 samples/s]      \n",
      "Mistakenness computation complete\n",
      "Computing mistakenness...\n",
      " 100% |█████████████████| 140/140 [223.6ms elapsed, 0s remaining, 626.1 samples/s]      \n",
      "Mistakenness computation complete\n",
      "Computing mistakenness...\n",
      " 100% |█████████████████| 140/140 [241.1ms elapsed, 0s remaining, 580.6 samples/s]      \n",
      "Mistakenness computation complete\n",
      "Computing mistakenness...\n",
      " 100% |█████████████████| 140/140 [245.5ms elapsed, 0s remaining, 570.3 samples/s]      \n",
      "Mistakenness computation complete\n"
     ]
    }
   ],
   "source": [
    "model_prefix_list = [\"bert\", \"roberta\", \"bertweet\", \"gpt3\"]\n",
    "\n",
    "for prefix in model_prefix_list:\n",
    "    fob.compute_mistakenness(dataset, prefix+\"_prediction\", label_field=\"ground_truth\", mistakenness_field=prefix+\"_mistakeness\", use_logits=True)"
   ]
  },
  {
   "cell_type": "code",
   "execution_count": 16,
   "metadata": {},
   "outputs": [
    {
     "name": "stdout",
     "output_type": "stream",
     "text": [
      "Generating visualization...\n",
      "UMAP(random_state=51, verbose=True)\n",
      "Sun Sep 18 10:26:20 2022 Construct fuzzy simplicial set\n",
      "Sun Sep 18 10:26:21 2022 Finding Nearest Neighbors\n",
      "Sun Sep 18 10:26:23 2022 Finished Nearest Neighbor Search\n",
      "Sun Sep 18 10:26:25 2022 Construct embedding\n"
     ]
    },
    {
     "data": {
      "application/vnd.jupyter.widget-view+json": {
       "model_id": "fb03f6346f07469fba25fa091919b8c1",
       "version_major": 2,
       "version_minor": 0
      },
      "text/plain": [
       "Epochs completed:   0%|            0/500 [00:00]"
      ]
     },
     "metadata": {},
     "output_type": "display_data"
    },
    {
     "name": "stdout",
     "output_type": "stream",
     "text": [
      "Sun Sep 18 10:26:26 2022 Finished embedding\n"
     ]
    }
   ],
   "source": [
    "results = fob.compute_visualization(\n",
    "    dataset,\n",
    "    embeddings=eval_df.embeddings,\n",
    "    num_dims=2,\n",
    "    brain_key=\"image_embeddings\",\n",
    "    verbose=True,\n",
    "    seed=51,\n",
    ")"
   ]
  },
  {
   "cell_type": "code",
   "execution_count": 18,
   "metadata": {},
   "outputs": [
    {
     "name": "stdout",
     "output_type": "stream",
     "text": [
      "<class 'fiftyone.brain.visualization.VisualizationResults'>\n",
      "(140, 2)\n"
     ]
    }
   ],
   "source": [
    "print(type(results))\n",
    "print(results.points.shape)"
   ]
  },
  {
   "cell_type": "code",
   "execution_count": 21,
   "metadata": {},
   "outputs": [
    {
     "data": {
      "text/html": [
       "\n",
       "        <iframe\n",
       "            width=\"100%\"\n",
       "            height=\"800\"\n",
       "            src=\"http://localhost:5151/?context=ipython&subscription=869059c2-df21-476b-9ff7-aeddbfced94c\"\n",
       "            frameborder=\"0\"\n",
       "            allowfullscreen\n",
       "            \n",
       "        ></iframe>\n",
       "        "
      ],
      "text/plain": [
       "<IPython.lib.display.IFrame at 0x1abbf5842b0>"
      ]
     },
     "metadata": {},
     "output_type": "display_data"
    }
   ],
   "source": [
    "session = fo.launch_app(dataset)"
   ]
  },
  {
   "cell_type": "code",
   "execution_count": 25,
   "metadata": {},
   "outputs": [
    {
     "data": {},
     "metadata": {},
     "output_type": "display_data"
    },
    {
     "data": {
      "text/plain": []
     },
     "metadata": {},
     "output_type": "display_data"
    },
    {
     "data": {
      "application/vnd.jupyter.widget-view+json": {
       "model_id": "3265c91f2b3746e1971a9166e714cb01",
       "version_major": 2,
       "version_minor": 0
      },
      "text/plain": [
       "FigureWidget({\n",
       "    'data': [{'customdata': array(['6326c696494f62ffc8e1bb11', '6326c697494f62ffc8e1bb2c',\n",
       "    …"
      ]
     },
     "metadata": {},
     "output_type": "display_data"
    }
   ],
   "source": [
    "# Plot embeddings colored by ground truth label\n",
    "plot = results.visualize(labels=\"ground_truth.label\")\n",
    "plot.show(height=720)\n",
    "\n",
    "# Attach plot to session\n",
    "session.plots.attach(plot)"
   ]
  },
  {
   "cell_type": "code",
   "execution_count": 19,
   "metadata": {},
   "outputs": [
    {
     "name": "stdout",
     "output_type": "stream",
     "text": [
      "['image_embeddings']\n"
     ]
    }
   ],
   "source": [
    "print(dataset.list_brain_runs())"
   ]
  },
  {
   "cell_type": "code",
   "execution_count": 63,
   "metadata": {},
   "outputs": [
    {
     "name": "stdout",
     "output_type": "stream",
     "text": [
      "Dataset:     tweet_dataset\n",
      "Media type:  image\n",
      "Num samples: 140\n",
      "Sample fields:\n",
      "    id:                  fiftyone.core.fields.ObjectIdField\n",
      "    filepath:            fiftyone.core.fields.StringField\n",
      "    tags:                fiftyone.core.fields.ListField(fiftyone.core.fields.StringField)\n",
      "    metadata:            fiftyone.core.fields.EmbeddedDocumentField(fiftyone.core.metadata.ImageMetadata)\n",
      "    ground_truth:        fiftyone.core.fields.EmbeddedDocumentField(fiftyone.core.labels.Classification)\n",
      "    bert_prediction:     fiftyone.core.fields.EmbeddedDocumentField(fiftyone.core.labels.Classification)\n",
      "    roberta_prediction:  fiftyone.core.fields.EmbeddedDocumentField(fiftyone.core.labels.Classification)\n",
      "    bertweet_prediction: fiftyone.core.fields.EmbeddedDocumentField(fiftyone.core.labels.Classification)\n",
      "    hardness:            fiftyone.core.fields.FloatField\n",
      "    mistakenness:        fiftyone.core.fields.FloatField\n",
      "View stages:\n",
      "    1. SortBy(field_or_expr='mistakenness', reverse=True)\n"
     ]
    }
   ],
   "source": [
    "# Sort by likelihood of mistake (most likely first)\n",
    "mistake_view = (dataset\n",
    "    .sort_by(\"mistakenness\", reverse=True)\n",
    ")\n",
    "\n",
    "# Print some information about the view\n",
    "print(mistake_view)"
   ]
  },
  {
   "cell_type": "code",
   "execution_count": 64,
   "metadata": {},
   "outputs": [
    {
     "name": "stdout",
     "output_type": "stream",
     "text": [
      "[<SampleView: {\n",
      "    'id': '63248dcc0fb9082b16cd666a',\n",
      "    'media_type': 'image',\n",
      "    'filepath': 'c:\\\\repos\\\\Transformers_For_Claim_Worthiness\\\\data\\\\img\\\\1237234567423107077.png',\n",
      "    'tags': BaseList(['Validation']),\n",
      "    'metadata': <ImageMetadata: {\n",
      "        'size_bytes': 11520,\n",
      "        'mime_type': 'image/png',\n",
      "        'width': 256,\n",
      "        'height': 256,\n",
      "        'num_channels': 3,\n",
      "    }>,\n",
      "    'ground_truth': <Classification: {\n",
      "        'id': '63248dcc0fb9082b16cd6666',\n",
      "        'tags': BaseList([]),\n",
      "        'label': 'Checkworthy',\n",
      "        'confidence': None,\n",
      "        'logits': None,\n",
      "        'binary_label': 1,\n",
      "    }>,\n",
      "    'bert_prediction': <Classification: {\n",
      "        'id': '63248dcc0fb9082b16cd6667',\n",
      "        'tags': BaseList([]),\n",
      "        'label': 'Not_Checkworthy',\n",
      "        'confidence': 0.000120559474,\n",
      "        'logits': array([1.20559474e-04, 9.99879441e-01]),\n",
      "        'binary_label': 0,\n",
      "    }>,\n",
      "    'roberta_prediction': <Classification: {\n",
      "        'id': '63248dcc0fb9082b16cd6668',\n",
      "        'tags': BaseList([]),\n",
      "        'label': 'Not_Checkworthy',\n",
      "        'confidence': 0.005761041,\n",
      "        'logits': array([0.00576104, 0.99423896]),\n",
      "        'binary_label': 0,\n",
      "    }>,\n",
      "    'bertweet_prediction': <Classification: {\n",
      "        'id': '63248dcc0fb9082b16cd6669',\n",
      "        'tags': BaseList([]),\n",
      "        'label': 'Not_Checkworthy',\n",
      "        'confidence': 0.006344123,\n",
      "        'logits': array([0.00634412, 0.99365588]),\n",
      "        'binary_label': 0,\n",
      "    }>,\n",
      "    'hardness': 0.5846891827872822,\n",
      "    'mistakenness': 0.7786395234081884,\n",
      "}>, <SampleView: {\n",
      "    'id': '63248dcc0fb9082b16cd662b',\n",
      "    'media_type': 'image',\n",
      "    'filepath': 'c:\\\\repos\\\\Transformers_For_Claim_Worthiness\\\\data\\\\img\\\\1236982705604243457.png',\n",
      "    'tags': BaseList(['Validation']),\n",
      "    'metadata': <ImageMetadata: {\n",
      "        'size_bytes': 13457,\n",
      "        'mime_type': 'image/png',\n",
      "        'width': 256,\n",
      "        'height': 256,\n",
      "        'num_channels': 3,\n",
      "    }>,\n",
      "    'ground_truth': <Classification: {\n",
      "        'id': '63248dcc0fb9082b16cd6627',\n",
      "        'tags': BaseList([]),\n",
      "        'label': 'Checkworthy',\n",
      "        'confidence': None,\n",
      "        'logits': None,\n",
      "        'binary_label': 1,\n",
      "    }>,\n",
      "    'bert_prediction': <Classification: {\n",
      "        'id': '63248dcc0fb9082b16cd6628',\n",
      "        'tags': BaseList([]),\n",
      "        'label': 'Not_Checkworthy',\n",
      "        'confidence': 0.00050608255,\n",
      "        'logits': array([5.06082550e-04, 9.99493917e-01]),\n",
      "        'binary_label': 0,\n",
      "    }>,\n",
      "    'roberta_prediction': <Classification: {\n",
      "        'id': '63248dcc0fb9082b16cd6629',\n",
      "        'tags': BaseList([]),\n",
      "        'label': 'Checkworthy',\n",
      "        'confidence': 0.9159118,\n",
      "        'logits': array([0.0840882, 0.9159118]),\n",
      "        'binary_label': 1,\n",
      "    }>,\n",
      "    'bertweet_prediction': <Classification: {\n",
      "        'id': '63248dcc0fb9082b16cd662a',\n",
      "        'tags': BaseList([]),\n",
      "        'label': 'Not_Checkworthy',\n",
      "        'confidence': 0.0064089354,\n",
      "        'logits': array([0.00640894, 0.99359106]),\n",
      "        'binary_label': 0,\n",
      "    }>,\n",
      "    'hardness': 0.5847144914576269,\n",
      "    'mistakenness': 0.7786324715015831,\n",
      "}>, <SampleView: {\n",
      "    'id': '63248dcc0fb9082b16cd678a',\n",
      "    'media_type': 'image',\n",
      "    'filepath': 'c:\\\\repos\\\\Transformers_For_Claim_Worthiness\\\\data\\\\img\\\\1237039035257769986.png',\n",
      "    'tags': BaseList(['Validation']),\n",
      "    'metadata': <ImageMetadata: {\n",
      "        'size_bytes': 16107,\n",
      "        'mime_type': 'image/png',\n",
      "        'width': 256,\n",
      "        'height': 256,\n",
      "        'num_channels': 3,\n",
      "    }>,\n",
      "    'ground_truth': <Classification: {\n",
      "        'id': '63248dcc0fb9082b16cd6786',\n",
      "        'tags': BaseList([]),\n",
      "        'label': 'Checkworthy',\n",
      "        'confidence': None,\n",
      "        'logits': None,\n",
      "        'binary_label': 1,\n",
      "    }>,\n",
      "    'bert_prediction': <Classification: {\n",
      "        'id': '63248dcc0fb9082b16cd6787',\n",
      "        'tags': BaseList([]),\n",
      "        'label': 'Not_Checkworthy',\n",
      "        'confidence': 0.00012204686,\n",
      "        'logits': array([1.22046860e-04, 9.99877953e-01]),\n",
      "        'binary_label': 0,\n",
      "    }>,\n",
      "    'roberta_prediction': <Classification: {\n",
      "        'id': '63248dcc0fb9082b16cd6788',\n",
      "        'tags': BaseList([]),\n",
      "        'label': 'Not_Checkworthy',\n",
      "        'confidence': 0.0060841828,\n",
      "        'logits': array([0.00608418, 0.99391582]),\n",
      "        'binary_label': 0,\n",
      "    }>,\n",
      "    'bertweet_prediction': <Classification: {\n",
      "        'id': '63248dcc0fb9082b16cd6789',\n",
      "        'tags': BaseList([]),\n",
      "        'label': 'Not_Checkworthy',\n",
      "        'confidence': 0.0064522917,\n",
      "        'logits': array([0.00645229, 0.99354771]),\n",
      "        'binary_label': 0,\n",
      "    }>,\n",
      "    'hardness': 0.5847314206922261,\n",
      "    'mistakenness': 0.7786277545070338,\n",
      "}>]\n"
     ]
    }
   ],
   "source": [
    "print(mistake_view.head())"
   ]
  },
  {
   "cell_type": "code",
   "execution_count": null,
   "metadata": {},
   "outputs": [],
   "source": [
    "session.view = dataset.sort_by(\"mistakenness\")"
   ]
  },
  {
   "cell_type": "code",
   "execution_count": 67,
   "metadata": {},
   "outputs": [
    {
     "ename": "ValueError",
     "evalue": "Cannot open a Desktop App instance from a IPYTHON notebook",
     "output_type": "error",
     "traceback": [
      "\u001b[1;31m---------------------------------------------------------------------------\u001b[0m",
      "\u001b[1;31mValueError\u001b[0m                                Traceback (most recent call last)",
      "\u001b[1;32mc:\\repos\\Transformers_For_Claim_Worthiness\\Fiftyone_evaluation\\creating_fo_dataset.ipynb Cell 33\u001b[0m in \u001b[0;36m<cell line: 1>\u001b[1;34m()\u001b[0m\n\u001b[1;32m----> <a href='vscode-notebook-cell:/c%3A/repos/Transformers_For_Claim_Worthiness/Fiftyone_evaluation/creating_fo_dataset.ipynb#Y100sZmlsZQ%3D%3D?line=0'>1</a>\u001b[0m session \u001b[39m=\u001b[39m fo\u001b[39m.\u001b[39;49mlaunch_app(dataset, desktop\u001b[39m=\u001b[39;49m\u001b[39mTrue\u001b[39;49;00m)\n",
      "File \u001b[1;32m~\\AppData\\Roaming\\Python\\Python310\\site-packages\\fiftyone\\core\\session\\session.py:157\u001b[0m, in \u001b[0;36mlaunch_app\u001b[1;34m(dataset, view, port, address, remote, desktop, height, auto, config)\u001b[0m\n\u001b[0;32m    145\u001b[0m \u001b[39m#\u001b[39;00m\n\u001b[0;32m    146\u001b[0m \u001b[39m# Note, we always `close_app()` here rather than just calling\u001b[39;00m\n\u001b[0;32m    147\u001b[0m \u001b[39m# `session.open()` if a session already exists, because the app may have\u001b[39;00m\n\u001b[1;32m   (...)\u001b[0m\n\u001b[0;32m    153\u001b[0m \u001b[39m# @todo this can probably be improved\u001b[39;00m\n\u001b[0;32m    154\u001b[0m \u001b[39m#\u001b[39;00m\n\u001b[0;32m    155\u001b[0m close_app()\n\u001b[1;32m--> 157\u001b[0m _session \u001b[39m=\u001b[39m Session(\n\u001b[0;32m    158\u001b[0m     dataset\u001b[39m=\u001b[39;49mdataset,\n\u001b[0;32m    159\u001b[0m     view\u001b[39m=\u001b[39;49mview,\n\u001b[0;32m    160\u001b[0m     port\u001b[39m=\u001b[39;49mport,\n\u001b[0;32m    161\u001b[0m     address\u001b[39m=\u001b[39;49maddress,\n\u001b[0;32m    162\u001b[0m     remote\u001b[39m=\u001b[39;49mremote,\n\u001b[0;32m    163\u001b[0m     desktop\u001b[39m=\u001b[39;49mdesktop,\n\u001b[0;32m    164\u001b[0m     height\u001b[39m=\u001b[39;49mheight,\n\u001b[0;32m    165\u001b[0m     auto\u001b[39m=\u001b[39;49mauto,\n\u001b[0;32m    166\u001b[0m     config\u001b[39m=\u001b[39;49mconfig,\n\u001b[0;32m    167\u001b[0m )\n\u001b[0;32m    169\u001b[0m \u001b[39mif\u001b[39;00m _session\u001b[39m.\u001b[39mremote:\n\u001b[0;32m    170\u001b[0m     logger\u001b[39m.\u001b[39minfo(_REMOTE_INSTRUCTIONS\u001b[39m.\u001b[39mstrip()\u001b[39m.\u001b[39mformat(_session\u001b[39m.\u001b[39mserver_port))\n",
      "File \u001b[1;32m~\\AppData\\Roaming\\Python\\Python310\\site-packages\\fiftyone\\core\\session\\session.py:366\u001b[0m, in \u001b[0;36mSession.__init__\u001b[1;34m(self, dataset, view, plots, port, address, remote, desktop, height, auto, config)\u001b[0m\n\u001b[0;32m    364\u001b[0m \u001b[39mif\u001b[39;00m \u001b[39mself\u001b[39m\u001b[39m.\u001b[39mdesktop:\n\u001b[0;32m    365\u001b[0m     \u001b[39mif\u001b[39;00m focx\u001b[39m.\u001b[39mis_notebook_context():\n\u001b[1;32m--> 366\u001b[0m         \u001b[39mraise\u001b[39;00m \u001b[39mValueError\u001b[39;00m(\n\u001b[0;32m    367\u001b[0m             \u001b[39m\"\u001b[39m\u001b[39mCannot open a Desktop App instance from a \u001b[39m\u001b[39m%s\u001b[39;00m\u001b[39m notebook\u001b[39m\u001b[39m\"\u001b[39m\n\u001b[0;32m    368\u001b[0m             \u001b[39m%\u001b[39m focx\u001b[39m.\u001b[39m_get_context()\n\u001b[0;32m    369\u001b[0m         )\n\u001b[0;32m    371\u001b[0m     \u001b[39mif\u001b[39;00m \u001b[39mnot\u001b[39;00m focn\u001b[39m.\u001b[39mDEV_INSTALL:\n\u001b[0;32m    372\u001b[0m         import_desktop()\n",
      "\u001b[1;31mValueError\u001b[0m: Cannot open a Desktop App instance from a IPYTHON notebook"
     ]
    }
   ],
   "source": [
    "session = fo.launch_app(dataset, desktop=True)"
   ]
  },
  {
   "cell_type": "markdown",
   "metadata": {},
   "source": [
    "### FINDING CLASSIFICATION MISTAKES WITH FIFTYONE"
   ]
  },
  {
   "cell_type": "code",
   "execution_count": null,
   "metadata": {},
   "outputs": [],
   "source": []
  },
  {
   "cell_type": "code",
   "execution_count": null,
   "metadata": {},
   "outputs": [],
   "source": []
  },
  {
   "cell_type": "code",
   "execution_count": null,
   "metadata": {},
   "outputs": [],
   "source": []
  },
  {
   "cell_type": "code",
   "execution_count": null,
   "metadata": {},
   "outputs": [],
   "source": []
  },
  {
   "cell_type": "code",
   "execution_count": null,
   "metadata": {},
   "outputs": [],
   "source": []
  },
  {
   "cell_type": "code",
   "execution_count": null,
   "metadata": {},
   "outputs": [],
   "source": []
  },
  {
   "cell_type": "code",
   "execution_count": null,
   "metadata": {},
   "outputs": [],
   "source": []
  }
 ],
 "metadata": {
  "kernelspec": {
   "display_name": "Python 3.10.5 64-bit",
   "language": "python",
   "name": "python3"
  },
  "language_info": {
   "codemirror_mode": {
    "name": "ipython",
    "version": 3
   },
   "file_extension": ".py",
   "mimetype": "text/x-python",
   "name": "python",
   "nbconvert_exporter": "python",
   "pygments_lexer": "ipython3",
   "version": "3.10.5"
  },
  "orig_nbformat": 4,
  "vscode": {
   "interpreter": {
    "hash": "a6fd66f23f291c7a70d0834aa3c84fb3d8a0e23845cff3812a1a92aee36ee1d6"
   }
  }
 },
 "nbformat": 4,
 "nbformat_minor": 2
}
