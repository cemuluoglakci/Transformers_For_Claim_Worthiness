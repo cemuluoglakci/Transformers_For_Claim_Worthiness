{
 "cells": [
  {
   "cell_type": "code",
   "execution_count": 49,
   "metadata": {},
   "outputs": [],
   "source": [
    "from PIL import Image, ImageDraw, ImageFont\n",
    "import os\n",
    "import pandas as pd\n"
   ]
  },
  {
   "cell_type": "code",
   "execution_count": 22,
   "metadata": {},
   "outputs": [],
   "source": [
    "img_folder = os.path.join(\"Data\",\"img\")\n",
    "fnt = ImageFont.truetype('/Library/Fonts/arial.ttf', 15)"
   ]
  },
  {
   "cell_type": "code",
   "execution_count": 62,
   "metadata": {},
   "outputs": [],
   "source": [
    "def create_path(id):\n",
    "    return (os.path.join(img_folder, str(id)+\".png\"))"
   ]
  },
  {
   "cell_type": "code",
   "execution_count": 24,
   "metadata": {},
   "outputs": [],
   "source": [
    "tweet_text = \"Thread 1: One wonders about the racial politics of this corona outbreak. What would have happened had it been blacks who came into the country with the virus? Would they hav been allowed to 'self quarantine'? If the virus was from the continent; wouldn't travels be banned by now?\""
   ]
  },
  {
   "cell_type": "code",
   "execution_count": 46,
   "metadata": {},
   "outputs": [],
   "source": [
    "def wrap(text):\n",
    "    line_length = 30\n",
    "    #text_list=[]\n",
    "    paragraph = ''\n",
    "    while len(text)>line_length:\n",
    "        line = text[:line_length]\n",
    "        text = text[line_length:]\n",
    "        paragraph = paragraph + line + '\\n'\n",
    "        #text_list.append(line)\n",
    "    paragraph = paragraph + text\n",
    "    return paragraph"
   ]
  },
  {
   "cell_type": "code",
   "execution_count": 47,
   "metadata": {},
   "outputs": [
    {
     "data": {
      "text/plain": [
       "\"Thread 1: One wonders about th\\ne racial politics of this coro\\nna outbreak. What would have h\\nappened had it been blacks who\\n came into the country with th\\ne virus? Would they hav been a\\nllowed to 'self quarantine'? I\\nf the virus was from the conti\\nnent; wouldn't travels be bann\\ned by now?\""
      ]
     },
     "execution_count": 47,
     "metadata": {},
     "output_type": "execute_result"
    }
   ],
   "source": [
    "wrap(tweet_text)"
   ]
  },
  {
   "cell_type": "code",
   "execution_count": 59,
   "metadata": {},
   "outputs": [],
   "source": [
    "def text2img(text, file_name):\n",
    "    img = Image.new('RGB', (256, 256), color = (255,255,255))\n",
    " \n",
    "    d = ImageDraw.Draw(img)\n",
    "    d.text((10,10), wrap(text), font=fnt, fill=(0,0,0))\n",
    "    \n",
    "    path = create_path(file_name)\n",
    "    img.save(path) "
   ]
  },
  {
   "cell_type": "code",
   "execution_count": 51,
   "metadata": {},
   "outputs": [],
   "source": [
    "test_data_path = os.path.join(\"Data\",\"test_english_raw.tsv\")"
   ]
  },
  {
   "cell_type": "code",
   "execution_count": 52,
   "metadata": {},
   "outputs": [],
   "source": [
    "test_df = pd.read_csv(test_data_path, delimiter='\\t')"
   ]
  },
  {
   "cell_type": "code",
   "execution_count": 63,
   "metadata": {},
   "outputs": [],
   "source": [
    "for index, tweet_data in test_df.iterrows():\n",
    "    text2img(tweet_data.tweet_text, tweet_data.tweet_id)"
   ]
  },
  {
   "cell_type": "code",
   "execution_count": 53,
   "metadata": {},
   "outputs": [
    {
     "data": {
      "text/html": [
       "<div>\n",
       "<style scoped>\n",
       "    .dataframe tbody tr th:only-of-type {\n",
       "        vertical-align: middle;\n",
       "    }\n",
       "\n",
       "    .dataframe tbody tr th {\n",
       "        vertical-align: top;\n",
       "    }\n",
       "\n",
       "    .dataframe thead th {\n",
       "        text-align: right;\n",
       "    }\n",
       "</style>\n",
       "<table border=\"1\" class=\"dataframe\">\n",
       "  <thead>\n",
       "    <tr style=\"text-align: right;\">\n",
       "      <th></th>\n",
       "      <th>topic_id</th>\n",
       "      <th>tweet_id</th>\n",
       "      <th>tweet_url</th>\n",
       "      <th>tweet_text</th>\n",
       "      <th>claim</th>\n",
       "      <th>claim_worthiness</th>\n",
       "    </tr>\n",
       "  </thead>\n",
       "  <tbody>\n",
       "    <tr>\n",
       "      <th>0</th>\n",
       "      <td>covid-19</td>\n",
       "      <td>1237160250513522688</td>\n",
       "      <td>https://twitter.com/user/status/12371602505135...</td>\n",
       "      <td>POTUS wanted everyone to know he was in close ...</td>\n",
       "      <td>0</td>\n",
       "      <td>1</td>\n",
       "    </tr>\n",
       "    <tr>\n",
       "      <th>1</th>\n",
       "      <td>covid-19</td>\n",
       "      <td>1237125962871037953</td>\n",
       "      <td>https://twitter.com/user/status/12371259628710...</td>\n",
       "      <td>Who would you prefer to lead our nation’s resp...</td>\n",
       "      <td>0</td>\n",
       "      <td>0</td>\n",
       "    </tr>\n",
       "    <tr>\n",
       "      <th>2</th>\n",
       "      <td>covid-19</td>\n",
       "      <td>1237207721604235264</td>\n",
       "      <td>https://twitter.com/user/status/12372077216042...</td>\n",
       "      <td>It was a really really really really really re...</td>\n",
       "      <td>0</td>\n",
       "      <td>0</td>\n",
       "    </tr>\n",
       "    <tr>\n",
       "      <th>3</th>\n",
       "      <td>covid-19</td>\n",
       "      <td>1237178597024108552</td>\n",
       "      <td>https://twitter.com/user/status/12371785970241...</td>\n",
       "      <td>Bald-faced #LIE. @replouiegohmert did self-qua...</td>\n",
       "      <td>0</td>\n",
       "      <td>1</td>\n",
       "    </tr>\n",
       "    <tr>\n",
       "      <th>4</th>\n",
       "      <td>covid-19</td>\n",
       "      <td>1237049051058561024</td>\n",
       "      <td>https://twitter.com/user/status/12370490510585...</td>\n",
       "      <td>LIVE: Daily media briefing on #COVID19 with @D...</td>\n",
       "      <td>0</td>\n",
       "      <td>0</td>\n",
       "    </tr>\n",
       "    <tr>\n",
       "      <th>...</th>\n",
       "      <td>...</td>\n",
       "      <td>...</td>\n",
       "      <td>...</td>\n",
       "      <td>...</td>\n",
       "      <td>...</td>\n",
       "      <td>...</td>\n",
       "    </tr>\n",
       "    <tr>\n",
       "      <th>135</th>\n",
       "      <td>covid-19</td>\n",
       "      <td>1237094362544209920</td>\n",
       "      <td>https://twitter.com/user/status/12370943625442...</td>\n",
       "      <td>This is how the Corona Virus is spreading and ...</td>\n",
       "      <td>0</td>\n",
       "      <td>0</td>\n",
       "    </tr>\n",
       "    <tr>\n",
       "      <th>136</th>\n",
       "      <td>covid-19</td>\n",
       "      <td>1237063585580318720</td>\n",
       "      <td>https://twitter.com/user/status/12370635855803...</td>\n",
       "      <td>Markets are crashing. Tourism is dying. Travel...</td>\n",
       "      <td>0</td>\n",
       "      <td>0</td>\n",
       "    </tr>\n",
       "    <tr>\n",
       "      <th>137</th>\n",
       "      <td>covid-19</td>\n",
       "      <td>1237159267070664705</td>\n",
       "      <td>https://twitter.com/user/status/12371592670706...</td>\n",
       "      <td>Pray for Palestine. State of Emergency. - 27 c...</td>\n",
       "      <td>0</td>\n",
       "      <td>0</td>\n",
       "    </tr>\n",
       "    <tr>\n",
       "      <th>138</th>\n",
       "      <td>covid-19</td>\n",
       "      <td>1236972990492897281</td>\n",
       "      <td>https://twitter.com/user/status/12369729904928...</td>\n",
       "      <td>ADVISORY TO STUDENTS: Class suspensions were m...</td>\n",
       "      <td>0</td>\n",
       "      <td>0</td>\n",
       "    </tr>\n",
       "    <tr>\n",
       "      <th>139</th>\n",
       "      <td>covid-19</td>\n",
       "      <td>1237177675212640261</td>\n",
       "      <td>https://twitter.com/user/status/12371776752126...</td>\n",
       "      <td>The total Iranian #COVID19 case-count is in th...</td>\n",
       "      <td>0</td>\n",
       "      <td>1</td>\n",
       "    </tr>\n",
       "  </tbody>\n",
       "</table>\n",
       "<p>140 rows × 6 columns</p>\n",
       "</div>"
      ],
      "text/plain": [
       "     topic_id             tweet_id  \\\n",
       "0    covid-19  1237160250513522688   \n",
       "1    covid-19  1237125962871037953   \n",
       "2    covid-19  1237207721604235264   \n",
       "3    covid-19  1237178597024108552   \n",
       "4    covid-19  1237049051058561024   \n",
       "..        ...                  ...   \n",
       "135  covid-19  1237094362544209920   \n",
       "136  covid-19  1237063585580318720   \n",
       "137  covid-19  1237159267070664705   \n",
       "138  covid-19  1236972990492897281   \n",
       "139  covid-19  1237177675212640261   \n",
       "\n",
       "                                             tweet_url  \\\n",
       "0    https://twitter.com/user/status/12371602505135...   \n",
       "1    https://twitter.com/user/status/12371259628710...   \n",
       "2    https://twitter.com/user/status/12372077216042...   \n",
       "3    https://twitter.com/user/status/12371785970241...   \n",
       "4    https://twitter.com/user/status/12370490510585...   \n",
       "..                                                 ...   \n",
       "135  https://twitter.com/user/status/12370943625442...   \n",
       "136  https://twitter.com/user/status/12370635855803...   \n",
       "137  https://twitter.com/user/status/12371592670706...   \n",
       "138  https://twitter.com/user/status/12369729904928...   \n",
       "139  https://twitter.com/user/status/12371776752126...   \n",
       "\n",
       "                                            tweet_text  claim  \\\n",
       "0    POTUS wanted everyone to know he was in close ...      0   \n",
       "1    Who would you prefer to lead our nation’s resp...      0   \n",
       "2    It was a really really really really really re...      0   \n",
       "3    Bald-faced #LIE. @replouiegohmert did self-qua...      0   \n",
       "4    LIVE: Daily media briefing on #COVID19 with @D...      0   \n",
       "..                                                 ...    ...   \n",
       "135  This is how the Corona Virus is spreading and ...      0   \n",
       "136  Markets are crashing. Tourism is dying. Travel...      0   \n",
       "137  Pray for Palestine. State of Emergency. - 27 c...      0   \n",
       "138  ADVISORY TO STUDENTS: Class suspensions were m...      0   \n",
       "139  The total Iranian #COVID19 case-count is in th...      0   \n",
       "\n",
       "     claim_worthiness  \n",
       "0                   1  \n",
       "1                   0  \n",
       "2                   0  \n",
       "3                   1  \n",
       "4                   0  \n",
       "..                ...  \n",
       "135                 0  \n",
       "136                 0  \n",
       "137                 0  \n",
       "138                 0  \n",
       "139                 1  \n",
       "\n",
       "[140 rows x 6 columns]"
      ]
     },
     "execution_count": 53,
     "metadata": {},
     "output_type": "execute_result"
    }
   ],
   "source": [
    "test_df"
   ]
  },
  {
   "cell_type": "code",
   "execution_count": null,
   "metadata": {},
   "outputs": [],
   "source": []
  },
  {
   "cell_type": "code",
   "execution_count": null,
   "metadata": {},
   "outputs": [],
   "source": []
  },
  {
   "cell_type": "code",
   "execution_count": null,
   "metadata": {},
   "outputs": [],
   "source": []
  }
 ],
 "metadata": {
  "kernelspec": {
   "display_name": "Python 3.10.5 ('env': venv)",
   "language": "python",
   "name": "python3"
  },
  "language_info": {
   "codemirror_mode": {
    "name": "ipython",
    "version": 3
   },
   "file_extension": ".py",
   "mimetype": "text/x-python",
   "name": "python",
   "nbconvert_exporter": "python",
   "pygments_lexer": "ipython3",
   "version": "3.10.5"
  },
  "orig_nbformat": 4,
  "vscode": {
   "interpreter": {
    "hash": "ac5fd93920850ba8516952f9d181e232c5108fd2952d4f8bf368587222a00bb0"
   }
  }
 },
 "nbformat": 4,
 "nbformat_minor": 2
}
