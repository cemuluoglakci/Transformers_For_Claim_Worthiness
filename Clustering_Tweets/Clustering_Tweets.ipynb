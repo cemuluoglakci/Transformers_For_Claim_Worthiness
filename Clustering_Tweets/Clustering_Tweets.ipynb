{
 "cells": [
  {
   "cell_type": "code",
   "execution_count": 44,
   "metadata": {},
   "outputs": [],
   "source": [
    "# https://github.com/stanfordnlp/GloVe\n",
    "# https://medium.com/analytics-vidhya/basics-of-using-pre-trained-glove-vectors-in-python-d38905f356db\n",
    "# https://github.com/keshavbhandari/Unsupervised-Learning-With-Glove-Word-Embeddings-on-Search-Queries/blob/master/Glove_Clustering.py\n",
    "# https://medium.com/analytics-vidhya/basics-of-using-pre-trained-glove-vectors-in-python-d38905f356db\n",
    "\n",
    "import numpy as np\n",
    "import pandas as pd\n",
    "from scipy import spatial\n",
    "import matplotlib.pyplot as plt\n",
    "from sklearn.manifold import TSNE\n",
    "import os\n",
    "from nltk.corpus import stopwords\n",
    "from nltk.stem import WordNetLemmatizer\n",
    "from nltk.tag import pos_tag\n",
    "from nltk.tokenize import word_tokenize\n",
    "import nltk\n",
    "from gensim.models import KeyedVectors"
   ]
  },
  {
   "cell_type": "code",
   "execution_count": 32,
   "metadata": {},
   "outputs": [
    {
     "name": "stderr",
     "output_type": "stream",
     "text": [
      "[nltk_data] Downloading package averaged_perceptron_tagger to\n",
      "[nltk_data]     C:\\Users\\cemul\\AppData\\Roaming\\nltk_data...\n",
      "[nltk_data]   Package averaged_perceptron_tagger is already up-to-\n",
      "[nltk_data]       date!\n",
      "[nltk_data] Downloading package wordnet to\n",
      "[nltk_data]     C:\\Users\\cemul\\AppData\\Roaming\\nltk_data...\n",
      "[nltk_data]   Package wordnet is already up-to-date!\n",
      "[nltk_data] Downloading package omw-1.4 to\n",
      "[nltk_data]     C:\\Users\\cemul\\AppData\\Roaming\\nltk_data...\n"
     ]
    },
    {
     "data": {
      "text/plain": [
       "True"
      ]
     },
     "execution_count": 32,
     "metadata": {},
     "output_type": "execute_result"
    }
   ],
   "source": [
    "nltk.download('averaged_perceptron_tagger')\n",
    "nltk.download('wordnet')\n",
    "nltk.download('omw-1.4')"
   ]
  },
  {
   "cell_type": "markdown",
   "metadata": {},
   "source": [
    "### Importing Glove Embeddings"
   ]
  },
  {
   "cell_type": "code",
   "execution_count": 2,
   "metadata": {},
   "outputs": [],
   "source": [
    "# defining relative paths\n",
    "parent_dir = os.path.dirname(os.path.abspath(os.getcwd()))\n",
    "data_dir = os.path.join(parent_dir, \"Data\")\n",
    "glove_dir = os.path.join(data_dir,\"glove\")\n",
    "glove_file = \"glove.twitter.27B.200d.txt\"\n",
    "glove_path =  os.path.join(glove_dir,glove_file)"
   ]
  },
  {
   "cell_type": "code",
   "execution_count": 3,
   "metadata": {},
   "outputs": [],
   "source": [
    "embeddings_dict = {}\n",
    "with open(glove_path, 'r', encoding=\"utf-8\") as f:\n",
    "    for line in f:\n",
    "        values = line.split()\n",
    "        word = values[0]\n",
    "        vector = np.asarray(values[1:], \"float32\")\n",
    "        embeddings_dict[word] = vector"
   ]
  },
  {
   "cell_type": "code",
   "execution_count": 6,
   "metadata": {},
   "outputs": [],
   "source": [
    "del embeddings_dict['-0.29736']"
   ]
  },
  {
   "cell_type": "code",
   "execution_count": 7,
   "metadata": {},
   "outputs": [],
   "source": [
    "def find_closest_embeddings(embedding):\n",
    "    return sorted(embeddings_dict.keys(), key=lambda word: spatial.distance.euclidean(embeddings_dict[word], embedding))\n"
   ]
  },
  {
   "cell_type": "code",
   "execution_count": 8,
   "metadata": {},
   "outputs": [
    {
     "data": {
      "text/plain": [
       "['turkey', 'lebanese', 'ukrainian', 'azerbaijan']"
      ]
     },
     "execution_count": 8,
     "metadata": {},
     "output_type": "execute_result"
    }
   ],
   "source": [
    "find_closest_embeddings(embeddings_dict[\"turkish\"])[1:5]"
   ]
  },
  {
   "cell_type": "markdown",
   "metadata": {},
   "source": [
    "### Further Cleaning Data for Creating Embeddings"
   ]
  },
  {
   "cell_type": "code",
   "execution_count": 9,
   "metadata": {},
   "outputs": [],
   "source": [
    "train_df = pd.read_csv(os.path.join(data_dir, 'train_english_cleaned_without_mentions.tsv'), delimiter='\\t')\n",
    "test_df = pd.read_csv(os.path.join(data_dir, 'test_english_cleaned_without_mentions.tsv'), delimiter='\\t')"
   ]
  },
  {
   "cell_type": "code",
   "execution_count": 10,
   "metadata": {},
   "outputs": [
    {
     "data": {
      "text/html": [
       "<div>\n",
       "<style scoped>\n",
       "    .dataframe tbody tr th:only-of-type {\n",
       "        vertical-align: middle;\n",
       "    }\n",
       "\n",
       "    .dataframe tbody tr th {\n",
       "        vertical-align: top;\n",
       "    }\n",
       "\n",
       "    .dataframe thead th {\n",
       "        text-align: right;\n",
       "    }\n",
       "</style>\n",
       "<table border=\"1\" class=\"dataframe\">\n",
       "  <thead>\n",
       "    <tr style=\"text-align: right;\">\n",
       "      <th></th>\n",
       "      <th>tweet_text</th>\n",
       "      <th>check_worthiness</th>\n",
       "    </tr>\n",
       "  </thead>\n",
       "  <tbody>\n",
       "    <tr>\n",
       "      <th>0</th>\n",
       "      <td>Since this will never get reported by the medi...</td>\n",
       "      <td>1</td>\n",
       "    </tr>\n",
       "    <tr>\n",
       "      <th>1</th>\n",
       "      <td>Thanks, MichaelBloomberg. Here’s a handy littl...</td>\n",
       "      <td>0</td>\n",
       "    </tr>\n",
       "    <tr>\n",
       "      <th>2</th>\n",
       "      <td>Folks, when you say \"The COVID-19 isn't a big ...</td>\n",
       "      <td>0</td>\n",
       "    </tr>\n",
       "    <tr>\n",
       "      <th>3</th>\n",
       "      <td>Just 1 case of COVID-19 in India and people ar...</td>\n",
       "      <td>0</td>\n",
       "    </tr>\n",
       "    <tr>\n",
       "      <th>4</th>\n",
       "      <td>President made a commitment to donate his sala...</td>\n",
       "      <td>1</td>\n",
       "    </tr>\n",
       "    <tr>\n",
       "      <th>...</th>\n",
       "      <td>...</td>\n",
       "      <td>...</td>\n",
       "    </tr>\n",
       "    <tr>\n",
       "      <th>817</th>\n",
       "      <td>Stop spreading fake news COVID-19</td>\n",
       "      <td>0</td>\n",
       "    </tr>\n",
       "    <tr>\n",
       "      <th>818</th>\n",
       "      <td>It's fake! It's fake!' shout residents of a co...</td>\n",
       "      <td>1</td>\n",
       "    </tr>\n",
       "    <tr>\n",
       "      <th>819</th>\n",
       "      <td>Be Smart about COVID-19: 1⃣ follow accurate pu...</td>\n",
       "      <td>0</td>\n",
       "    </tr>\n",
       "    <tr>\n",
       "      <th>820</th>\n",
       "      <td>On the left: , a Qatari puppet, attacks Saudi ...</td>\n",
       "      <td>1</td>\n",
       "    </tr>\n",
       "    <tr>\n",
       "      <th>821</th>\n",
       "      <td>Could this be reason why COVID-19 has spread i...</td>\n",
       "      <td>1</td>\n",
       "    </tr>\n",
       "  </tbody>\n",
       "</table>\n",
       "<p>822 rows × 2 columns</p>\n",
       "</div>"
      ],
      "text/plain": [
       "                                            tweet_text  check_worthiness\n",
       "0    Since this will never get reported by the medi...                 1\n",
       "1    Thanks, MichaelBloomberg. Here’s a handy littl...                 0\n",
       "2    Folks, when you say \"The COVID-19 isn't a big ...                 0\n",
       "3    Just 1 case of COVID-19 in India and people ar...                 0\n",
       "4    President made a commitment to donate his sala...                 1\n",
       "..                                                 ...               ...\n",
       "817                  Stop spreading fake news COVID-19                 0\n",
       "818  It's fake! It's fake!' shout residents of a co...                 1\n",
       "819  Be Smart about COVID-19: 1⃣ follow accurate pu...                 0\n",
       "820  On the left: , a Qatari puppet, attacks Saudi ...                 1\n",
       "821  Could this be reason why COVID-19 has spread i...                 1\n",
       "\n",
       "[822 rows x 2 columns]"
      ]
     },
     "execution_count": 10,
     "metadata": {},
     "output_type": "execute_result"
    }
   ],
   "source": [
    "train_df"
   ]
  },
  {
   "cell_type": "code",
   "execution_count": 11,
   "metadata": {},
   "outputs": [],
   "source": [
    "def clean_text(df, column_name):\n",
    "    stop = stopwords.words('english')\n",
    "    df[column_name] = df[column_name].str.lower() #Lower case\n",
    "    df[column_name] = df[column_name].str.replace(r'\\d', '') #Remove numbers\n",
    "    df[column_name] = df[column_name].str.replace(r'[^\\w\\s]+', ' ') #Punctuation\n",
    "    df[column_name] = df[column_name].apply(lambda x: ' '.join([word for word in x.split() if word not in (stop)])) #Remove stopwords\n",
    "    return df\n",
    "    "
   ]
  },
  {
   "cell_type": "code",
   "execution_count": 162,
   "metadata": {},
   "outputs": [
    {
     "name": "stderr",
     "output_type": "stream",
     "text": [
      "C:\\Users\\cemul\\AppData\\Local\\Temp\\ipykernel_24836\\3342062777.py:4: FutureWarning: The default value of regex will change from True to False in a future version.\n",
      "  df[column_name] = df[column_name].str.replace(r'\\d', '') #Remove numbers\n",
      "C:\\Users\\cemul\\AppData\\Local\\Temp\\ipykernel_24836\\3342062777.py:5: FutureWarning: The default value of regex will change from True to False in a future version.\n",
      "  df[column_name] = df[column_name].str.replace(r'[^\\w\\s]+', ' ') #Punctuation\n"
     ]
    }
   ],
   "source": [
    "test_df = clean_text(test_df, \"tweet_text\")"
   ]
  },
  {
   "cell_type": "code",
   "execution_count": 12,
   "metadata": {},
   "outputs": [
    {
     "name": "stderr",
     "output_type": "stream",
     "text": [
      "C:\\Users\\cemul\\AppData\\Local\\Temp\\ipykernel_24836\\3342062777.py:4: FutureWarning: The default value of regex will change from True to False in a future version.\n",
      "  df[column_name] = df[column_name].str.replace(r'\\d', '') #Remove numbers\n",
      "C:\\Users\\cemul\\AppData\\Local\\Temp\\ipykernel_24836\\3342062777.py:5: FutureWarning: The default value of regex will change from True to False in a future version.\n",
      "  df[column_name] = df[column_name].str.replace(r'[^\\w\\s]+', ' ') #Punctuation\n"
     ]
    },
    {
     "data": {
      "text/html": [
       "<div>\n",
       "<style scoped>\n",
       "    .dataframe tbody tr th:only-of-type {\n",
       "        vertical-align: middle;\n",
       "    }\n",
       "\n",
       "    .dataframe tbody tr th {\n",
       "        vertical-align: top;\n",
       "    }\n",
       "\n",
       "    .dataframe thead th {\n",
       "        text-align: right;\n",
       "    }\n",
       "</style>\n",
       "<table border=\"1\" class=\"dataframe\">\n",
       "  <thead>\n",
       "    <tr style=\"text-align: right;\">\n",
       "      <th></th>\n",
       "      <th>tweet_text</th>\n",
       "      <th>check_worthiness</th>\n",
       "    </tr>\n",
       "  </thead>\n",
       "  <tbody>\n",
       "    <tr>\n",
       "      <th>0</th>\n",
       "      <td>since never get reported media wanted share co...</td>\n",
       "      <td>1</td>\n",
       "    </tr>\n",
       "    <tr>\n",
       "      <th>1</th>\n",
       "      <td>thanks michaelbloomberg handy little unintenti...</td>\n",
       "      <td>0</td>\n",
       "    </tr>\n",
       "    <tr>\n",
       "      <th>2</th>\n",
       "      <td>folks say covid big deal kills disabled elderl...</td>\n",
       "      <td>0</td>\n",
       "    </tr>\n",
       "    <tr>\n",
       "      <th>3</th>\n",
       "      <td>case covid india people crazy masks daily peop...</td>\n",
       "      <td>0</td>\n",
       "    </tr>\n",
       "    <tr>\n",
       "      <th>4</th>\n",
       "      <td>president made commitment donate salary office...</td>\n",
       "      <td>1</td>\n",
       "    </tr>\n",
       "    <tr>\n",
       "      <th>...</th>\n",
       "      <td>...</td>\n",
       "      <td>...</td>\n",
       "    </tr>\n",
       "    <tr>\n",
       "      <th>817</th>\n",
       "      <td>stop spreading fake news covid</td>\n",
       "      <td>0</td>\n",
       "    </tr>\n",
       "    <tr>\n",
       "      <th>818</th>\n",
       "      <td>fake fake shout residents community covid epic...</td>\n",
       "      <td>1</td>\n",
       "    </tr>\n",
       "    <tr>\n",
       "      <th>819</th>\n",
       "      <td>smart covid follow accurate public health advi...</td>\n",
       "      <td>0</td>\n",
       "    </tr>\n",
       "    <tr>\n",
       "      <th>820</th>\n",
       "      <td>left qatari puppet attacks saudi arabia tempor...</td>\n",
       "      <td>1</td>\n",
       "    </tr>\n",
       "    <tr>\n",
       "      <th>821</th>\n",
       "      <td>could reason covid spread north italy timing q...</td>\n",
       "      <td>1</td>\n",
       "    </tr>\n",
       "  </tbody>\n",
       "</table>\n",
       "<p>822 rows × 2 columns</p>\n",
       "</div>"
      ],
      "text/plain": [
       "                                            tweet_text  check_worthiness\n",
       "0    since never get reported media wanted share co...                 1\n",
       "1    thanks michaelbloomberg handy little unintenti...                 0\n",
       "2    folks say covid big deal kills disabled elderl...                 0\n",
       "3    case covid india people crazy masks daily peop...                 0\n",
       "4    president made commitment donate salary office...                 1\n",
       "..                                                 ...               ...\n",
       "817                     stop spreading fake news covid                 0\n",
       "818  fake fake shout residents community covid epic...                 1\n",
       "819  smart covid follow accurate public health advi...                 0\n",
       "820  left qatari puppet attacks saudi arabia tempor...                 1\n",
       "821  could reason covid spread north italy timing q...                 1\n",
       "\n",
       "[822 rows x 2 columns]"
      ]
     },
     "execution_count": 12,
     "metadata": {},
     "output_type": "execute_result"
    }
   ],
   "source": [
    "train_df = clean_text(train_df, \"tweet_text\")\n",
    "train_df"
   ]
  },
  {
   "cell_type": "code",
   "execution_count": 37,
   "metadata": {},
   "outputs": [],
   "source": [
    "wnl = WordNetLemmatizer()\n",
    "def lemmatize_sentence(sentence):\n",
    "    text = list()\n",
    "    for word, tag in nltk.pos_tag(str.split(sentence)):\n",
    "        if tag.startswith(\"NN\"):\n",
    "            text.append( wnl.lemmatize(word, pos='n'))\n",
    "        elif tag.startswith('VB'):\n",
    "            text.append( wnl.lemmatize(word, pos='v'))\n",
    "        elif tag.startswith('JJ'):\n",
    "            text.append( wnl.lemmatize(word, pos='a'))\n",
    "        else:\n",
    "            text.append( word)\n",
    "    return ' '.join(text)  "
   ]
  },
  {
   "cell_type": "code",
   "execution_count": 163,
   "metadata": {},
   "outputs": [],
   "source": [
    "test_df[\"tweet_text\"] = test_df[\"tweet_text\"].apply(lambda sentence: ' '.join([lemmatize_sentence(sentence)]))"
   ]
  },
  {
   "cell_type": "code",
   "execution_count": 40,
   "metadata": {},
   "outputs": [
    {
     "data": {
      "text/html": [
       "<div>\n",
       "<style scoped>\n",
       "    .dataframe tbody tr th:only-of-type {\n",
       "        vertical-align: middle;\n",
       "    }\n",
       "\n",
       "    .dataframe tbody tr th {\n",
       "        vertical-align: top;\n",
       "    }\n",
       "\n",
       "    .dataframe thead th {\n",
       "        text-align: right;\n",
       "    }\n",
       "</style>\n",
       "<table border=\"1\" class=\"dataframe\">\n",
       "  <thead>\n",
       "    <tr style=\"text-align: right;\">\n",
       "      <th></th>\n",
       "      <th>tweet_text</th>\n",
       "      <th>check_worthiness</th>\n",
       "    </tr>\n",
       "  </thead>\n",
       "  <tbody>\n",
       "    <tr>\n",
       "      <th>0</th>\n",
       "      <td>since never get reported medium want share cop...</td>\n",
       "      <td>1</td>\n",
       "    </tr>\n",
       "    <tr>\n",
       "      <th>1</th>\n",
       "      <td>thanks michaelbloomberg handy little unintenti...</td>\n",
       "      <td>0</td>\n",
       "    </tr>\n",
       "    <tr>\n",
       "      <th>2</th>\n",
       "      <td>folk say covid big deal kill disable elderly c...</td>\n",
       "      <td>0</td>\n",
       "    </tr>\n",
       "    <tr>\n",
       "      <th>3</th>\n",
       "      <td>case covid india people crazy mask daily peopl...</td>\n",
       "      <td>0</td>\n",
       "    </tr>\n",
       "    <tr>\n",
       "      <th>4</th>\n",
       "      <td>president make commitment donate salary office...</td>\n",
       "      <td>1</td>\n",
       "    </tr>\n",
       "    <tr>\n",
       "      <th>...</th>\n",
       "      <td>...</td>\n",
       "      <td>...</td>\n",
       "    </tr>\n",
       "    <tr>\n",
       "      <th>817</th>\n",
       "      <td>stop spread fake news covid</td>\n",
       "      <td>0</td>\n",
       "    </tr>\n",
       "    <tr>\n",
       "      <th>818</th>\n",
       "      <td>fake fake shout resident community covid epice...</td>\n",
       "      <td>1</td>\n",
       "    </tr>\n",
       "    <tr>\n",
       "      <th>819</th>\n",
       "      <td>smart covid follow accurate public health advi...</td>\n",
       "      <td>0</td>\n",
       "    </tr>\n",
       "    <tr>\n",
       "      <th>820</th>\n",
       "      <td>leave qatari puppet attack saudi arabia tempor...</td>\n",
       "      <td>1</td>\n",
       "    </tr>\n",
       "    <tr>\n",
       "      <th>821</th>\n",
       "      <td>could reason covid spread north italy timing q...</td>\n",
       "      <td>1</td>\n",
       "    </tr>\n",
       "  </tbody>\n",
       "</table>\n",
       "<p>822 rows × 2 columns</p>\n",
       "</div>"
      ],
      "text/plain": [
       "                                            tweet_text  check_worthiness\n",
       "0    since never get reported medium want share cop...                 1\n",
       "1    thanks michaelbloomberg handy little unintenti...                 0\n",
       "2    folk say covid big deal kill disable elderly c...                 0\n",
       "3    case covid india people crazy mask daily peopl...                 0\n",
       "4    president make commitment donate salary office...                 1\n",
       "..                                                 ...               ...\n",
       "817                        stop spread fake news covid                 0\n",
       "818  fake fake shout resident community covid epice...                 1\n",
       "819  smart covid follow accurate public health advi...                 0\n",
       "820  leave qatari puppet attack saudi arabia tempor...                 1\n",
       "821  could reason covid spread north italy timing q...                 1\n",
       "\n",
       "[822 rows x 2 columns]"
      ]
     },
     "execution_count": 40,
     "metadata": {},
     "output_type": "execute_result"
    }
   ],
   "source": [
    "train_df[\"tweet_text\"] = train_df[\"tweet_text\"].apply(lambda sentence: ' '.join([lemmatize_sentence(sentence)]))\n",
    "train_df"
   ]
  },
  {
   "cell_type": "code",
   "execution_count": 46,
   "metadata": {},
   "outputs": [],
   "source": [
    "def get_non_glove_words(dataframe, column, embeddings_dict):\n",
    "\n",
    "    # Unique Words\n",
    "    counts = dataframe[column].str.split(expand=True).stack().value_counts(dropna=False).rename_axis('unique_words').reset_index(name='counts')\n",
    "    \n",
    "    # Extracting Glove Words and Non Glove Words\n",
    "    non_glove_words = list()\n",
    "    glove_words = list()\n",
    "    for i in counts['unique_words']:\n",
    "        try:\n",
    "            embeddings_dict[i]\n",
    "        except KeyError:\n",
    "            non_glove_words.append(i)\n",
    "        else:\n",
    "            glove_words.append(i)\n",
    "    \n",
    "    #Non-Glove words\n",
    "    non_glove_words_df = pd.DataFrame({'unique_non_glove_words':non_glove_words})\n",
    "    non_glove_words_df = pd.merge(non_glove_words_df,counts,how='left',left_on=['unique_non_glove_words'],right_on=['unique_words']).iloc[:,[0,2]]\n",
    "    non_glove_words_df['cum_perc'] = round(100*non_glove_words_df[\"counts\"].cumsum()/non_glove_words_df[\"counts\"].sum(),2)\n",
    "    \n",
    "    print('Done')\n",
    "    \n",
    "    return(non_glove_words_df)"
   ]
  },
  {
   "cell_type": "code",
   "execution_count": 48,
   "metadata": {},
   "outputs": [
    {
     "name": "stdout",
     "output_type": "stream",
     "text": [
      "Done\n"
     ]
    }
   ],
   "source": [
    "non_glove_words_df =get_non_glove_words(train_df, \"tweet_text\", embeddings_dict)"
   ]
  },
  {
   "cell_type": "code",
   "execution_count": 51,
   "metadata": {},
   "outputs": [
    {
     "data": {
      "text/plain": [
       "array(['covid', 'coronavirusoutbreak', 'coronaalert', 'coronaoutbreak',\n",
       "       'coronavirusupdate', 'coronavirusindia', 'epidemiologist',\n",
       "       'koronawirus', 'underfunding', 'chloroquine', 'coronavirusturkey',\n",
       "       'coronavirusitalia', 'indiafightscorona', 'kyari', 'ppes',\n",
       "       'coronvirus', 'fakenewsmedia', 'nurtw', 'nofakenews',\n",
       "       'pibfactcheck', 'wuhanvirus', 'americafirst', 'trumpcrash',\n",
       "       'supertuesday', 'flattenthecurve', 'trumpvirus', 'fauci', 'lhota',\n",
       "       'justicefordrcarlos', 'notoviptesting', 'teleworking',\n",
       "       'nationalguard', 'ccpvirus', 'shalomnamaste', 'covidon',\n",
       "       'getmeppe', 'nmasks', 'ehhhh', 'petrify', 'zhangyixing',\n",
       "       'fakescience', 'pharmafauci', 'rathee', 'mishandle',\n",
       "       'covidnigeria', 'takingoncorona', 'notahoax', 'militarytrain',\n",
       "       'forcedisolation', 'foxclassaction', 'complacence',\n",
       "       'hydroxychloroquine', 'arrhythmias', 'plaquenil', 'withhealth',\n",
       "       'tulirogwa', 'agaings', 'withtheir', 'overburden',\n",
       "       'coronavirusupdates', 'bquestions', 'freeckicks', 'onevoice',\n",
       "       'stayconnected', 'staystrong_army', 'btslovemyself', 'endviolence',\n",
       "       'stayathome', 'stayhomestaysafe', 'aggresively', 'uniteagainst',\n",
       "       'immunocompromised', 'qanon', 'wwgwga', 'chornically',\n",
       "       'safetysaves', 'helmetsthinking', 'germaphobetrump', 'bonespurs',\n",
       "       'kreaboo', 'jimbakker', 'droolingbloomberg', 'minimikebloomberg',\n",
       "       'lisalandau', 'coronaviruschina', 'btsarmy', 'hongkongers',\n",
       "       'covidance', 'dohgovph', 'repmarkgreen', 'maralargo',\n",
       "       'coronavirusinsa', 'actuell', 'csse', 'coronavius', 'disallowance',\n",
       "       'nancypelosi', 'trumplandslidebaby', 'alterior', 'adamschiff',\n",
       "       'deepstate', 'jussiehoax', 'antilynching', 'chunlan', 'statesflag',\n",
       "       'paleeze', 'underlie', 'findthetruth', 'mypillow', 'covidlagos',\n",
       "       'sensitize', 'michaelbloomberg', 'fearporn', 'factsfirst',\n",
       "       'stayathomechallenge', 'shareknowledge', 'kckpd', 'norumors',\n",
       "       'shareinformation', 'covidout', 'chinesevirus', 'containable',\n",
       "       'cdctravelnotices', 'nonessential', 'coronawarriors', 'xijinping',\n",
       "       'figliuzzi', 'coronaviruspakistan', 'covidindia',\n",
       "       'coronavirusinindia', 'trumpliespeopledie', 'coronaviruspandemic',\n",
       "       'namaskaram', 'sadhguru', 'trumppandemic', 'coronavirususa',\n",
       "       'rampantly', 'justsowrongjoe', 'notokayjoe', 'coronovirus',\n",
       "       'thursdaythoughts', 'thursdaymotivation', 'coronaviruschallenge',\n",
       "       'votebluetosaveamerica', 'giroir', 'internationaly',\n",
       "       'trumptownhall', 'totalsportek', 'lipsitch', 'interferfon',\n",
       "       'survivable', 'ghebreyesus', 'trumpin', 'withclosing', 'tedros',\n",
       "       'adhanom', 'makayakap', 'presidenttrump', 'trishregan', 'antivaxx',\n",
       "       'tokhang', 'oustduterte', 'granfury', 'maglilibot', 'dutertevirus',\n",
       "       'closetheschools', 'weaponization', 'aylward', 'capulong',\n",
       "       'italylockdown', 'italystaystrong', 'nanoparticle', 'lmaooooo',\n",
       "       'okullartatiledilsin', 'psmid', 'gaetz', 'colonizer', 'infectee',\n",
       "       'kellyanne', 'supramolecular', 'bilayer', 'numbskulls',\n",
       "       'guidlines', 'wuhancoronavirus', 'coronavirusspread', 'antiblack',\n",
       "       'maufactured', 'vociferously', 'standardofcare', 'factsmatter',\n",
       "       'precariousness', 'foodworkers', 'toiletpaperpanic',\n",
       "       'panickbuying', 'ambag', 'pananahimik', 'walwal', 'salamatup',\n",
       "       'nakakasalamuha', 'karmy', 'prophylatically', 'sickpayforall',\n",
       "       'alertomanileno', 'nobanact', 'globalism', 'unhampered',\n",
       "       'coronavirusseattle', 'trumpviruscoverup', 'cancellled', 'brexit',\n",
       "       'countermeasure', 'moneyandfacemasks', 'vergeire',\n",
       "       'transmitibility', 'airtravel', 'القطاع_الخاص', 'infuenza',\n",
       "       'codogno', 'coronavirussa', 'dontpanicbecautious', 'discission',\n",
       "       'hcws', 'ncov', 'gaumutr', 'mahasabha', 'gocavite', 'marketcrash',\n",
       "       'wakashi', 'mikasy', 'votebluetoendthisnightmare',\n",
       "       'كورونا_السعوديه', 'cerebrospinal', 'pathogenesis', 'gasmaskgaetz',\n",
       "       'clarisen', 'panicbuyinguk', 'wenliang', 'uaevoice',\n",
       "       'сoronaviruses', 'coronavirusec', 'wuhanchina', 'coronavirusand',\n",
       "       'ideasand', 'ldtpoll', 'virologist', 'dangerousness', 'exigency',\n",
       "       'tnhealth', 'borneobulletin', 'nakwa', 'echecki', 'rggh',\n",
       "       'coviduk', 'coronavirusuk', 'serological', 'sanitiser'],\n",
       "      dtype=object)"
      ]
     },
     "execution_count": 51,
     "metadata": {},
     "output_type": "execute_result"
    }
   ],
   "source": [
    "non_glove_words_df.unique_non_glove_words.values"
   ]
  },
  {
   "cell_type": "code",
   "execution_count": null,
   "metadata": {},
   "outputs": [],
   "source": [
    "\n"
   ]
  },
  {
   "cell_type": "code",
   "execution_count": 159,
   "metadata": {},
   "outputs": [],
   "source": [
    "\n",
    "def get_average_text_embedding(sentence):\n",
    "    token_list = str.split(sentence)\n",
    "    embedding_list = []\n",
    "    for token in token_list:\n",
    "        try:\n",
    "            embedding = embeddings_dict[token]\n",
    "            embedding_list.append(embedding)\n",
    "        except:\n",
    "            continue\n",
    "    embedding_array = np.array(embedding_list)\n",
    "    averaged_array = np.average(embedding_array, axis=0)\n",
    "\n",
    "    if len(embedding_list)==0:\n",
    "        averaged_array = np.zeros(200)\n",
    "    \n",
    "    return averaged_array\n"
   ]
  },
  {
   "cell_type": "code",
   "execution_count": 164,
   "metadata": {},
   "outputs": [],
   "source": [
    "test_df['tweet_embeddings'] = test_df['tweet_text'].apply(lambda x: get_average_text_embedding(x))"
   ]
  },
  {
   "cell_type": "code",
   "execution_count": 160,
   "metadata": {},
   "outputs": [
    {
     "name": "stderr",
     "output_type": "stream",
     "text": [
      "c:\\Users\\cemul\\AppData\\Local\\Programs\\Python\\Python310\\lib\\site-packages\\numpy\\lib\\function_base.py:518: RuntimeWarning: Mean of empty slice.\n",
      "  avg = a.mean(axis, **keepdims_kw)\n"
     ]
    },
    {
     "data": {
      "text/html": [
       "<div>\n",
       "<style scoped>\n",
       "    .dataframe tbody tr th:only-of-type {\n",
       "        vertical-align: middle;\n",
       "    }\n",
       "\n",
       "    .dataframe tbody tr th {\n",
       "        vertical-align: top;\n",
       "    }\n",
       "\n",
       "    .dataframe thead th {\n",
       "        text-align: right;\n",
       "    }\n",
       "</style>\n",
       "<table border=\"1\" class=\"dataframe\">\n",
       "  <thead>\n",
       "    <tr style=\"text-align: right;\">\n",
       "      <th></th>\n",
       "      <th>tweet_text</th>\n",
       "      <th>check_worthiness</th>\n",
       "      <th>tweet_embeddings</th>\n",
       "    </tr>\n",
       "  </thead>\n",
       "  <tbody>\n",
       "    <tr>\n",
       "      <th>541</th>\n",
       "      <td></td>\n",
       "      <td>0</td>\n",
       "      <td>[0.0, 0.0, 0.0, 0.0, 0.0, 0.0, 0.0, 0.0, 0.0, ...</td>\n",
       "    </tr>\n",
       "    <tr>\n",
       "      <th>542</th>\n",
       "      <td>today lose colleague young adult cardiology fe...</td>\n",
       "      <td>0</td>\n",
       "      <td>[-0.01190776, 0.081272185, -0.116894156, -0.05...</td>\n",
       "    </tr>\n",
       "    <tr>\n",
       "      <th>543</th>\n",
       "      <td>china time people italy</td>\n",
       "      <td>0</td>\n",
       "      <td>[0.13480301, 0.03470476, 0.19799125, -0.034149...</td>\n",
       "    </tr>\n",
       "    <tr>\n",
       "      <th>544</th>\n",
       "      <td>please remember future job interview ask compa...</td>\n",
       "      <td>0</td>\n",
       "      <td>[0.032589354, 0.02450451, -0.20642322, -0.0113...</td>\n",
       "    </tr>\n",
       "    <tr>\n",
       "      <th>545</th>\n",
       "      <td>flintstone gummies year ago fight covid</td>\n",
       "      <td>0</td>\n",
       "      <td>[0.178236, -0.14855798, 0.14696935, 0.1620584,...</td>\n",
       "    </tr>\n",
       "    <tr>\n",
       "      <th>...</th>\n",
       "      <td>...</td>\n",
       "      <td>...</td>\n",
       "      <td>...</td>\n",
       "    </tr>\n",
       "    <tr>\n",
       "      <th>817</th>\n",
       "      <td>stop spread fake news covid</td>\n",
       "      <td>0</td>\n",
       "      <td>[-0.21876001, 0.1594845, -0.3555225, -0.181262...</td>\n",
       "    </tr>\n",
       "    <tr>\n",
       "      <th>818</th>\n",
       "      <td>fake fake shout resident community covid epice...</td>\n",
       "      <td>1</td>\n",
       "      <td>[-0.13164519, 0.035182584, -0.20567551, -0.021...</td>\n",
       "    </tr>\n",
       "    <tr>\n",
       "      <th>819</th>\n",
       "      <td>smart covid follow accurate public health advi...</td>\n",
       "      <td>0</td>\n",
       "      <td>[-0.13120344, 0.107465036, -0.29263848, -0.141...</td>\n",
       "    </tr>\n",
       "    <tr>\n",
       "      <th>820</th>\n",
       "      <td>leave qatari puppet attack saudi arabia tempor...</td>\n",
       "      <td>1</td>\n",
       "      <td>[0.02632392, 0.075065166, -0.05794293, 0.02835...</td>\n",
       "    </tr>\n",
       "    <tr>\n",
       "      <th>821</th>\n",
       "      <td>could reason covid spread north italy timing q...</td>\n",
       "      <td>1</td>\n",
       "      <td>[-0.0023392576, 0.07198959, 0.16949391, 0.0016...</td>\n",
       "    </tr>\n",
       "  </tbody>\n",
       "</table>\n",
       "<p>281 rows × 3 columns</p>\n",
       "</div>"
      ],
      "text/plain": [
       "                                            tweet_text  check_worthiness  \\\n",
       "541                                                                    0   \n",
       "542  today lose colleague young adult cardiology fe...                 0   \n",
       "543                            china time people italy                 0   \n",
       "544  please remember future job interview ask compa...                 0   \n",
       "545            flintstone gummies year ago fight covid                 0   \n",
       "..                                                 ...               ...   \n",
       "817                        stop spread fake news covid                 0   \n",
       "818  fake fake shout resident community covid epice...                 1   \n",
       "819  smart covid follow accurate public health advi...                 0   \n",
       "820  leave qatari puppet attack saudi arabia tempor...                 1   \n",
       "821  could reason covid spread north italy timing q...                 1   \n",
       "\n",
       "                                      tweet_embeddings  \n",
       "541  [0.0, 0.0, 0.0, 0.0, 0.0, 0.0, 0.0, 0.0, 0.0, ...  \n",
       "542  [-0.01190776, 0.081272185, -0.116894156, -0.05...  \n",
       "543  [0.13480301, 0.03470476, 0.19799125, -0.034149...  \n",
       "544  [0.032589354, 0.02450451, -0.20642322, -0.0113...  \n",
       "545  [0.178236, -0.14855798, 0.14696935, 0.1620584,...  \n",
       "..                                                 ...  \n",
       "817  [-0.21876001, 0.1594845, -0.3555225, -0.181262...  \n",
       "818  [-0.13164519, 0.035182584, -0.20567551, -0.021...  \n",
       "819  [-0.13120344, 0.107465036, -0.29263848, -0.141...  \n",
       "820  [0.02632392, 0.075065166, -0.05794293, 0.02835...  \n",
       "821  [-0.0023392576, 0.07198959, 0.16949391, 0.0016...  \n",
       "\n",
       "[281 rows x 3 columns]"
      ]
     },
     "execution_count": 160,
     "metadata": {},
     "output_type": "execute_result"
    }
   ],
   "source": [
    "train_df['tweet_embeddings'] = train_df['tweet_text'].apply(lambda x: get_average_text_embedding(x))\n",
    "train_df[541:]"
   ]
  },
  {
   "cell_type": "code",
   "execution_count": 167,
   "metadata": {},
   "outputs": [],
   "source": [
    "eval_df = pd.read_csv(os.path.join(data_dir,\"eval_df.csv\"))"
   ]
  },
  {
   "cell_type": "code",
   "execution_count": 169,
   "metadata": {},
   "outputs": [
    {
     "data": {
      "text/html": [
       "<div>\n",
       "<style scoped>\n",
       "    .dataframe tbody tr th:only-of-type {\n",
       "        vertical-align: middle;\n",
       "    }\n",
       "\n",
       "    .dataframe tbody tr th {\n",
       "        vertical-align: top;\n",
       "    }\n",
       "\n",
       "    .dataframe thead th {\n",
       "        text-align: right;\n",
       "    }\n",
       "</style>\n",
       "<table border=\"1\" class=\"dataframe\">\n",
       "  <thead>\n",
       "    <tr style=\"text-align: right;\">\n",
       "      <th></th>\n",
       "      <th>tweet_text</th>\n",
       "      <th>check_worthiness</th>\n",
       "      <th>tweet_embeddings</th>\n",
       "    </tr>\n",
       "  </thead>\n",
       "  <tbody>\n",
       "    <tr>\n",
       "      <th>0</th>\n",
       "      <td>potus want everyone know close contact gaetz c...</td>\n",
       "      <td>1</td>\n",
       "      <td>[0.16674243, 0.3065092, -0.112421855, 0.048177...</td>\n",
       "    </tr>\n",
       "    <tr>\n",
       "      <th>1</th>\n",
       "      <td>would prefer lead nation response grow covid t...</td>\n",
       "      <td>0</td>\n",
       "      <td>[0.22938012, 0.054673575, -0.0858, -0.07526214...</td>\n",
       "    </tr>\n",
       "    <tr>\n",
       "      <th>2</th>\n",
       "      <td>really really really really really really real...</td>\n",
       "      <td>0</td>\n",
       "      <td>[0.03409792, 0.45846257, -0.015111784, 0.25196...</td>\n",
       "    </tr>\n",
       "    <tr>\n",
       "      <th>3</th>\n",
       "      <td>bald face lie self quarantine cdc clear return...</td>\n",
       "      <td>1</td>\n",
       "      <td>[0.008557552, -0.16238855, -0.34488454, 0.0608...</td>\n",
       "    </tr>\n",
       "    <tr>\n",
       "      <th>4</th>\n",
       "      <td>live daily medium brief covid covid</td>\n",
       "      <td>0</td>\n",
       "      <td>[-0.4223225, 0.272865, -0.1823175, -0.44944727...</td>\n",
       "    </tr>\n",
       "    <tr>\n",
       "      <th>...</th>\n",
       "      <td>...</td>\n",
       "      <td>...</td>\n",
       "      <td>...</td>\n",
       "    </tr>\n",
       "    <tr>\n",
       "      <th>135</th>\n",
       "      <td>covid spread fast spreads natural immunity vir...</td>\n",
       "      <td>0</td>\n",
       "      <td>[-0.010497776, -0.110912405, -0.053065408, -0....</td>\n",
       "    </tr>\n",
       "    <tr>\n",
       "      <th>136</th>\n",
       "      <td>market crash tourism die travel reduce almost ...</td>\n",
       "      <td>0</td>\n",
       "      <td>[-0.0055288733, 0.30287853, -0.058681164, -0.0...</td>\n",
       "    </tr>\n",
       "    <tr>\n",
       "      <th>137</th>\n",
       "      <td>pray palestine state emergency case covid majo...</td>\n",
       "      <td>0</td>\n",
       "      <td>[-0.108859845, 0.18808445, 0.0026538572, 0.043...</td>\n",
       "    </tr>\n",
       "    <tr>\n",
       "      <th>138</th>\n",
       "      <td>advisory student class suspension make safety ...</td>\n",
       "      <td>0</td>\n",
       "      <td>[0.105307795, 0.12508944, 0.03175255, -0.10886...</td>\n",
       "    </tr>\n",
       "    <tr>\n",
       "      <th>139</th>\n",
       "      <td>total iranian covid case count hundred thousan...</td>\n",
       "      <td>1</td>\n",
       "      <td>[0.18165258, -0.056329362, -0.19393349, 0.2628...</td>\n",
       "    </tr>\n",
       "  </tbody>\n",
       "</table>\n",
       "<p>140 rows × 3 columns</p>\n",
       "</div>"
      ],
      "text/plain": [
       "                                            tweet_text  check_worthiness  \\\n",
       "0    potus want everyone know close contact gaetz c...                 1   \n",
       "1    would prefer lead nation response grow covid t...                 0   \n",
       "2    really really really really really really real...                 0   \n",
       "3    bald face lie self quarantine cdc clear return...                 1   \n",
       "4                  live daily medium brief covid covid                 0   \n",
       "..                                                 ...               ...   \n",
       "135  covid spread fast spreads natural immunity vir...                 0   \n",
       "136  market crash tourism die travel reduce almost ...                 0   \n",
       "137  pray palestine state emergency case covid majo...                 0   \n",
       "138  advisory student class suspension make safety ...                 0   \n",
       "139  total iranian covid case count hundred thousan...                 1   \n",
       "\n",
       "                                      tweet_embeddings  \n",
       "0    [0.16674243, 0.3065092, -0.112421855, 0.048177...  \n",
       "1    [0.22938012, 0.054673575, -0.0858, -0.07526214...  \n",
       "2    [0.03409792, 0.45846257, -0.015111784, 0.25196...  \n",
       "3    [0.008557552, -0.16238855, -0.34488454, 0.0608...  \n",
       "4    [-0.4223225, 0.272865, -0.1823175, -0.44944727...  \n",
       "..                                                 ...  \n",
       "135  [-0.010497776, -0.110912405, -0.053065408, -0....  \n",
       "136  [-0.0055288733, 0.30287853, -0.058681164, -0.0...  \n",
       "137  [-0.108859845, 0.18808445, 0.0026538572, 0.043...  \n",
       "138  [0.105307795, 0.12508944, 0.03175255, -0.10886...  \n",
       "139  [0.18165258, -0.056329362, -0.19393349, 0.2628...  \n",
       "\n",
       "[140 rows x 3 columns]"
      ]
     },
     "execution_count": 169,
     "metadata": {},
     "output_type": "execute_result"
    }
   ],
   "source": [
    "test_df"
   ]
  },
  {
   "cell_type": "code",
   "execution_count": 171,
   "metadata": {},
   "outputs": [
    {
     "data": {
      "text/html": [
       "<div>\n",
       "<style scoped>\n",
       "    .dataframe tbody tr th:only-of-type {\n",
       "        vertical-align: middle;\n",
       "    }\n",
       "\n",
       "    .dataframe tbody tr th {\n",
       "        vertical-align: top;\n",
       "    }\n",
       "\n",
       "    .dataframe thead th {\n",
       "        text-align: right;\n",
       "    }\n",
       "</style>\n",
       "<table border=\"1\" class=\"dataframe\">\n",
       "  <thead>\n",
       "    <tr style=\"text-align: right;\">\n",
       "      <th></th>\n",
       "      <th>tweet_id</th>\n",
       "      <th>tweet_url</th>\n",
       "      <th>tweet_text</th>\n",
       "      <th>check_worthiness</th>\n",
       "      <th>bert_predictions</th>\n",
       "      <th>bert_probability</th>\n",
       "      <th>roberta_predictions</th>\n",
       "      <th>roberta_probability</th>\n",
       "      <th>bertweet_predictions</th>\n",
       "      <th>bertweet_probability</th>\n",
       "      <th>embeddings</th>\n",
       "    </tr>\n",
       "  </thead>\n",
       "  <tbody>\n",
       "    <tr>\n",
       "      <th>0</th>\n",
       "      <td>1237160250513522688</td>\n",
       "      <td>https://twitter.com/user/status/12371602505135...</td>\n",
       "      <td>POTUS wanted everyone to know he was in close ...</td>\n",
       "      <td>1</td>\n",
       "      <td>1</td>\n",
       "      <td>0.993853</td>\n",
       "      <td>1</td>\n",
       "      <td>0.983054</td>\n",
       "      <td>1</td>\n",
       "      <td>0.988866</td>\n",
       "      <td>[0.16674243, 0.3065092, -0.112421855, 0.048177...</td>\n",
       "    </tr>\n",
       "    <tr>\n",
       "      <th>1</th>\n",
       "      <td>1237125962871037953</td>\n",
       "      <td>https://twitter.com/user/status/12371259628710...</td>\n",
       "      <td>Who would you prefer to lead our nation’s resp...</td>\n",
       "      <td>0</td>\n",
       "      <td>0</td>\n",
       "      <td>0.000108</td>\n",
       "      <td>0</td>\n",
       "      <td>0.006362</td>\n",
       "      <td>0</td>\n",
       "      <td>0.006661</td>\n",
       "      <td>[0.22938012, 0.054673575, -0.0858, -0.07526214...</td>\n",
       "    </tr>\n",
       "    <tr>\n",
       "      <th>2</th>\n",
       "      <td>1237207721604235264</td>\n",
       "      <td>https://twitter.com/user/status/12372077216042...</td>\n",
       "      <td>It was a really really really really really re...</td>\n",
       "      <td>0</td>\n",
       "      <td>0</td>\n",
       "      <td>0.000569</td>\n",
       "      <td>0</td>\n",
       "      <td>0.004905</td>\n",
       "      <td>0</td>\n",
       "      <td>0.007607</td>\n",
       "      <td>[0.03409792, 0.45846257, -0.015111784, 0.25196...</td>\n",
       "    </tr>\n",
       "    <tr>\n",
       "      <th>3</th>\n",
       "      <td>1237178597024108552</td>\n",
       "      <td>https://twitter.com/user/status/12371785970241...</td>\n",
       "      <td>Bald-faced LIE. did self-quarantine until CDC ...</td>\n",
       "      <td>1</td>\n",
       "      <td>1</td>\n",
       "      <td>0.999796</td>\n",
       "      <td>1</td>\n",
       "      <td>0.990378</td>\n",
       "      <td>1</td>\n",
       "      <td>0.990838</td>\n",
       "      <td>[0.008557552, -0.16238855, -0.34488454, 0.0608...</td>\n",
       "    </tr>\n",
       "    <tr>\n",
       "      <th>4</th>\n",
       "      <td>1237049051058561024</td>\n",
       "      <td>https://twitter.com/user/status/12370490510585...</td>\n",
       "      <td>LIVE: Daily media briefing on COVID-19 with CO...</td>\n",
       "      <td>0</td>\n",
       "      <td>0</td>\n",
       "      <td>0.000080</td>\n",
       "      <td>0</td>\n",
       "      <td>0.005420</td>\n",
       "      <td>0</td>\n",
       "      <td>0.007499</td>\n",
       "      <td>[-0.4223225, 0.272865, -0.1823175, -0.44944727...</td>\n",
       "    </tr>\n",
       "    <tr>\n",
       "      <th>...</th>\n",
       "      <td>...</td>\n",
       "      <td>...</td>\n",
       "      <td>...</td>\n",
       "      <td>...</td>\n",
       "      <td>...</td>\n",
       "      <td>...</td>\n",
       "      <td>...</td>\n",
       "      <td>...</td>\n",
       "      <td>...</td>\n",
       "      <td>...</td>\n",
       "      <td>...</td>\n",
       "    </tr>\n",
       "    <tr>\n",
       "      <th>135</th>\n",
       "      <td>1237094362544209920</td>\n",
       "      <td>https://twitter.com/user/status/12370943625442...</td>\n",
       "      <td>This is how the COVID-19 is spreading and this...</td>\n",
       "      <td>0</td>\n",
       "      <td>1</td>\n",
       "      <td>0.999796</td>\n",
       "      <td>1</td>\n",
       "      <td>0.987439</td>\n",
       "      <td>0</td>\n",
       "      <td>0.009059</td>\n",
       "      <td>[-0.010497776, -0.110912405, -0.053065408, -0....</td>\n",
       "    </tr>\n",
       "    <tr>\n",
       "      <th>136</th>\n",
       "      <td>1237063585580318720</td>\n",
       "      <td>https://twitter.com/user/status/12370635855803...</td>\n",
       "      <td>Markets are crashing. Tourism is dying. Travel...</td>\n",
       "      <td>0</td>\n",
       "      <td>1</td>\n",
       "      <td>0.992674</td>\n",
       "      <td>1</td>\n",
       "      <td>0.986089</td>\n",
       "      <td>0</td>\n",
       "      <td>0.143284</td>\n",
       "      <td>[-0.0055288733, 0.30287853, -0.058681164, -0.0...</td>\n",
       "    </tr>\n",
       "    <tr>\n",
       "      <th>137</th>\n",
       "      <td>1237159267070664705</td>\n",
       "      <td>https://twitter.com/user/status/12371592670706...</td>\n",
       "      <td>Pray for Palestine. State of Emergency. - 27 c...</td>\n",
       "      <td>0</td>\n",
       "      <td>0</td>\n",
       "      <td>0.001381</td>\n",
       "      <td>1</td>\n",
       "      <td>0.992275</td>\n",
       "      <td>0</td>\n",
       "      <td>0.314902</td>\n",
       "      <td>[-0.108859845, 0.18808445, 0.0026538572, 0.043...</td>\n",
       "    </tr>\n",
       "    <tr>\n",
       "      <th>138</th>\n",
       "      <td>1236972990492897281</td>\n",
       "      <td>https://twitter.com/user/status/12369729904928...</td>\n",
       "      <td>ADVISORY TO STUDENTS: Class suspensions were m...</td>\n",
       "      <td>0</td>\n",
       "      <td>0</td>\n",
       "      <td>0.000124</td>\n",
       "      <td>0</td>\n",
       "      <td>0.005456</td>\n",
       "      <td>0</td>\n",
       "      <td>0.006276</td>\n",
       "      <td>[0.105307795, 0.12508944, 0.03175255, -0.10886...</td>\n",
       "    </tr>\n",
       "    <tr>\n",
       "      <th>139</th>\n",
       "      <td>1237177675212640261</td>\n",
       "      <td>https://twitter.com/user/status/12371776752126...</td>\n",
       "      <td>The total Iranian COVID-19 case-count is in th...</td>\n",
       "      <td>1</td>\n",
       "      <td>0</td>\n",
       "      <td>0.000169</td>\n",
       "      <td>1</td>\n",
       "      <td>0.978729</td>\n",
       "      <td>0</td>\n",
       "      <td>0.008649</td>\n",
       "      <td>[0.18165258, -0.056329362, -0.19393349, 0.2628...</td>\n",
       "    </tr>\n",
       "  </tbody>\n",
       "</table>\n",
       "<p>140 rows × 11 columns</p>\n",
       "</div>"
      ],
      "text/plain": [
       "                tweet_id                                          tweet_url  \\\n",
       "0    1237160250513522688  https://twitter.com/user/status/12371602505135...   \n",
       "1    1237125962871037953  https://twitter.com/user/status/12371259628710...   \n",
       "2    1237207721604235264  https://twitter.com/user/status/12372077216042...   \n",
       "3    1237178597024108552  https://twitter.com/user/status/12371785970241...   \n",
       "4    1237049051058561024  https://twitter.com/user/status/12370490510585...   \n",
       "..                   ...                                                ...   \n",
       "135  1237094362544209920  https://twitter.com/user/status/12370943625442...   \n",
       "136  1237063585580318720  https://twitter.com/user/status/12370635855803...   \n",
       "137  1237159267070664705  https://twitter.com/user/status/12371592670706...   \n",
       "138  1236972990492897281  https://twitter.com/user/status/12369729904928...   \n",
       "139  1237177675212640261  https://twitter.com/user/status/12371776752126...   \n",
       "\n",
       "                                            tweet_text  check_worthiness  \\\n",
       "0    POTUS wanted everyone to know he was in close ...                 1   \n",
       "1    Who would you prefer to lead our nation’s resp...                 0   \n",
       "2    It was a really really really really really re...                 0   \n",
       "3    Bald-faced LIE. did self-quarantine until CDC ...                 1   \n",
       "4    LIVE: Daily media briefing on COVID-19 with CO...                 0   \n",
       "..                                                 ...               ...   \n",
       "135  This is how the COVID-19 is spreading and this...                 0   \n",
       "136  Markets are crashing. Tourism is dying. Travel...                 0   \n",
       "137  Pray for Palestine. State of Emergency. - 27 c...                 0   \n",
       "138  ADVISORY TO STUDENTS: Class suspensions were m...                 0   \n",
       "139  The total Iranian COVID-19 case-count is in th...                 1   \n",
       "\n",
       "     bert_predictions  bert_probability  roberta_predictions  \\\n",
       "0                   1          0.993853                    1   \n",
       "1                   0          0.000108                    0   \n",
       "2                   0          0.000569                    0   \n",
       "3                   1          0.999796                    1   \n",
       "4                   0          0.000080                    0   \n",
       "..                ...               ...                  ...   \n",
       "135                 1          0.999796                    1   \n",
       "136                 1          0.992674                    1   \n",
       "137                 0          0.001381                    1   \n",
       "138                 0          0.000124                    0   \n",
       "139                 0          0.000169                    1   \n",
       "\n",
       "     roberta_probability  bertweet_predictions  bertweet_probability  \\\n",
       "0               0.983054                     1              0.988866   \n",
       "1               0.006362                     0              0.006661   \n",
       "2               0.004905                     0              0.007607   \n",
       "3               0.990378                     1              0.990838   \n",
       "4               0.005420                     0              0.007499   \n",
       "..                   ...                   ...                   ...   \n",
       "135             0.987439                     0              0.009059   \n",
       "136             0.986089                     0              0.143284   \n",
       "137             0.992275                     0              0.314902   \n",
       "138             0.005456                     0              0.006276   \n",
       "139             0.978729                     0              0.008649   \n",
       "\n",
       "                                            embeddings  \n",
       "0    [0.16674243, 0.3065092, -0.112421855, 0.048177...  \n",
       "1    [0.22938012, 0.054673575, -0.0858, -0.07526214...  \n",
       "2    [0.03409792, 0.45846257, -0.015111784, 0.25196...  \n",
       "3    [0.008557552, -0.16238855, -0.34488454, 0.0608...  \n",
       "4    [-0.4223225, 0.272865, -0.1823175, -0.44944727...  \n",
       "..                                                 ...  \n",
       "135  [-0.010497776, -0.110912405, -0.053065408, -0....  \n",
       "136  [-0.0055288733, 0.30287853, -0.058681164, -0.0...  \n",
       "137  [-0.108859845, 0.18808445, 0.0026538572, 0.043...  \n",
       "138  [0.105307795, 0.12508944, 0.03175255, -0.10886...  \n",
       "139  [0.18165258, -0.056329362, -0.19393349, 0.2628...  \n",
       "\n",
       "[140 rows x 11 columns]"
      ]
     },
     "execution_count": 171,
     "metadata": {},
     "output_type": "execute_result"
    }
   ],
   "source": [
    "eval_df[\"embeddings\"] = test_df[\"tweet_embeddings\"]\n",
    "eval_df"
   ]
  },
  {
   "cell_type": "code",
   "execution_count": 172,
   "metadata": {},
   "outputs": [],
   "source": [
    "#eval_df.to_csv(\"eval_df.csv\", encoding='utf-8', index=False)"
   ]
  },
  {
   "cell_type": "markdown",
   "metadata": {},
   "source": [
    "### Visualizing the Vectors"
   ]
  },
  {
   "cell_type": "code",
   "execution_count": 81,
   "metadata": {},
   "outputs": [
    {
     "data": {
      "text/plain": [
       "list"
      ]
     },
     "execution_count": 81,
     "metadata": {},
     "output_type": "execute_result"
    }
   ],
   "source": [
    "type(train_df[\"tweet_embeddings\"].tolist())"
   ]
  },
  {
   "cell_type": "code",
   "execution_count": 100,
   "metadata": {},
   "outputs": [
    {
     "data": {
      "text/plain": [
       "numpy.ndarray"
      ]
     },
     "execution_count": 100,
     "metadata": {},
     "output_type": "execute_result"
    }
   ],
   "source": [
    "type(train_df[\"tweet_embeddings\"][0])"
   ]
  },
  {
   "cell_type": "code",
   "execution_count": 101,
   "metadata": {},
   "outputs": [
    {
     "ename": "ValueError",
     "evalue": "all input arrays must have the same shape",
     "output_type": "error",
     "traceback": [
      "\u001b[1;31m---------------------------------------------------------------------------\u001b[0m",
      "\u001b[1;31mValueError\u001b[0m                                Traceback (most recent call last)",
      "\u001b[1;32mc:\\repos\\Transformers_For_Claim_Worthiness\\Clustering_Tweets\\Clustering_Tweets.ipynb Cell 27\u001b[0m in \u001b[0;36m<cell line: 1>\u001b[1;34m()\u001b[0m\n\u001b[1;32m----> <a href='vscode-notebook-cell:/c%3A/repos/Transformers_For_Claim_Worthiness/Clustering_Tweets/Clustering_Tweets.ipynb#X61sZmlsZQ%3D%3D?line=0'>1</a>\u001b[0m np\u001b[39m.\u001b[39;49mstack(train_df[\u001b[39m\"\u001b[39;49m\u001b[39mtweet_embeddings\u001b[39;49m\u001b[39m\"\u001b[39;49m]\u001b[39m.\u001b[39;49mvalues)\n",
      "File \u001b[1;32m<__array_function__ internals>:180\u001b[0m, in \u001b[0;36mstack\u001b[1;34m(*args, **kwargs)\u001b[0m\n",
      "File \u001b[1;32mc:\\Users\\cemul\\AppData\\Local\\Programs\\Python\\Python310\\lib\\site-packages\\numpy\\core\\shape_base.py:426\u001b[0m, in \u001b[0;36mstack\u001b[1;34m(arrays, axis, out)\u001b[0m\n\u001b[0;32m    424\u001b[0m shapes \u001b[39m=\u001b[39m {arr\u001b[39m.\u001b[39mshape \u001b[39mfor\u001b[39;00m arr \u001b[39min\u001b[39;00m arrays}\n\u001b[0;32m    425\u001b[0m \u001b[39mif\u001b[39;00m \u001b[39mlen\u001b[39m(shapes) \u001b[39m!=\u001b[39m \u001b[39m1\u001b[39m:\n\u001b[1;32m--> 426\u001b[0m     \u001b[39mraise\u001b[39;00m \u001b[39mValueError\u001b[39;00m(\u001b[39m'\u001b[39m\u001b[39mall input arrays must have the same shape\u001b[39m\u001b[39m'\u001b[39m)\n\u001b[0;32m    428\u001b[0m result_ndim \u001b[39m=\u001b[39m arrays[\u001b[39m0\u001b[39m]\u001b[39m.\u001b[39mndim \u001b[39m+\u001b[39m \u001b[39m1\u001b[39m\n\u001b[0;32m    429\u001b[0m axis \u001b[39m=\u001b[39m normalize_axis_index(axis, result_ndim)\n",
      "\u001b[1;31mValueError\u001b[0m: all input arrays must have the same shape"
     ]
    }
   ],
   "source": [
    "np.stack(train_df[\"tweet_embeddings\"].values)"
   ]
  },
  {
   "cell_type": "code",
   "execution_count": 166,
   "metadata": {},
   "outputs": [
    {
     "name": "stderr",
     "output_type": "stream",
     "text": [
      "c:\\Users\\cemul\\AppData\\Local\\Programs\\Python\\Python310\\lib\\site-packages\\sklearn\\manifold\\_t_sne.py:795: FutureWarning: The default initialization in TSNE will change from 'random' to 'pca' in 1.2.\n",
      "  warnings.warn(\n",
      "c:\\Users\\cemul\\AppData\\Local\\Programs\\Python\\Python310\\lib\\site-packages\\sklearn\\manifold\\_t_sne.py:805: FutureWarning: The default learning rate in TSNE will change from 200.0 to 'auto' in 1.2.\n",
      "  warnings.warn(\n"
     ]
    },
    {
     "data": {
      "image/png": "[encoded data removed]",
      "text/plain": [
       "<Figure size 432x288 with 1 Axes>"
      ]
     },
     "metadata": {
      "needs_background": "light"
     },
     "output_type": "display_data"
    }
   ],
   "source": [
    "\n",
    "tsne = TSNE(n_components=2, random_state=0)\n",
    "vectors = test_df[\"tweet_embeddings\"].tolist()\n",
    "Y = tsne.fit_transform(vectors)\n",
    "plt.scatter(Y[:, 0], Y[:, 1])\n",
    "\n",
    "for label, x, y in zip(test_df.index.tolist(), Y[:, 0], Y[:, 1]):\n",
    "    plt.annotate(label, xy=(x, y), xytext=(0, 0), textcoords=\"offset points\")\n",
    "plt.show()"
   ]
  },
  {
   "cell_type": "code",
   "execution_count": null,
   "metadata": {},
   "outputs": [],
   "source": []
  },
  {
   "cell_type": "code",
   "execution_count": 102,
   "metadata": {},
   "outputs": [],
   "source": [
    "sentence = \"since never get reported medium want share\""
   ]
  },
  {
   "cell_type": "code",
   "execution_count": 103,
   "metadata": {},
   "outputs": [],
   "source": [
    "token_list = str.split(sentence)\n",
    "embedding_list = []\n",
    "for token in token_list:\n",
    "    try:\n",
    "        embedding = embeddings_dict[token]\n",
    "        embedding_list.append(embedding)\n",
    "    except:\n",
    "        continue"
   ]
  },
  {
   "cell_type": "code",
   "execution_count": 117,
   "metadata": {},
   "outputs": [],
   "source": [
    "embed = embeddings_dict['king']"
   ]
  },
  {
   "cell_type": "code",
   "execution_count": 120,
   "metadata": {},
   "outputs": [
    {
     "data": {
      "text/plain": [
       "[-0.31949,\n",
       " 0.10382,\n",
       " 0.24294,\n",
       " -0.34845,\n",
       " -0.23829,\n",
       " -0.372,\n",
       " 0.3795,\n",
       " -0.30334,\n",
       " -0.21441,\n",
       " -0.4923,\n",
       " 0.098965,\n",
       " -0.13791,\n",
       " -0.80118,\n",
       " 0.05041,\n",
       " 0.039894,\n",
       " 0.87262,\n",
       " 0.44222,\n",
       " -0.32196,\n",
       " 0.65187,\n",
       " 0.1145,\n",
       " -0.30635,\n",
       " 0.13293,\n",
       " -0.0068867,\n",
       " -0.15688,\n",
       " 0.19338,\n",
       " -0.28577,\n",
       " 0.2679,\n",
       " 0.24383,\n",
       " 0.015909,\n",
       " 0.076273,\n",
       " 0.58036,\n",
       " -0.071514,\n",
       " 0.20632,\n",
       " -0.309,\n",
       " 0.30187,\n",
       " 0.129,\n",
       " -0.14297,\n",
       " -0.079204,\n",
       " 0.25754,\n",
       " -0.5938,\n",
       " -0.001212,\n",
       " 0.30647,\n",
       " 0.833,\n",
       " -0.054968,\n",
       " 0.13717,\n",
       " -0.11724,\n",
       " 0.289,\n",
       " 0.23425,\n",
       " 0.35452,\n",
       " 0.13312,\n",
       " -0.14014,\n",
       " -1.009,\n",
       " 0.21142,\n",
       " 0.53368,\n",
       " 0.13168,\n",
       " -0.13271,\n",
       " 0.25046,\n",
       " 0.028531,\n",
       " -0.64371,\n",
       " 0.056957,\n",
       " -0.49754,\n",
       " -0.0071232,\n",
       " -0.40831,\n",
       " -0.39913,\n",
       " -0.5956,\n",
       " -0.58436,\n",
       " 0.085161,\n",
       " 0.37481,\n",
       " 0.082033,\n",
       " -0.32318,\n",
       " 0.053241,\n",
       " -0.21014,\n",
       " -0.65141,\n",
       " -0.035154,\n",
       " 0.3492,\n",
       " -0.39234,\n",
       " -0.24786,\n",
       " 0.32653,\n",
       " 0.21577,\n",
       " 0.52755,\n",
       " 0.3151,\n",
       " -0.022263,\n",
       " 0.21523,\n",
       " 0.67203,\n",
       " -1.0397,\n",
       " 0.43497,\n",
       " -0.4411,\n",
       " 0.2761,\n",
       " 0.28093,\n",
       " -0.22985,\n",
       " 0.93106,\n",
       " -0.066438,\n",
       " -0.0036527,\n",
       " -0.25866,\n",
       " 0.37648,\n",
       " -0.059999,\n",
       " 0.35195,\n",
       " 0.1718,\n",
       " 0.3035,\n",
       " 0.41246,\n",
       " 0.10781,\n",
       " 0.088577,\n",
       " -0.14623,\n",
       " 0.12643,\n",
       " -0.061314,\n",
       " -0.38539,\n",
       " 0.36403,\n",
       " -0.34035,\n",
       " -0.28176,\n",
       " 0.20283,\n",
       " 0.27596,\n",
       " 0.21271,\n",
       " 0.49904,\n",
       " -0.41594,\n",
       " 0.37147,\n",
       " 0.038746,\n",
       " 0.34214,\n",
       " -0.28433,\n",
       " 0.46909,\n",
       " 0.12884,\n",
       " 0.45118,\n",
       " 0.27165,\n",
       " 0.12845,\n",
       " 0.060181,\n",
       " -0.29986,\n",
       " -0.13163,\n",
       " -0.0050545,\n",
       " -0.26517,\n",
       " 0.073779,\n",
       " 0.45214,\n",
       " 0.19388,\n",
       " -0.048094,\n",
       " 0.026657,\n",
       " -0.40651,\n",
       " 0.40619,\n",
       " 0.15861,\n",
       " 0.30439,\n",
       " -0.038564,\n",
       " 0.57313,\n",
       " 0.085883,\n",
       " -0.042823,\n",
       " 0.55424,\n",
       " 0.25912,\n",
       " -0.61782,\n",
       " 0.43787,\n",
       " -0.10568,\n",
       " 0.27753,\n",
       " -0.5119,\n",
       " -0.38868,\n",
       " 0.87213,\n",
       " -0.59589,\n",
       " 0.37951,\n",
       " -3.9029,\n",
       " -0.1836,\n",
       " -0.19684,\n",
       " -0.034204,\n",
       " -0.73991,\n",
       " 0.35994,\n",
       " -0.13324,\n",
       " -0.56861,\n",
       " -0.17419,\n",
       " 0.11807,\n",
       " -0.25133,\n",
       " -0.1034,\n",
       " -0.2082,\n",
       " -0.18749,\n",
       " 0.5084,\n",
       " 0.38826,\n",
       " -0.11628,\n",
       " 0.12836,\n",
       " -0.56899,\n",
       " -0.35316,\n",
       " -0.25602,\n",
       " 0.041457,\n",
       " 0.21042,\n",
       " -0.021404,\n",
       " -0.098167,\n",
       " 0.13417,\n",
       " -0.65429,\n",
       " -0.24291,\n",
       " -0.40966,\n",
       " -0.79945,\n",
       " 0.32194,\n",
       " 0.38912,\n",
       " -0.083004,\n",
       " 0.57201,\n",
       " 0.11113,\n",
       " 0.058324,\n",
       " -0.39064,\n",
       " -0.044448,\n",
       " 0.22241,\n",
       " -0.33492,\n",
       " 0.39287,\n",
       " 0.25871,\n",
       " -0.060191,\n",
       " -0.52471,\n",
       " 0.10163,\n",
       " 0.11608,\n",
       " 0.45695,\n",
       " -0.45547]"
      ]
     },
     "execution_count": 120,
     "metadata": {},
     "output_type": "execute_result"
    }
   ],
   "source": [
    "list(embed)"
   ]
  },
  {
   "cell_type": "code",
   "execution_count": 119,
   "metadata": {},
   "outputs": [
    {
     "data": {
      "text/plain": [
       "numpy.ndarray"
      ]
     },
     "execution_count": 119,
     "metadata": {},
     "output_type": "execute_result"
    }
   ],
   "source": [
    "type(embed)"
   ]
  },
  {
   "cell_type": "code",
   "execution_count": 115,
   "metadata": {},
   "outputs": [
    {
     "ename": "AttributeError",
     "evalue": "'numpy.ndarray' object has no attribute 'values'",
     "output_type": "error",
     "traceback": [
      "\u001b[1;31m---------------------------------------------------------------------------\u001b[0m",
      "\u001b[1;31mAttributeError\u001b[0m                            Traceback (most recent call last)",
      "\u001b[1;32mc:\\repos\\Transformers_For_Claim_Worthiness\\Clustering_Tweets\\Clustering_Tweets.ipynb Cell 32\u001b[0m in \u001b[0;36m<cell line: 1>\u001b[1;34m()\u001b[0m\n\u001b[1;32m----> <a href='vscode-notebook-cell:/c%3A/repos/Transformers_For_Claim_Worthiness/Clustering_Tweets/Clustering_Tweets.ipynb#X66sZmlsZQ%3D%3D?line=0'>1</a>\u001b[0m embedding\u001b[39m.\u001b[39;49mvalues\n",
      "\u001b[1;31mAttributeError\u001b[0m: 'numpy.ndarray' object has no attribute 'values'"
     ]
    }
   ],
   "source": [
    "embedding.values"
   ]
  },
  {
   "cell_type": "code",
   "execution_count": 113,
   "metadata": {},
   "outputs": [
    {
     "ename": "ValueError",
     "evalue": "cannot reshape array of size 200 into shape (1,)",
     "output_type": "error",
     "traceback": [
      "\u001b[1;31m---------------------------------------------------------------------------\u001b[0m",
      "\u001b[1;31mValueError\u001b[0m                                Traceback (most recent call last)",
      "\u001b[1;32mc:\\repos\\Transformers_For_Claim_Worthiness\\Clustering_Tweets\\Clustering_Tweets.ipynb Cell 32\u001b[0m in \u001b[0;36m<cell line: 1>\u001b[1;34m()\u001b[0m\n\u001b[1;32m----> <a href='vscode-notebook-cell:/c%3A/repos/Transformers_For_Claim_Worthiness/Clustering_Tweets/Clustering_Tweets.ipynb#X65sZmlsZQ%3D%3D?line=0'>1</a>\u001b[0m embedding\u001b[39m.\u001b[39;49mreshape(\u001b[39m1\u001b[39;49m)\u001b[39m.\u001b[39mshape\n",
      "\u001b[1;31mValueError\u001b[0m: cannot reshape array of size 200 into shape (1,)"
     ]
    }
   ],
   "source": [
    "embedding.reshape(1).shape"
   ]
  },
  {
   "cell_type": "code",
   "execution_count": 105,
   "metadata": {},
   "outputs": [
    {
     "ename": "AttributeError",
     "evalue": "'list' object has no attribute 'reshape'",
     "output_type": "error",
     "traceback": [
      "\u001b[1;31m---------------------------------------------------------------------------\u001b[0m",
      "\u001b[1;31mAttributeError\u001b[0m                            Traceback (most recent call last)",
      "\u001b[1;32mc:\\repos\\Transformers_For_Claim_Worthiness\\Clustering_Tweets\\Clustering_Tweets.ipynb Cell 32\u001b[0m in \u001b[0;36m<cell line: 1>\u001b[1;34m()\u001b[0m\n\u001b[1;32m----> <a href='vscode-notebook-cell:/c%3A/repos/Transformers_For_Claim_Worthiness/Clustering_Tweets/Clustering_Tweets.ipynb#X63sZmlsZQ%3D%3D?line=0'>1</a>\u001b[0m embedding_list\u001b[39m.\u001b[39;49mreshape(\u001b[39m1\u001b[39m,\u001b[39m-\u001b[39m\u001b[39m1\u001b[39m)\n",
      "\u001b[1;31mAttributeError\u001b[0m: 'list' object has no attribute 'reshape'"
     ]
    }
   ],
   "source": [
    "embedding_list.reshape(1,-1)"
   ]
  },
  {
   "cell_type": "code",
   "execution_count": 106,
   "metadata": {},
   "outputs": [
    {
     "data": {
      "text/plain": [
       "array([[ 0.22425  ,  0.10087  , -0.12007  , ...,  0.24304  ,  0.47749  ,\n",
       "         0.12814  ],\n",
       "       [-0.28163  ,  0.6649   , -0.065842 , ...,  0.30737  , -0.13003  ,\n",
       "        -0.35331  ],\n",
       "       [-0.20837  ,  0.37201  , -0.066035 , ..., -0.0091251, -0.26669  ,\n",
       "         0.29602  ],\n",
       "       ...,\n",
       "       [-1.0611   , -0.20787  ,  0.21119  , ...,  0.47331  ,  0.076635 ,\n",
       "        -0.44055  ],\n",
       "       [ 0.31705  ,  0.51477  , -0.26564  , ...,  0.071046 ,  0.32593  ,\n",
       "        -0.070306 ],\n",
       "       [-0.26172  ,  0.42376  , -0.29992  , ..., -0.019416 ,  0.41491  ,\n",
       "         0.26887  ]], dtype=float32)"
      ]
     },
     "execution_count": 106,
     "metadata": {},
     "output_type": "execute_result"
    }
   ],
   "source": [
    "embedding_array = np.array(embedding_list)\n",
    "embedding_array"
   ]
  },
  {
   "cell_type": "code",
   "execution_count": 62,
   "metadata": {},
   "outputs": [],
   "source": [
    "averaged_array = np.average(embedding_array, axis=0)"
   ]
  },
  {
   "cell_type": "code",
   "execution_count": 140,
   "metadata": {},
   "outputs": [
    {
     "data": {
      "text/plain": [
       "200"
      ]
     },
     "execution_count": 140,
     "metadata": {},
     "output_type": "execute_result"
    }
   ],
   "source": [
    "averaged_array.shape[0]"
   ]
  },
  {
   "cell_type": "code",
   "execution_count": 58,
   "metadata": {},
   "outputs": [
    {
     "data": {
      "text/plain": [
       "numpy.ndarray"
      ]
     },
     "execution_count": 58,
     "metadata": {},
     "output_type": "execute_result"
    }
   ],
   "source": [
    "type(embedding_matrix[0])"
   ]
  },
  {
   "cell_type": "code",
   "execution_count": null,
   "metadata": {},
   "outputs": [],
   "source": []
  }
 ],
 "metadata": {
  "kernelspec": {
   "display_name": "Python 3.10.5 64-bit",
   "language": "python",
   "name": "python3"
  },
  "language_info": {
   "codemirror_mode": {
    "name": "ipython",
    "version": 3
   },
   "file_extension": ".py",
   "mimetype": "text/x-python",
   "name": "python",
   "nbconvert_exporter": "python",
   "pygments_lexer": "ipython3",
   "version": "3.10.5"
  },
  "orig_nbformat": 4,
  "vscode": {
   "interpreter": {
    "hash": "a6fd66f23f291c7a70d0834aa3c84fb3d8a0e23845cff3812a1a92aee36ee1d6"
   }
  }
 },
 "nbformat": 4,
 "nbformat_minor": 2
}
